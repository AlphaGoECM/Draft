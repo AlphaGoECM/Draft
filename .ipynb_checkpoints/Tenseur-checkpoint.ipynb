{
 "cells": [
  {
   "cell_type": "code",
   "execution_count": 2,
   "metadata": {
    "scrolled": false
   },
   "outputs": [],
   "source": [
    "#import du fichier sgf\n",
    "from sgf_to_states import sgf_to_states\n",
    "nom_fichier=\"Mi_Yuting-Park_Junghwan.sgf\"\n",
    "taille_plateau=19\n",
    "\n",
    "liste = sgf_to_states(nom_fichier,taille_plateau)"
   ]
  },
  {
   "cell_type": "code",
   "execution_count": 3,
   "metadata": {},
   "outputs": [
    {
     "name": "stdout",
     "output_type": "stream",
     "text": [
      "X . . . . . . . . . . . . . . . . . .\n",
      ". . . . . . . . * * * . . * . . . . .\n",
      ". . . o . . . * . * o * * o o . o . .\n",
      ". . o o * . . . * o o o . . . * o . .\n",
      ". . * . o . . . o . . . . . o o * * .\n",
      ". * . * o . . . . . . . . . . * o * .\n",
      ". . o * o . . . . . . . . . . . . . .\n",
      ". * * o . . . . . . . . . . . . * . .\n",
      ". * o o . . . . . . . . . . . . . . .\n",
      ". . * * . . . . . + . . . . . + o . .\n",
      ". . . . . . . . . . . . . . . . . . .\n",
      ". . . . . . . . . . . . . . . . . . .\n",
      ". . . . . . . . . . . . . . . . o . .\n",
      ". . o . . . . . . . . . . . . . . . .\n",
      ". . . . . . . . . . . . . . . . . . .\n",
      ". . o o . . . . . + . . . . . + * . .\n",
      ". . * . . . . . . . . . . * . . . . .\n",
      ". * . * . o . . . . . . . . . . . . .\n",
      ". . . . . . . . . . . . . . . . . . .\n",
      "X . . . . . . . . . . . . . . . . . .\n",
      ". . . . . . . . * * * . . * . . . . .\n",
      ". . . o . . . * . * o * * o o . o . .\n",
      ". . o o * . . . * o o o . . . * o . .\n",
      ". . * . o . . . o . . . . . o o * * .\n",
      ". * . * o . . . . . . . . . . * o * .\n",
      ". . o * o . . . . . . . . . . . . . .\n",
      ". * * o . . . . . . . . . . . . * . .\n",
      ". * o o . . . . . . . . . . . . . . .\n",
      ". . * * . . . . . + . . . . . + o . .\n",
      ". o . . . . . . . . . . . . . . . . .\n",
      ". . . . . . . . . . . . . . . . . . .\n",
      ". . . . . . . . . . . . . . . . o . .\n",
      ". . o . . . . . . . . . . . . . . . .\n",
      ". . . . . . . . . . . . . . . . . . .\n",
      ". . o o . . . . . + . . . . . + * . .\n",
      ". . * . . . . . . . . . . * . . . . .\n",
      ". * . * . o . . . . . . . . . . . . .\n",
      ". . . . . . . . . . . . . . . . . . .\n"
     ]
    }
   ],
   "source": [
    "#visualisation\n",
    "from go import View\n",
    "i=59\n",
    "while i<61:\n",
    "    view = View(liste[i])\n",
    "    print (view)\n",
    "    print\n",
    "    i+=1"
   ]
  },
  {
   "cell_type": "markdown",
   "metadata": {},
   "source": [
    "![title](img/Capture.JPG)"
   ]
  },
  {
   "cell_type": "code",
   "execution_count": 4,
   "metadata": {
    "collapsed": true
   },
   "outputs": [],
   "source": [
    "import numpy as np\n",
    "taille=19"
   ]
  },
  {
   "cell_type": "code",
   "execution_count": 7,
   "metadata": {
    "collapsed": true
   },
   "outputs": [],
   "source": [
    "def get_stonecolour(state,taille):\n",
    "    planes = np.zeros((3, taille,taille))\n",
    "    for x,y in state._legal:\n",
    "        if state[x, y] is state.BLACK:\n",
    "            planes[0, x, y] = 1 \n",
    "        if state[x, y] is state.WHITE:\n",
    "            planes[1, x, y] = 1 \n",
    "        if state[x, y] is state.EMPTY:\n",
    "            planes[2, x, y] = 1 \n",
    "    \n",
    "    return planes\n"
   ]
  },
  {
   "cell_type": "code",
   "execution_count": 8,
   "metadata": {
    "scrolled": false
   },
   "outputs": [
    {
     "name": "stdout",
     "output_type": "stream",
     "text": [
      "[[[ 0.  0.  0. ...,  0.  0.  0.]\n",
      "  [ 0.  0.  0. ...,  0.  0.  0.]\n",
      "  [ 0.  0.  0. ...,  0.  0.  1.]\n",
      "  ..., \n",
      "  [ 0.  0.  0. ...,  0.  0.  0.]\n",
      "  [ 0.  0.  0. ...,  1.  0.  0.]\n",
      "  [ 0.  0.  0. ...,  0.  0.  0.]]\n",
      "\n",
      " [[ 0.  0.  0. ...,  0.  0.  0.]\n",
      "  [ 0.  0.  0. ...,  0.  0.  0.]\n",
      "  [ 0.  0.  0. ...,  0.  0.  0.]\n",
      "  ..., \n",
      "  [ 0.  0.  0. ...,  0.  0.  0.]\n",
      "  [ 0.  0.  0. ...,  0.  0.  0.]\n",
      "  [ 0.  0.  0. ...,  0.  0.  0.]]\n",
      "\n",
      " [[ 0.  0.  0. ...,  0.  0.  0.]\n",
      "  [ 0.  0.  0. ...,  0.  0.  0.]\n",
      "  [ 0.  0.  0. ...,  0.  0.  0.]\n",
      "  ..., \n",
      "  [ 0.  0.  0. ...,  0.  0.  0.]\n",
      "  [ 0.  0.  0. ...,  0.  0.  0.]\n",
      "  [ 0.  0.  0. ...,  0.  0.  0.]]]\n"
     ]
    }
   ],
   "source": [
    "#stone colour\n",
    "tenseur_coup60=get_stonecolour(liste[60],taille)\n",
    "print(tenseur_coup60)"
   ]
  },
  {
   "cell_type": "code",
   "execution_count": 9,
   "metadata": {},
   "outputs": [
    {
     "data": {
      "text/plain": [
       "(4, 19, 19)"
      ]
     },
     "execution_count": 9,
     "metadata": {},
     "output_type": "execute_result"
    }
   ],
   "source": [
    "#ones\n",
    "ones=np.ones((1, taille,taille))\n",
    "# ajout de ones au premier tenseur\n",
    "tenseur_coup60=np.concatenate([tenseur_coup60,ones], axis=0)\n",
    "tenseur_coup60.shape"
   ]
  },
  {
   "cell_type": "code",
   "execution_count": 10,
   "metadata": {},
   "outputs": [
    {
     "data": {
      "text/plain": [
       "5"
      ]
     },
     "execution_count": 10,
     "metadata": {},
     "output_type": "execute_result"
    }
   ],
   "source": [
    "from go import Board\n",
    "liste[60].count_liberties(5,7)"
   ]
  },
  {
   "cell_type": "code",
   "execution_count": 11,
   "metadata": {
    "collapsed": true
   },
   "outputs": [],
   "source": [
    "#problème au bord on ne peut pas appeler count_liberties sur les bords du plateau...\n",
    "def get_liberties(state,taille):\n",
    "    planes = np.zeros((8, taille,taille))\n",
    "    for x,y in state._legal:\n",
    "        n_liberties=state.count_liberties(x,y)\n",
    "        if n_liberties>8 :\n",
    "            n_liberties = 8\n",
    "        if not(n_liberties==0):\n",
    "            planes[n_liberties-1,x,y]=1\n",
    "    return planes"
   ]
  },
  {
   "cell_type": "code",
   "execution_count": 14,
   "metadata": {
    "scrolled": false
   },
   "outputs": [
    {
     "name": "stdout",
     "output_type": "stream",
     "text": [
      "[[ 0.  0.  0.  0.  0.  0.  0.  0.  0.  0.  0.  0.  0.  0.  0.  0.  0.  0.\n",
      "   0.]\n",
      " [ 0.  0.  0.  0.  0.  0.  0.  0.  0.  0.  0.  0.  0.  0.  0.  0.  0.  0.\n",
      "   0.]\n",
      " [ 0.  0.  0.  0.  0.  0.  0.  0.  0.  0.  0.  0.  0.  0.  0.  0.  0.  0.\n",
      "   0.]\n",
      " [ 0.  0.  0.  0.  0.  0.  0.  1.  0.  1.  0.  0.  0.  0.  0.  0.  0.  0.\n",
      "   0.]\n",
      " [ 0.  0.  0.  0.  0.  0.  1.  1.  1.  1.  0.  0.  0.  0.  0.  0.  0.  0.\n",
      "   0.]\n",
      " [ 0.  0.  0.  0.  1.  0.  0.  0.  0.  0.  0.  0.  0.  0.  0.  0.  0.  0.\n",
      "   0.]\n",
      " [ 0.  0.  0.  0.  0.  0.  0.  0.  0.  0.  0.  0.  0.  0.  0.  0.  0.  0.\n",
      "   0.]\n",
      " [ 0.  0.  0.  0.  0.  0.  0.  0.  0.  0.  0.  0.  0.  0.  0.  0.  0.  0.\n",
      "   0.]\n",
      " [ 0.  0.  0.  0.  0.  0.  0.  0.  0.  0.  0.  0.  0.  0.  0.  0.  0.  0.\n",
      "   0.]\n",
      " [ 0.  0.  0.  0.  1.  0.  0.  0.  0.  0.  0.  0.  0.  0.  0.  0.  0.  0.\n",
      "   0.]\n",
      " [ 0.  0.  0.  0.  0.  0.  0.  0.  0.  0.  0.  0.  0.  0.  0.  0.  0.  0.\n",
      "   0.]\n",
      " [ 0.  0.  0.  0.  0.  0.  0.  0.  0.  0.  0.  0.  0.  0.  0.  0.  0.  0.\n",
      "   0.]\n",
      " [ 0.  0.  0.  0.  0.  0.  0.  0.  0.  0.  0.  0.  0.  0.  0.  0.  0.  0.\n",
      "   0.]\n",
      " [ 0.  0.  0.  0.  0.  0.  0.  0.  0.  0.  0.  0.  0.  0.  0.  0.  0.  0.\n",
      "   0.]\n",
      " [ 0.  0.  0.  0.  0.  0.  0.  0.  0.  0.  0.  0.  0.  0.  0.  0.  0.  0.\n",
      "   0.]\n",
      " [ 0.  0.  0.  0.  0.  0.  0.  0.  0.  0.  0.  0.  0.  0.  0.  0.  0.  0.\n",
      "   0.]\n",
      " [ 0.  0.  0.  0.  1.  0.  1.  0.  0.  0.  0.  0.  0.  0.  0.  0.  0.  0.\n",
      "   0.]\n",
      " [ 0.  0.  0.  0.  0.  0.  0.  0.  0.  0.  0.  0.  0.  0.  0.  0.  0.  0.\n",
      "   0.]\n",
      " [ 0.  0.  0.  0.  0.  0.  0.  0.  0.  0.  0.  0.  0.  0.  0.  0.  0.  0.\n",
      "   0.]]\n",
      "X . . . . . . . . . . . . . . . . . .\n",
      ". . . . . . . . * * * . . * . . . . .\n",
      ". . . o . . . * . * o * * o o . o . .\n",
      ". . o o * . . . * o o o . . . * o . .\n",
      ". . * . o . . . o . . . . . o o * * .\n",
      ". * . * o . . . . . . . . . . * o * .\n",
      ". . o * o . . . . . . . . . . . . . .\n",
      ". * * o . . . . . . . . . . . . * . .\n",
      ". * o o . . . . . . . . . . . . . . .\n",
      ". . * * . . . . . + . . . . . + o . .\n",
      ". o . . . . . . . . . . . . . . . . .\n",
      ". . . . . . . . . . . . . . . . . . .\n",
      ". . . . . . . . . . . . . . . . o . .\n",
      ". . o . . . . . . . . . . . . . . . .\n",
      ". . . . . . . . . . . . . . . . . . .\n",
      ". . o o . . . . . + . . . . . + * . .\n",
      ". . * . . . . . . . . . . * . . . . .\n",
      ". * . * . o . . . . . . . . . . . . .\n",
      ". . . . . . . . . . . . . . . . . . .\n"
     ]
    }
   ],
   "source": [
    "liberties=get_liberties(liste[60],19)\n",
    "print (liberties[1,:,:])\n",
    "print (View(liste[60]))"
   ]
  },
  {
   "cell_type": "code",
   "execution_count": null,
   "metadata": {
    "collapsed": true
   },
   "outputs": [],
   "source": [
    "# ajout de liberties au 1er tenseur\n",
    "tenseur_coup60=np.concatenate([tenseur_coup60,liberties], axis=0)\n",
    "tenseur_coup60.shape"
   ]
  },
  {
   "cell_type": "code",
   "execution_count": null,
   "metadata": {
    "collapsed": true
   },
   "outputs": [],
   "source": [
    "#/!\\ fonction qui ne donne pas exactement l'historique de la partie masi le dernier changement de couleur d'une case /!\\\n",
    "def get_history(state,taille):\n",
    "    planes = np.zeros((8, taille,taille))\n",
    "    for x,y in state._legal:\n",
    "        i=1\n",
    "        case=repr(state[x,y])                           # jmet un +1 psk tu as mis un +1\n",
    "        while i <8 : \n",
    "            hist = state._history[-i][0]\n",
    "            case_hist = repr(hist[x][y])\n",
    "            if (not(case==hist)and not(case==\"Empty\")): # on teste si la case a changé et i sert à savoir quand\n",
    "                planes[i-1,x,y]=1\n",
    "                i=9                                     # on retient que le dernier changement de couleur d'une case donc on passse à la suivante\n",
    "            i=i+1\n",
    "        if (not(case==\"Empty\") and (i==8)):             # toutes les cases non vides qu'on a pas prises sont >8\n",
    "            planes[7,x,y]=1\n",
    "    return planes"
   ]
  },
  {
   "cell_type": "code",
   "execution_count": null,
   "metadata": {
    "collapsed": true,
    "scrolled": true
   },
   "outputs": [],
   "source": [
    "history=get_history(liste[60],19)\n",
    "print (history[0,:,:])\n",
    "print (View(liste[60]))\n",
    "print (View(liste[59]))\n",
    "print (View(liste[60]._history[-1]))"
   ]
  },
  {
   "cell_type": "code",
   "execution_count": null,
   "metadata": {
    "collapsed": true
   },
   "outputs": [],
   "source": [
    "def get_captured(state,taille):\n",
    "    planes = np.zeros((8, taille,taille))\n",
    "    for x,y in state._legal:\n",
    "        while y<taille:\n",
    "            state_copy = state\n",
    "            n_captured = state_copy._take_pieces(x, y)\n",
    "            if n_captured>8 :\n",
    "                n_captured = 8\n",
    "            if not(n_captured==0):\n",
    "                planes[n_captured-1,x,y]=1\n",
    "\n",
    "    return planes"
   ]
  },
  {
   "cell_type": "code",
   "execution_count": null,
   "metadata": {
    "collapsed": true,
    "scrolled": true
   },
   "outputs": [],
   "source": [
    "captured=get_captured(liste[60],19)\n",
    "print (liberties[3,:,:])\n",
    "print (View(liste[60]))"
   ]
  }
 ],
 "metadata": {
  "anaconda-cloud": {},
  "kernelspec": {
   "display_name": "Python 3",
   "language": "python",
   "name": "python3"
  },
  "language_info": {
   "codemirror_mode": {
    "name": "ipython",
    "version": 3
   },
   "file_extension": ".py",
   "mimetype": "text/x-python",
   "name": "python",
   "nbconvert_exporter": "python",
   "pygments_lexer": "ipython3",
   "version": "3.6.3"
  }
 },
 "nbformat": 4,
 "nbformat_minor": 1
}
