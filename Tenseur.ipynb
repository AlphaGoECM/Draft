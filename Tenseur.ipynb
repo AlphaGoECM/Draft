{
 "cells": [
  {
   "cell_type": "code",
   "execution_count": 12,
   "metadata": {
    "collapsed": false,
    "scrolled": false
   },
   "outputs": [],
   "source": [
    "#import du fichier sgf\n",
    "from sgf_to_states import sgf_to_states\n",
    "nom_fichier=\"Mi_Yuting-Park_Junghwan.sgf\"\n",
    "taille_plateau=19\n",
    "\n",
    "liste = sgf_to_states(nom_fichier,taille_plateau)"
   ]
  },
  {
   "cell_type": "code",
   "execution_count": 13,
   "metadata": {
    "collapsed": false
   },
   "outputs": [
    {
     "name": "stdout",
     "output_type": "stream",
     "text": [
      "X . . . . . . . . . . . . . . . . . .\n",
      ". . . . . . . . * * * . . * . . . . .\n",
      ". . . o . . . * . * o * * o o . o . .\n",
      ". . o o * . . . * o o o . . . * o . .\n",
      ". . * . o . . . o . . . . . o o * * .\n",
      ". * . * o . . . . . . . . . . * o * .\n",
      ". . o * o . . . . . . . . . . . . . .\n",
      ". * * o . . . . . . . . . . . . * . .\n",
      ". * o o . . . . . . . . . . . . . . .\n",
      ". . * * . . . . . + . . . . . + o . .\n",
      ". . . . . . . . . . . . . . . . . . .\n",
      ". . . . . . . . . . . . . . . . . . .\n",
      ". . . . . . . . . . . . . . . . o . .\n",
      ". . o . . . . . . . . . . . . . . . .\n",
      ". . . . . . . . . . . . . . . . . . .\n",
      ". . o o . . . . . + . . . . . + * . .\n",
      ". . * . . . . . . . . . . * . . . . .\n",
      ". * . * . o . . . . . . . . . . . . .\n",
      ". . . . . . . . . . . . . . . . . . .\n",
      "\n",
      "X . . . . . . . . . . . . . . . . . .\n",
      ". . . . . . . . * * * . . * . . . . .\n",
      ". . . o . . . * . * o * * o o . o . .\n",
      ". . o o * . . . * o o o . . . * o . .\n",
      ". . * . o . . . o . . . . . o o * * .\n",
      ". * . * o . . . . . . . . . . * o * .\n",
      ". . o * o . . . . . . . . . . . . . .\n",
      ". * * o . . . . . . . . . . . . * . .\n",
      ". * o o . . . . . . . . . . . . . . .\n",
      ". . * * . . . . . + . . . . . + o . .\n",
      ". o . . . . . . . . . . . . . . . . .\n",
      ". . . . . . . . . . . . . . . . . . .\n",
      ". . . . . . . . . . . . . . . . o . .\n",
      ". . o . . . . . . . . . . . . . . . .\n",
      ". . . . . . . . . . . . . . . . . . .\n",
      ". . o o . . . . . + . . . . . + * . .\n",
      ". . * . . . . . . . . . . * . . . . .\n",
      ". * . * . o . . . . . . . . . . . . .\n",
      ". . . . . . . . . . . . . . . . . . .\n",
      "\n"
     ]
    }
   ],
   "source": [
    "#visualisation\n",
    "from go import View\n",
    "i=59\n",
    "while i<61:\n",
    "    view = View(liste[i])\n",
    "    print (view)\n",
    "    print\n",
    "    i+=1"
   ]
  },
  {
   "cell_type": "markdown",
   "metadata": {},
   "source": [
    "![title](img/Capture.JPG)"
   ]
  },
  {
   "cell_type": "code",
   "execution_count": 14,
   "metadata": {
    "collapsed": true
   },
   "outputs": [],
   "source": [
    "import numpy as np\n",
    "taille=19"
   ]
  },
  {
   "cell_type": "code",
   "execution_count": 15,
   "metadata": {
    "collapsed": true
   },
   "outputs": [],
   "source": [
    "def get_stonecolour(state,taille):\n",
    "    planes = np.zeros((3, taille,taille))\n",
    "    for x,y in state._legal:\n",
    "        if state[x, y] is state.BLACK:\n",
    "            planes[0, x, y] = 1 \n",
    "        if state[x, y] is state.WHITE:\n",
    "            planes[1, x, y] = 1 \n",
    "        if state[x, y] is state.EMPTY:\n",
    "            planes[2, x, y] = 1 \n",
    "    \n",
    "    return planes\n"
   ]
  },
  {
   "cell_type": "code",
   "execution_count": 16,
   "metadata": {
    "collapsed": false,
    "scrolled": false
   },
   "outputs": [
    {
     "name": "stdout",
     "output_type": "stream",
     "text": [
      "[[[ 0.  0.  0. ...,  0.  0.  0.]\n",
      "  [ 0.  0.  0. ...,  0.  0.  0.]\n",
      "  [ 0.  0.  0. ...,  0.  0.  1.]\n",
      "  ..., \n",
      "  [ 0.  0.  0. ...,  0.  0.  0.]\n",
      "  [ 0.  0.  0. ...,  1.  0.  0.]\n",
      "  [ 0.  0.  0. ...,  0.  0.  0.]]\n",
      "\n",
      " [[ 0.  0.  0. ...,  0.  0.  0.]\n",
      "  [ 0.  0.  0. ...,  0.  0.  0.]\n",
      "  [ 0.  0.  0. ...,  0.  0.  0.]\n",
      "  ..., \n",
      "  [ 0.  0.  0. ...,  0.  0.  0.]\n",
      "  [ 0.  0.  0. ...,  0.  0.  0.]\n",
      "  [ 0.  0.  0. ...,  0.  0.  0.]]\n",
      "\n",
      " [[ 0.  0.  0. ...,  0.  0.  0.]\n",
      "  [ 0.  0.  0. ...,  0.  0.  0.]\n",
      "  [ 0.  0.  0. ...,  0.  0.  0.]\n",
      "  ..., \n",
      "  [ 0.  0.  0. ...,  0.  0.  0.]\n",
      "  [ 0.  0.  0. ...,  0.  0.  0.]\n",
      "  [ 0.  0.  0. ...,  0.  0.  0.]]]\n"
     ]
    }
   ],
   "source": [
    "#stone colour\n",
    "tenseur_coup60=get_stonecolour(liste[60],taille)\n",
    "print(tenseur_coup60)"
   ]
  },
  {
   "cell_type": "code",
   "execution_count": 17,
   "metadata": {
    "collapsed": false
   },
   "outputs": [
    {
     "data": {
      "text/plain": [
       "(4L, 19L, 19L)"
      ]
     },
     "execution_count": 17,
     "metadata": {},
     "output_type": "execute_result"
    }
   ],
   "source": [
    "#ones\n",
    "ones=np.ones((1, taille,taille))\n",
    "# ajout de ones au premier tenseur\n",
    "tenseur_coup60=np.concatenate([tenseur_coup60,ones], axis=0)\n",
    "tenseur_coup60.shape"
   ]
  },
  {
   "cell_type": "code",
   "execution_count": 18,
   "metadata": {
    "collapsed": false
   },
   "outputs": [
    {
     "data": {
      "text/plain": [
       "5"
      ]
     },
     "execution_count": 18,
     "metadata": {},
     "output_type": "execute_result"
    }
   ],
   "source": [
    "from go import Board\n",
    "liste[60].count_liberties(5,7)"
   ]
  },
  {
   "cell_type": "code",
   "execution_count": 19,
   "metadata": {
    "collapsed": true
   },
   "outputs": [],
   "source": [
    "#problème au bord on ne peut pas appeler count_liberties sur les bords du plateau...\n",
    "def get_liberties(state,taille):\n",
    "    planes = np.zeros((8, taille,taille))\n",
    "    for x,y in state._legal:\n",
    "        n_liberties=state.count_liberties(x,y)\n",
    "        if n_liberties>8 :\n",
    "            n_liberties = 8\n",
    "        if not(n_liberties==0):   #pk ?\n",
    "            planes[n_liberties-1,x,y]=1\n",
    "    return planes"
   ]
  },
  {
   "cell_type": "code",
   "execution_count": 20,
   "metadata": {
    "collapsed": false,
    "scrolled": false
   },
   "outputs": [
    {
     "name": "stdout",
     "output_type": "stream",
     "text": [
      "[[ 0.  0.  0.  0.  0.  0.  0.  0.  0.  0.  0.  0.  0.  0.  0.  0.  0.  0.\n",
      "   0.]\n",
      " [ 0.  0.  0.  0.  0.  0.  0.  0.  0.  0.  0.  0.  0.  0.  0.  0.  0.  0.\n",
      "   0.]\n",
      " [ 0.  0.  0.  0.  0.  0.  0.  0.  0.  0.  0.  0.  0.  0.  0.  0.  0.  0.\n",
      "   0.]\n",
      " [ 0.  0.  0.  0.  0.  0.  0.  1.  0.  1.  0.  0.  0.  0.  0.  0.  0.  0.\n",
      "   0.]\n",
      " [ 0.  0.  0.  0.  0.  0.  1.  1.  1.  1.  0.  0.  0.  0.  0.  0.  0.  0.\n",
      "   0.]\n",
      " [ 0.  0.  0.  0.  1.  0.  0.  0.  0.  0.  0.  0.  0.  0.  0.  0.  0.  0.\n",
      "   0.]\n",
      " [ 0.  0.  0.  0.  0.  0.  0.  0.  0.  0.  0.  0.  0.  0.  0.  0.  0.  0.\n",
      "   0.]\n",
      " [ 0.  0.  0.  0.  0.  0.  0.  0.  0.  0.  0.  0.  0.  0.  0.  0.  0.  0.\n",
      "   0.]\n",
      " [ 0.  0.  0.  0.  0.  0.  0.  0.  0.  0.  0.  0.  0.  0.  0.  0.  0.  0.\n",
      "   0.]\n",
      " [ 0.  0.  0.  0.  1.  0.  0.  0.  0.  0.  0.  0.  0.  0.  0.  0.  0.  0.\n",
      "   0.]\n",
      " [ 0.  0.  0.  0.  0.  0.  0.  0.  0.  0.  0.  0.  0.  0.  0.  0.  0.  0.\n",
      "   0.]\n",
      " [ 0.  0.  0.  0.  0.  0.  0.  0.  0.  0.  0.  0.  0.  0.  0.  0.  0.  0.\n",
      "   0.]\n",
      " [ 0.  0.  0.  0.  0.  0.  0.  0.  0.  0.  0.  0.  0.  0.  0.  0.  0.  0.\n",
      "   0.]\n",
      " [ 0.  0.  0.  0.  0.  0.  0.  0.  0.  0.  0.  0.  0.  0.  0.  0.  0.  0.\n",
      "   0.]\n",
      " [ 0.  0.  0.  0.  0.  0.  0.  0.  0.  0.  0.  0.  0.  0.  0.  0.  0.  0.\n",
      "   0.]\n",
      " [ 0.  0.  0.  0.  0.  0.  0.  0.  0.  0.  0.  0.  0.  0.  0.  0.  0.  0.\n",
      "   0.]\n",
      " [ 0.  0.  0.  0.  1.  0.  1.  0.  0.  0.  0.  0.  0.  0.  0.  0.  0.  0.\n",
      "   0.]\n",
      " [ 0.  0.  0.  0.  0.  0.  0.  0.  0.  0.  0.  0.  0.  0.  0.  0.  0.  0.\n",
      "   0.]\n",
      " [ 0.  0.  0.  0.  0.  0.  0.  0.  0.  0.  0.  0.  0.  0.  0.  0.  0.  0.\n",
      "   0.]]\n",
      "X . . . . . . . . . . . . . . . . . .\n",
      ". . . . . . . . * * * . . * . . . . .\n",
      ". . . o . . . * . * o * * o o . o . .\n",
      ". . o o * . . . * o o o . . . * o . .\n",
      ". . * . o . . . o . . . . . o o * * .\n",
      ". * . * o . . . . . . . . . . * o * .\n",
      ". . o * o . . . . . . . . . . . . . .\n",
      ". * * o . . . . . . . . . . . . * . .\n",
      ". * o o . . . . . . . . . . . . . . .\n",
      ". . * * . . . . . + . . . . . + o . .\n",
      ". o . . . . . . . . . . . . . . . . .\n",
      ". . . . . . . . . . . . . . . . . . .\n",
      ". . . . . . . . . . . . . . . . o . .\n",
      ". . o . . . . . . . . . . . . . . . .\n",
      ". . . . . . . . . . . . . . . . . . .\n",
      ". . o o . . . . . + . . . . . + * . .\n",
      ". . * . . . . . . . . . . * . . . . .\n",
      ". * . * . o . . . . . . . . . . . . .\n",
      ". . . . . . . . . . . . . . . . . . .\n"
     ]
    }
   ],
   "source": [
    "liberties=get_liberties(liste[60],19)\n",
    "print (liberties[1,:,:])\n",
    "print (View(liste[60]))"
   ]
  },
  {
   "cell_type": "code",
   "execution_count": 21,
   "metadata": {
    "collapsed": false
   },
   "outputs": [
    {
     "data": {
      "text/plain": [
       "(12L, 19L, 19L)"
      ]
     },
     "execution_count": 21,
     "metadata": {},
     "output_type": "execute_result"
    }
   ],
   "source": [
    "# ajout de liberties au 1er tenseur\n",
    "tenseur_coup60=np.concatenate([tenseur_coup60,liberties], axis=0)\n",
    "tenseur_coup60.shape"
   ]
  },
  {
   "cell_type": "code",
   "execution_count": 22,
   "metadata": {
    "collapsed": true
   },
   "outputs": [],
   "source": [
    "#/!\\ fonction qui ne donne pas exactement l'historique de la partie masi le dernier changement de couleur d'une case /!\\\n",
    "def get_history(state,taille):\n",
    "    planes = np.zeros((8, taille,taille))\n",
    "    for x,y in state._legal:\n",
    "        i=1\n",
    "        case=repr(state[x,y])                           # jmet un +1 psk tu as mis un +1\n",
    "        while i <8 : \n",
    "            hist = state._history[-i][0]\n",
    "            case_hist = repr(hist[x][y])\n",
    "            if (not(case==hist)and not(case==\"Empty\")): # on teste si la case a changé et i sert à savoir quand\n",
    "                planes[i-1,x,y]=1\n",
    "                i=9                                     # on retient que le dernier changement de couleur d'une case donc on passse à la suivante\n",
    "            i=i+1\n",
    "        if (not(case==\"Empty\") and (i==8)):             # toutes les cases non vides qu'on a pas prises sont >8\n",
    "            planes[7,x,y]=1\n",
    "    return planes"
   ]
  },
  {
   "cell_type": "code",
   "execution_count": 23,
   "metadata": {
    "collapsed": false,
    "scrolled": true
   },
   "outputs": [
    {
     "name": "stdout",
     "output_type": "stream",
     "text": [
      "[[ 0.  0.  0.  0.  0.  0.  0.  0.  0.  0.  0.  0.  0.  0.  0.  0.  0.  0.\n",
      "   0.]\n",
      " [ 0.  0.  0.  0.  0.  0.  0.  0.  0.  0.  0.  0.  0.  0.  0.  0.  0.  0.\n",
      "   0.]\n",
      " [ 0.  0.  0.  0.  0.  0.  1.  0.  1.  1.  0.  1.  0.  0.  0.  0.  0.  0.\n",
      "   1.]\n",
      " [ 0.  0.  0.  0.  1.  1.  0.  1.  1.  1.  1.  0.  0.  0.  1.  0.  1.  1.\n",
      "   0.]\n",
      " [ 0.  0.  0.  1.  1.  0.  1.  1.  1.  1.  1.  0.  0.  0.  0.  0.  1.  0.\n",
      "   1.]\n",
      " [ 0.  0.  0.  0.  1.  1.  1.  1.  0.  0.  0.  0.  0.  0.  0.  0.  0.  0.\n",
      "   0.]\n",
      " [ 0.  0.  0.  0.  0.  0.  0.  0.  0.  0.  0.  0.  0.  0.  0.  0.  0.  0.\n",
      "   1.]\n",
      " [ 0.  0.  0.  0.  0.  0.  0.  0.  0.  0.  0.  0.  0.  0.  0.  0.  0.  0.\n",
      "   0.]\n",
      " [ 0.  0.  0.  1.  0.  0.  0.  0.  0.  0.  0.  0.  0.  0.  0.  0.  0.  0.\n",
      "   0.]\n",
      " [ 0.  0.  1.  0.  1.  1.  0.  0.  0.  0.  0.  0.  0.  0.  0.  0.  0.  0.\n",
      "   0.]\n",
      " [ 0.  0.  1.  1.  1.  0.  0.  0.  0.  0.  0.  0.  0.  0.  0.  0.  0.  0.\n",
      "   0.]\n",
      " [ 0.  0.  1.  1.  1.  0.  0.  0.  0.  0.  0.  0.  0.  0.  0.  0.  0.  0.\n",
      "   0.]\n",
      " [ 0.  0.  0.  1.  1.  0.  0.  0.  0.  0.  0.  0.  0.  0.  0.  0.  0.  0.\n",
      "   0.]\n",
      " [ 0.  0.  0.  1.  0.  0.  0.  0.  0.  0.  0.  0.  0.  0.  0.  0.  0.  0.\n",
      "   0.]\n",
      " [ 0.  0.  1.  1.  0.  0.  0.  0.  0.  0.  0.  0.  0.  0.  0.  0.  0.  1.\n",
      "   0.]\n",
      " [ 0.  0.  0.  1.  0.  1.  0.  0.  0.  0.  0.  0.  0.  0.  0.  0.  0.  0.\n",
      "   0.]\n",
      " [ 0.  0.  0.  0.  1.  1.  1.  0.  0.  0.  0.  0.  0.  0.  0.  0.  0.  0.\n",
      "   0.]\n",
      " [ 0.  0.  0.  1.  1.  1.  1.  0.  1.  0.  1.  0.  0.  1.  0.  0.  1.  0.\n",
      "   0.]\n",
      " [ 0.  0.  0.  0.  0.  1.  1.  0.  0.  0.  0.  0.  0.  0.  0.  0.  0.  0.\n",
      "   0.]]\n",
      "X . . . . . . . . . . . . . . . . . .\n",
      ". . . . . . . . * * * . . * . . . . .\n",
      ". . . o . . . * . * o * * o o . o . .\n",
      ". . o o * . . . * o o o . . . * o . .\n",
      ". . * . o . . . o . . . . . o o * * .\n",
      ". * . * o . . . . . . . . . . * o * .\n",
      ". . o * o . . . . . . . . . . . . . .\n",
      ". * * o . . . . . . . . . . . . * . .\n",
      ". * o o . . . . . . . . . . . . . . .\n",
      ". . * * . . . . . + . . . . . + o . .\n",
      ". o . . . . . . . . . . . . . . . . .\n",
      ". . . . . . . . . . . . . . . . . . .\n",
      ". . . . . . . . . . . . . . . . o . .\n",
      ". . o . . . . . . . . . . . . . . . .\n",
      ". . . . . . . . . . . . . . . . . . .\n",
      ". . o o . . . . . + . . . . . + * . .\n",
      ". . * . . . . . . . . . . * . . . . .\n",
      ". * . * . o . . . . . . . . . . . . .\n",
      ". . . . . . . . . . . . . . . . . . .\n",
      "X . . . . . . . . . . . . . . . . . .\n",
      ". . . . . . . . * * * . . * . . . . .\n",
      ". . . o . . . * . * o * * o o . o . .\n",
      ". . o o * . . . * o o o . . . * o . .\n",
      ". . * . o . . . o . . . . . o o * * .\n",
      ". * . * o . . . . . . . . . . * o * .\n",
      ". . o * o . . . . . . . . . . . . . .\n",
      ". * * o . . . . . . . . . . . . * . .\n",
      ". * o o . . . . . . . . . . . . . . .\n",
      ". . * * . . . . . + . . . . . + o . .\n",
      ". . . . . . . . . . . . . . . . . . .\n",
      ". . . . . . . . . . . . . . . . . . .\n",
      ". . . . . . . . . . . . . . . . o . .\n",
      ". . o . . . . . . . . . . . . . . . .\n",
      ". . . . . . . . . . . . . . . . . . .\n",
      ". . o o . . . . . + . . . . . + * . .\n",
      ". . * . . . . . . . . . . * . . . . .\n",
      ". * . * . o . . . . . . . . . . . . .\n",
      ". . . . . . . . . . . . . . . . . . .\n"
     ]
    },
    {
     "ename": "AttributeError",
     "evalue": "'State' object has no attribute '_width'",
     "output_type": "error",
     "traceback": [
      "\u001b[0;31m---------------------------------------------------------------------------\u001b[0m",
      "\u001b[0;31mAttributeError\u001b[0m                            Traceback (most recent call last)",
      "\u001b[0;32m<ipython-input-23-c648b0b7cdc9>\u001b[0m in \u001b[0;36m<module>\u001b[0;34m()\u001b[0m\n\u001b[1;32m      3\u001b[0m \u001b[1;32mprint\u001b[0m \u001b[1;33m(\u001b[0m\u001b[0mView\u001b[0m\u001b[1;33m(\u001b[0m\u001b[0mliste\u001b[0m\u001b[1;33m[\u001b[0m\u001b[1;36m60\u001b[0m\u001b[1;33m]\u001b[0m\u001b[1;33m)\u001b[0m\u001b[1;33m)\u001b[0m\u001b[1;33m\u001b[0m\u001b[0m\n\u001b[1;32m      4\u001b[0m \u001b[1;32mprint\u001b[0m \u001b[1;33m(\u001b[0m\u001b[0mView\u001b[0m\u001b[1;33m(\u001b[0m\u001b[0mliste\u001b[0m\u001b[1;33m[\u001b[0m\u001b[1;36m59\u001b[0m\u001b[1;33m]\u001b[0m\u001b[1;33m)\u001b[0m\u001b[1;33m)\u001b[0m\u001b[1;33m\u001b[0m\u001b[0m\n\u001b[0;32m----> 5\u001b[0;31m \u001b[1;32mprint\u001b[0m \u001b[1;33m(\u001b[0m\u001b[0mView\u001b[0m\u001b[1;33m(\u001b[0m\u001b[0mliste\u001b[0m\u001b[1;33m[\u001b[0m\u001b[1;36m60\u001b[0m\u001b[1;33m]\u001b[0m\u001b[1;33m.\u001b[0m\u001b[0m_history\u001b[0m\u001b[1;33m[\u001b[0m\u001b[1;33m-\u001b[0m\u001b[1;36m1\u001b[0m\u001b[1;33m]\u001b[0m\u001b[1;33m)\u001b[0m\u001b[1;33m)\u001b[0m\u001b[1;33m\u001b[0m\u001b[0m\n\u001b[0m",
      "\u001b[0;32mC:\\Users\\vincent\\Desktop\\Alphago\\Draft-master\\go\\view.py\u001b[0m in \u001b[0;36m__init__\u001b[0;34m(self, board)\u001b[0m\n\u001b[1;32m     18\u001b[0m         \u001b[0mself\u001b[0m\u001b[1;33m.\u001b[0m\u001b[0m_cursor\u001b[0m \u001b[1;33m=\u001b[0m \u001b[1;33m(\u001b[0m\u001b[1;36m1\u001b[0m\u001b[1;33m,\u001b[0m \u001b[1;36m1\u001b[0m\u001b[1;33m)\u001b[0m\u001b[1;33m\u001b[0m\u001b[0m\n\u001b[1;32m     19\u001b[0m \u001b[1;33m\u001b[0m\u001b[0m\n\u001b[0;32m---> 20\u001b[0;31m         \u001b[0mself\u001b[0m\u001b[1;33m.\u001b[0m\u001b[0m_hoshis\u001b[0m \u001b[1;33m=\u001b[0m \u001b[0mself\u001b[0m\u001b[1;33m.\u001b[0m\u001b[0m_get_hoshis\u001b[0m\u001b[1;33m(\u001b[0m\u001b[0mboard\u001b[0m\u001b[1;33m.\u001b[0m\u001b[0m_width\u001b[0m\u001b[1;33m)\u001b[0m\u001b[1;33m\u001b[0m\u001b[0m\n\u001b[0m\u001b[1;32m     21\u001b[0m \u001b[1;33m\u001b[0m\u001b[0m\n\u001b[1;32m     22\u001b[0m         super(View, self).__init__(\n",
      "\u001b[0;31mAttributeError\u001b[0m: 'State' object has no attribute '_width'"
     ]
    }
   ],
   "source": [
    "history=get_history(liste[60],19)\n",
    "print (history[0,:,:])\n",
    "print (View(liste[60]))\n",
    "print (View(liste[59]))\n",
    "print (View(liste[60]._history[-1]))"
   ]
  },
  {
   "cell_type": "code",
   "execution_count": 24,
   "metadata": {
    "collapsed": true
   },
   "outputs": [],
   "source": [
    "def get_captured(state,taille):\n",
    "    planes = np.zeros((8, taille,taille))\n",
    "    for x,y in state._legal:\n",
    "            state_copy = state\n",
    "            n_captured = state_copy._take_pieces(x, y)\n",
    "            if n_captured>8 :\n",
    "                n_captured = 8\n",
    "            if not(n_captured==0):\n",
    "                planes[n_captured-1,x,y]=1\n",
    "\n",
    "    return planes"
   ]
  },
  {
   "cell_type": "code",
   "execution_count": 25,
   "metadata": {
    "collapsed": false,
    "scrolled": true
   },
   "outputs": [
    {
     "name": "stdout",
     "output_type": "stream",
     "text": [
      "[[ 0.  0.  0.  0.  0.  0.  0.  0.  0.  0.  0.  0.  0.  0.  0.  0.  0.  0.\n",
      "   0.]\n",
      " [ 0.  0.  0.  0.  0.  0.  0.  0.  0.  0.  0.  0.  0.  0.  0.  0.  0.  0.\n",
      "   0.]\n",
      " [ 0.  0.  0.  0.  0.  0.  1.  0.  1.  1.  0.  1.  0.  0.  0.  0.  0.  0.\n",
      "   1.]\n",
      " [ 0.  0.  0.  0.  0.  0.  0.  0.  1.  0.  1.  0.  0.  0.  1.  0.  0.  0.\n",
      "   0.]\n",
      " [ 0.  0.  0.  0.  0.  0.  0.  0.  0.  0.  1.  0.  0.  0.  0.  0.  0.  0.\n",
      "   1.]\n",
      " [ 0.  0.  0.  0.  0.  0.  0.  0.  0.  0.  0.  0.  0.  0.  0.  0.  0.  0.\n",
      "   0.]\n",
      " [ 0.  0.  0.  0.  0.  0.  0.  0.  0.  0.  0.  0.  0.  0.  0.  0.  0.  0.\n",
      "   1.]\n",
      " [ 0.  0.  0.  0.  0.  0.  0.  0.  0.  0.  0.  0.  0.  0.  0.  0.  0.  0.\n",
      "   0.]\n",
      " [ 0.  0.  0.  1.  0.  0.  0.  0.  0.  0.  0.  0.  0.  0.  0.  0.  0.  0.\n",
      "   0.]\n",
      " [ 0.  0.  0.  0.  0.  0.  0.  0.  0.  0.  0.  0.  0.  0.  0.  0.  0.  0.\n",
      "   0.]\n",
      " [ 0.  0.  0.  0.  1.  0.  0.  0.  0.  0.  0.  0.  0.  0.  0.  0.  0.  0.\n",
      "   0.]\n",
      " [ 0.  0.  0.  1.  1.  0.  0.  0.  0.  0.  0.  0.  0.  0.  0.  0.  0.  0.\n",
      "   0.]\n",
      " [ 0.  0.  0.  0.  1.  0.  0.  0.  0.  0.  0.  0.  0.  0.  0.  0.  0.  0.\n",
      "   0.]\n",
      " [ 0.  0.  0.  0.  0.  0.  0.  0.  0.  0.  0.  0.  0.  0.  0.  0.  0.  0.\n",
      "   0.]\n",
      " [ 0.  0.  0.  1.  0.  0.  0.  0.  0.  0.  0.  0.  0.  0.  0.  0.  0.  1.\n",
      "   0.]\n",
      " [ 0.  0.  0.  1.  0.  0.  0.  0.  0.  0.  0.  0.  0.  0.  0.  0.  0.  0.\n",
      "   0.]\n",
      " [ 0.  0.  0.  0.  0.  0.  0.  0.  0.  0.  0.  0.  0.  0.  0.  0.  0.  0.\n",
      "   0.]\n",
      " [ 0.  0.  0.  1.  1.  1.  0.  0.  1.  0.  1.  0.  0.  1.  0.  0.  1.  0.\n",
      "   0.]\n",
      " [ 0.  0.  0.  0.  0.  1.  1.  0.  0.  0.  0.  0.  0.  0.  0.  0.  0.  0.\n",
      "   0.]]\n",
      "X . . . . . . . . . . . . . . . . . .\n",
      ". . . . . . . . * * * . . * . . . . .\n",
      ". . . o . . . * . * o * * o o . o . .\n",
      ". . o o * . . . * o o o . . . * o . .\n",
      ". . * . o . . . o . . . . . o o * * .\n",
      ". * . * o . . . . . . . . . . * o * .\n",
      ". . o * o . . . . . . . . . . . . . .\n",
      ". * * o . . . . . . . . . . . . * . .\n",
      ". * o o . . . . . . . . . . . . . . .\n",
      ". . * * . . . . . + . . . . . + o . .\n",
      ". o . . . . . . . . . . . . . . . . .\n",
      ". . . . . . . . . . . . . . . . . . .\n",
      ". . . . . . . . . . . . . . . . o . .\n",
      ". . o . . . . . . . . . . . . . . . .\n",
      ". . . . . . . . . . . . . . . . . . .\n",
      ". . o o . . . . . + . . . . . + * . .\n",
      ". . * . . . . . . . . . . * . . . . .\n",
      ". * . * . o . . . . . . . . . . . . .\n",
      ". . . . . . . . . . . . . . . . . . .\n"
     ]
    }
   ],
   "source": [
    "captured=get_captured(liste[60],19)\n",
    "print (liberties[3,:,:])\n",
    "print (View(liste[60]))"
   ]
  },
  {
   "cell_type": "code",
   "execution_count": 65,
   "metadata": {
    "collapsed": false
   },
   "outputs": [],
   "source": [
    "#visualisation d'un layer\n",
    "def vis_layer(layer,num_layer):\n",
    "    x=0\n",
    "\n",
    "    taille=len(layer[num_layer,:,:])\n",
    "    while x < taille:\n",
    "        string =\"\"\n",
    "        y=0\n",
    "        while y < taille:\n",
    "            if layer[num_layer,y,x]==1:\n",
    "                string = string + \" 1\"\n",
    "                \n",
    "            else:\n",
    "                string = string + \" .\"\n",
    "            y+=1\n",
    "        print string\n",
    "        x+=1"
   ]
  },
  {
   "cell_type": "code",
   "execution_count": 70,
   "metadata": {
    "collapsed": false
   },
   "outputs": [
    {
     "name": "stdout",
     "output_type": "stream",
     "text": [
      " . . . . . . . . . . . . . . . . . . .\n",
      " . . . . . . . . . . . . . . . . . . .\n",
      " . . . . . . . . . 1 1 1 . . 1 . . . .\n",
      " . . . . . . . . 1 . 1 . 1 1 . . . . .\n",
      " . . . . . 1 . . . 1 . . . . . . 1 . .\n",
      " . . . 1 . . . . . . . . . . . . . 1 1\n",
      " . . 1 . 1 . . . . . . . . . . . 1 . 1\n",
      " . . . . 1 . . . . . . . . . . . . . .\n",
      " . . 1 1 . . . . . . . . . . . . . 1 .\n",
      " . . 1 . . . . . . . . . . . . . . . .\n",
      " . . . 1 1 . . . . . . . . . . . . . .\n",
      " . . . . . . . . . . . . . . . . . . .\n",
      " . . . . . . . . . . . . . . . . . . .\n",
      " . . . . . . . . . . . . . . . . . . .\n",
      " . . . . . . . . . . . . . . . . . . .\n",
      " . . . . . . . . . . . . . . . . . . .\n",
      " . . . . . . . . . . . . . . . . . 1 .\n",
      " . . . 1 . . . . . . . . . . 1 . . . .\n",
      " . . 1 . 1 . . . . . . . . . . . . . .\n",
      "\n",
      "X . . . . . . . . . . . . . . . . . .\n",
      ". . . . . . . . * * * . . * . . . . .\n",
      ". . . o . . . * . * o * * o o . o . .\n",
      ". . o o * . . . * o o o . . . * o . .\n",
      ". . * . o . . . o . . . . . o o * * .\n",
      ". * . * o . . . . . . . . . . * o * .\n",
      ". . o * o . . . . . . . . . . . . . .\n",
      ". * * o . . . . . . . . . . . . * . .\n",
      ". * o o . . . . . . . . . . . . . . .\n",
      ". . * * . . . . . + . . . . . + o . .\n",
      ". o . . . . . . . . . . . . . . . . .\n",
      ". . . . . . . . . . . . . . . . . . .\n",
      ". . . . . . . . . . . . . . . . o . .\n",
      ". . o . . . . . . . . . . . . . . . .\n",
      ". . . . . . . . . . . . . . . . . . .\n",
      ". . o o . . . . . + . . . . . + * . .\n",
      ". . * . . . . . . . . . . * . . . . .\n",
      ". * . * . o . . . . . . . . . . . . .\n",
      ". . . . . . . . . . . . . . . . . . .\n"
     ]
    }
   ],
   "source": [
    "#porbleme : décalage d'indice ?\n",
    "vis_layer(tenseur_coup60,0)\n",
    "print\n",
    "print (View(liste[60]))"
   ]
  },
  {
   "cell_type": "code",
   "execution_count": 69,
   "metadata": {
    "collapsed": false,
    "scrolled": true
   },
   "outputs": [
    {
     "name": "stdout",
     "output_type": "stream",
     "text": [
      " . . . . . . . . . . . . . . . . . . .\n",
      " . . . . . . . . . . . . . . . . . . .\n",
      " . . . . . . . . . . . . . . . . . . .\n",
      " . . . . . . . . . 1 . . . . . . . . .\n",
      " . . . . . . . . . . . . . . . . . . .\n",
      " . . . . . . . . . . . . . . . . . . .\n",
      " . . . . . . . . . . . . . . . . . . .\n",
      " . . . . . . . . . . . . . . . . . . .\n",
      " . . . . . . . . . . . . . . . . . . .\n",
      " . . . . . . . . . . . . . . . . . . .\n",
      " . . . . . . . . . . . . . . . . . . .\n",
      " . . . . . . . . . . . . . . . . . . .\n",
      " . . . . . . . . . . . . . . . . . . .\n",
      " . . . . . . . . . . . . . . . . . . .\n",
      " . . . . . . . . . . . . . . . . . . .\n",
      " . . . . . . . . . . . . . . . . . . .\n",
      " . . . . . . . . . . . . . . . . . . .\n",
      " . . . . . . . . . . . . . . . . . . .\n",
      " . . . . . . . . . . . . . . . . . . .\n",
      "\n",
      "X . . . . . . . . . . . . . . . . . .\n",
      ". . . . . . . . * * * . . * . . . . .\n",
      ". . . o . . . * . * o * * o o . o . .\n",
      ". . o o * . . . * o o o . . . * o . .\n",
      ". . * . o . . . o . . . . . o o * * .\n",
      ". * . * o . . . . . . . . . . * o * .\n",
      ". . o * o . . . . . . . . . . . . . .\n",
      ". * * o . . . . . . . . . . . . * . .\n",
      ". * o o . . . . . . . . . . . . . . .\n",
      ". . * * . . . . . + . . . . . + o . .\n",
      ". o . . . . . . . . . . . . . . . . .\n",
      ". . . . . . . . . . . . . . . . . . .\n",
      ". . . . . . . . . . . . . . . . o . .\n",
      ". . o . . . . . . . . . . . . . . . .\n",
      ". . . . . . . . . . . . . . . . . . .\n",
      ". . o o . . . . . + . . . . . + * . .\n",
      ". . * . . . . . . . . . . * . . . . .\n",
      ". * . * . o . . . . . . . . . . . . .\n",
      ". . . . . . . . . . . . . . . . . . .\n"
     ]
    }
   ],
   "source": [
    "#porbleme à cause de legal state ?\n",
    "vis_layer(tenseur_coup60,2)\n",
    "print\n",
    "print (View(liste[60]))"
   ]
  },
  {
   "cell_type": "code",
   "execution_count": 47,
   "metadata": {
    "collapsed": false
   },
   "outputs": [
    {
     "data": {
      "text/plain": [
       "19"
      ]
     },
     "execution_count": 47,
     "metadata": {},
     "output_type": "execute_result"
    }
   ],
   "source": [
    "len(liberties[3,:,:])"
   ]
  },
  {
   "cell_type": "code",
   "execution_count": null,
   "metadata": {
    "collapsed": true
   },
   "outputs": [],
   "source": []
  }
 ],
 "metadata": {
  "anaconda-cloud": {},
  "kernelspec": {
   "display_name": "Python [conda root]",
   "language": "python",
   "name": "conda-root-py"
  },
  "language_info": {
   "codemirror_mode": {
    "name": "ipython",
    "version": 2
   },
   "file_extension": ".py",
   "mimetype": "text/x-python",
   "name": "python",
   "nbconvert_exporter": "python",
   "pygments_lexer": "ipython2",
   "version": "2.7.12"
  }
 },
 "nbformat": 4,
 "nbformat_minor": 1
}
