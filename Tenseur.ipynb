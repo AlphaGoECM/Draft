{
 "cells": [
  {
   "cell_type": "code",
   "execution_count": 1,
   "metadata": {
    "collapsed": false,
    "scrolled": false
   },
   "outputs": [],
   "source": [
    "#import du fichier sgf\n",
    "from sgf_to_states import sgf_to_states\n",
    "nom_fichier=\"Mi_Yuting-Park_Junghwan.sgf\"\n",
    "taille_plateau=19\n",
    "\n",
    "liste = sgf_to_states(nom_fichier,taille_plateau)"
   ]
  },
  {
   "cell_type": "code",
   "execution_count": 50,
   "metadata": {
    "collapsed": false
   },
   "outputs": [],
   "source": [
    "#visualisation d'un état du jeu\n",
    "from go import View\n",
    "# il faut utiliser :  print( View(liste[i]))\n"
   ]
  },
  {
   "cell_type": "code",
   "execution_count": 51,
   "metadata": {
    "collapsed": true
   },
   "outputs": [],
   "source": [
    "#visualisation d'un layer\n",
    "def vis_layer(layer,num_layer):\n",
    "    x=0\n",
    "    taille=len(layer[num_layer,:,:])\n",
    "    while x < taille:\n",
    "        string =\"\"\n",
    "        y=0\n",
    "        while y < taille:\n",
    "            if layer[num_layer,y,x]==1:  # il faut inverser x et y ici\n",
    "                string = string + \" 1\"    \n",
    "            else:\n",
    "                string = string + \" .\"\n",
    "            y+=1\n",
    "        print string\n",
    "        x+=1"
   ]
  },
  {
   "cell_type": "markdown",
   "metadata": {},
   "source": [
    "![title](img/Capture.JPG)"
   ]
  },
  {
   "cell_type": "code",
   "execution_count": 52,
   "metadata": {
    "collapsed": false
   },
   "outputs": [
    {
     "name": "stdout",
     "output_type": "stream",
     "text": [
      "19\n"
     ]
    }
   ],
   "source": [
    "import numpy as np\n",
    "print liste[0]._width"
   ]
  },
  {
   "cell_type": "code",
   "execution_count": 53,
   "metadata": {
    "collapsed": true
   },
   "outputs": [],
   "source": [
    "def get_stonecolour(state):\n",
    "    taille=state._width\n",
    "    planes = np.zeros((3, taille,taille))\n",
    "    x=0\n",
    "    while x<taille:\n",
    "        y=0\n",
    "        while y<taille:\n",
    "            case=repr(state[x+1,y+1]) # conversion en string sinon le test == ne marche pas\n",
    "            if case=='Black': # pion noir\n",
    "                planes[0, x, y] = 1 \n",
    "            if case=='White': #pion blanc\n",
    "                planes[1, x, y] = 1 \n",
    "            if case=='Empty': #vide\n",
    "                planes[2, x, y] = 1 \n",
    "            y+=1\n",
    "        x+=1\n",
    "    \n",
    "    return planes\n"
   ]
  },
  {
   "cell_type": "code",
   "execution_count": 54,
   "metadata": {
    "collapsed": false,
    "scrolled": false
   },
   "outputs": [
    {
     "name": "stdout",
     "output_type": "stream",
     "text": [
      "X . . . . . . . . . . . . . . . . . .\n",
      ". . . . . . . . * * * . . * . . . . .\n",
      ". . . o . . . * . * o * * o o . o . .\n",
      ". . o o * . . . * o o o . . . * o . .\n",
      ". . * . o . . . o . . . . . o o * * .\n",
      ". * . * o . . . . . . . . . . * o * .\n",
      ". . o * o . . . . . . . . . . . . . .\n",
      ". * * o . . . . . . . . . . . . * . .\n",
      ". * o o . . . . . . . . . . . . . . .\n",
      ". . * * . . . . . + . . . . . + o . .\n",
      ". o . . . . . . . . . . . . . . . . .\n",
      ". . . . . . . . . . . . . . . . . . .\n",
      ". . . . . . . . . . . . . . . . o . .\n",
      ". . o . . . . . . . . . . . . . . . .\n",
      ". . . . . . . . . . . . . . . . . . .\n",
      ". . o o . . . . . + . . . . . + * . .\n",
      ". . * . . . . . . . . . . * . . . . .\n",
      ". * . * . o . . . . . . . . . . . . .\n",
      ". . . . . . . . . . . . . . . . . . .\n",
      "\n",
      " . . . . . . . . . . . . . . . . . . .\n",
      " . . . . . . . . 1 1 1 . . 1 . . . . .\n",
      " . . . . . . . 1 . 1 . 1 1 . . . . . .\n",
      " . . . . 1 . . . 1 . . . . . . 1 . . .\n",
      " . . 1 . . . . . . . . . . . . . 1 1 .\n",
      " . 1 . 1 . . . . . . . . . . . 1 . 1 .\n",
      " . . . 1 . . . . . . . . . . . . . . .\n",
      " . 1 1 . . . . . . . . . . . . . 1 . .\n",
      " . 1 . . . . . . . . . . . . . . . . .\n",
      " . . 1 1 . . . . . . . . . . . . . . .\n",
      " . . . . . . . . . . . . . . . . . . .\n",
      " . . . . . . . . . . . . . . . . . . .\n",
      " . . . . . . . . . . . . . . . . . . .\n",
      " . . . . . . . . . . . . . . . . . . .\n",
      " . . . . . . . . . . . . . . . . . . .\n",
      " . . . . . . . . . . . . . . . . 1 . .\n",
      " . . 1 . . . . . . . . . . 1 . . . . .\n",
      " . 1 . 1 . . . . . . . . . . . . . . .\n",
      " . . . . . . . . . . . . . . . . . . .\n",
      "\n",
      " . . . . . . . . . . . . . . . . . . .\n",
      " . . . . . . . . . . . . . . . . . . .\n",
      " . . . 1 . . . . . . 1 . . 1 1 . 1 . .\n",
      " . . 1 1 . . . . . 1 1 1 . . . . 1 . .\n",
      " . . . . 1 . . . 1 . . . . . 1 1 . . .\n",
      " . . . . 1 . . . . . . . . . . . 1 . .\n",
      " . . 1 . 1 . . . . . . . . . . . . . .\n",
      " . . . 1 . . . . . . . . . . . . . . .\n",
      " . . 1 1 . . . . . . . . . . . . . . .\n",
      " . . . . . . . . . . . . . . . . 1 . .\n",
      " . 1 . . . . . . . . . . . . . . . . .\n",
      " . . . . . . . . . . . . . . . . . . .\n",
      " . . . . . . . . . . . . . . . . 1 . .\n",
      " . . 1 . . . . . . . . . . . . . . . .\n",
      " . . . . . . . . . . . . . . . . . . .\n",
      " . . 1 1 . . . . . . . . . . . . . . .\n",
      " . . . . . . . . . . . . . . . . . . .\n",
      " . . . . . 1 . . . . . . . . . . . . .\n",
      " . . . . . . . . . . . . . . . . . . .\n",
      "\n",
      " 1 1 1 1 1 1 1 1 1 1 1 1 1 1 1 1 1 1 1\n",
      " 1 1 1 1 1 1 1 1 . . . 1 1 . 1 1 1 1 1\n",
      " 1 1 1 . 1 1 1 . 1 . . . . . . 1 . 1 1\n",
      " 1 1 . . . 1 1 1 . . . . 1 1 1 . . 1 1\n",
      " 1 1 . 1 . 1 1 1 . 1 1 1 1 1 . . . . 1\n",
      " 1 . 1 . . 1 1 1 1 1 1 1 1 1 1 . . . 1\n",
      " 1 1 . . . 1 1 1 1 1 1 1 1 1 1 1 1 1 1\n",
      " 1 . . . 1 1 1 1 1 1 1 1 1 1 1 1 . 1 1\n",
      " 1 . . . 1 1 1 1 1 1 1 1 1 1 1 1 1 1 1\n",
      " 1 1 . . 1 1 1 1 1 1 1 1 1 1 1 1 . 1 1\n",
      " 1 . 1 1 1 1 1 1 1 1 1 1 1 1 1 1 1 1 1\n",
      " 1 1 1 1 1 1 1 1 1 1 1 1 1 1 1 1 1 1 1\n",
      " 1 1 1 1 1 1 1 1 1 1 1 1 1 1 1 1 . 1 1\n",
      " 1 1 . 1 1 1 1 1 1 1 1 1 1 1 1 1 1 1 1\n",
      " 1 1 1 1 1 1 1 1 1 1 1 1 1 1 1 1 1 1 1\n",
      " 1 1 . . 1 1 1 1 1 1 1 1 1 1 1 1 . 1 1\n",
      " 1 1 . 1 1 1 1 1 1 1 1 1 1 . 1 1 1 1 1\n",
      " 1 . 1 . 1 . 1 1 1 1 1 1 1 1 1 1 1 1 1\n",
      " 1 1 1 1 1 1 1 1 1 1 1 1 1 1 1 1 1 1 1\n"
     ]
    }
   ],
   "source": [
    "#stone colour\n",
    "tenseur_coup60=get_stonecolour(liste[60])\n",
    "print View(liste[60])\n",
    "print \n",
    "vis_layer(tenseur_coup60,0)\n",
    "print \n",
    "vis_layer(tenseur_coup60,1)\n",
    "print \n",
    "vis_layer(tenseur_coup60,2)"
   ]
  },
  {
   "cell_type": "code",
   "execution_count": 55,
   "metadata": {
    "collapsed": false
   },
   "outputs": [
    {
     "data": {
      "text/plain": [
       "(4L, 19L, 19L)"
      ]
     },
     "execution_count": 55,
     "metadata": {},
     "output_type": "execute_result"
    }
   ],
   "source": [
    "#ones\n",
    "ones=np.ones((1, taille,taille))\n",
    "# ajout de ones au premier tenseur\n",
    "tenseur_coup60=np.concatenate([tenseur_coup60,ones], axis=0)\n",
    "tenseur_coup60.shape"
   ]
  },
  {
   "cell_type": "code",
   "execution_count": 85,
   "metadata": {
    "collapsed": true
   },
   "outputs": [],
   "source": [
    "#problème au bord on ne peut pas appeler count_liberties sur les bords du plateau...\n",
    "def get_liberties(state):\n",
    "    taille=state._width\n",
    "    planes = np.zeros((8, taille,taille))\n",
    "    for x,y in state._legal:\n",
    "        n_liberties=state.count_liberties(x,y)\n",
    "        if n_liberties>8 :\n",
    "            n_liberties = 8\n",
    "        if not(n_liberties==0):   #pk ?\n",
    "            planes[n_liberties-1,x,y]=1\n",
    "    return planes"
   ]
  },
  {
   "cell_type": "code",
   "execution_count": 86,
   "metadata": {
    "collapsed": false,
    "scrolled": false
   },
   "outputs": [
    {
     "name": "stdout",
     "output_type": "stream",
     "text": [
      "X . . . . . . . . . . . . . . . . . .\n",
      ". . . . . . . . * * * . . * . . . . .\n",
      ". . . o . . . * . * o * * o o . o . .\n",
      ". . o o * . . . * o o o . . . * o . .\n",
      ". . * . o . . . o . . . . . o o * * .\n",
      ". * . * o . . . . . . . . . . * o * .\n",
      ". . o * o . . . . . . . . . . . . . .\n",
      ". * * o . . . . . . . . . . . . * . .\n",
      ". * o o . . . . . . . . . . . . . . .\n",
      ". . * * . . . . . + . . . . . + o . .\n",
      ". o . . . . . . . . . . . . . . . . .\n",
      ". . . . . . . . . . . . . . . . . . .\n",
      ". . . . . . . . . . . . . . . . o . .\n",
      ". . o . . . . . . . . . . . . . . . .\n",
      ". . . . . . . . . . . . . . . . . . .\n",
      ". . o o . . . . . + . . . . . + * . .\n",
      ". . * . . . . . . . . . . * . . . . .\n",
      ". * . * . o . . . . . . . . . . . . .\n",
      ". . . . . . . . . . . . . . . . . . .\n",
      "\n",
      " . . . . . . . . . . . . . . . . . . .\n",
      " . . . . . . . . . . . . . . . . . . .\n",
      " . . . . . . . . 1 . . . . . . . . . .\n",
      " . . . . . . . . . . . . . . . . . . .\n",
      " . . . . . . . . . . . . . . . . . . .\n",
      " . . . . . . . . . . . . . . . . 1 . .\n",
      " . . . . . . . . . . . . . . . . . . .\n",
      " . . . . . . . . . . . . . . . . . . .\n",
      " . . . . . . . . . . . . . . . . . . .\n",
      " . . . . . . . . . . . . . . . . . . .\n",
      " . . . . . . . . . . . . . . . . . . .\n",
      " . . . . . . . . . . . . . . . . . . .\n",
      " . . . . . . . . . . . . . . . . . . .\n",
      " . . . . . . . . . . . . . . . . . . .\n",
      " . . . . . . . . . . . . . . . . . . .\n",
      " . . . . . . . . . . . . . . . . . . .\n",
      " . . . . . . . . . . . . . . . . . . .\n",
      " . . . . . . . . . . . . . . . . . . .\n",
      " . . . . . . . . . . . . . . . . . . .\n",
      "\n",
      " . . . . . . . . . . . . . . . . . . .\n",
      " . . . . . . . . . . . . . . . . . . .\n",
      " . . . . . . . . . . . . . . . . . . .\n",
      " . . . . 1 . . . 1 . . . . . . 1 . . .\n",
      " . . . . . . . . . . . . . . . . . . .\n",
      " . . . 1 . . . . . . . . . . . 1 . . .\n",
      " . . 1 1 . . . . . . . . . . . . . . .\n",
      " . . . 1 . . . . . . . . . . . . . . .\n",
      " . . 1 1 . . . . . . . . . . . . . . .\n",
      " . . . . . . . . . . . . . . . . . . .\n",
      " . . . . . . . . . . . . . . . . . . .\n",
      " . . . . . . . . . . . . . . . . . . .\n",
      " . . . . . . . . . . . . . . . . . . .\n",
      " . . . . . . . . . . . . . . . . . . .\n",
      " . . . . . . . . . . . . . . . . . . .\n",
      " . . . . . . . . . . . . . . . . . . .\n",
      " . . . . . . . . . . . . . . . . . . .\n",
      " . . . . . . . . . . . . . . . . . . .\n",
      " . . . . . . . . . . . . . . . . . . .\n",
      "\n",
      " . . . . . . . . . . . . . . . . . . .\n",
      " . . . . . . . . . . . . . 1 . . . . .\n",
      " . . . . . . . . . . . 1 1 . . . . . .\n",
      " . . . . . . . . . . . . . . . . . . .\n",
      " . . 1 . . . . . 1 . . . . . 1 1 . . .\n",
      " . . . . . . . . . . . . . . . . . . .\n",
      " . . . . . . . . . . . . . . . . . . .\n",
      " . . . . . . . . . . . . . . . . . . .\n",
      " . . . . . . . . . . . . . . . . . . .\n",
      " . . . . . . . . . . . . . . . . . . .\n",
      " . . . . . . . . . . . . . . . . . . .\n",
      " . . . . . . . . . . . . . . . . . . .\n",
      " . . . . . . . . . . . . . . . . . . .\n",
      " . . . . . . . . . . . . . . . . . . .\n",
      " . . . . . . . . . . . . . . . . . . .\n",
      " . . . . . . . . . . . . . . . . . . .\n",
      " . . 1 . . . . . . . . . . . . . . . .\n",
      " . . . . . . . . . . . . . . . . . . .\n",
      " . . . . . . . . . . . . . . . . . . .\n"
     ]
    }
   ],
   "source": [
    "liberties=get_liberties(liste[60])\n",
    "print View(liste[60])\n",
    "print \n",
    "vis_layer(liberties,0)\n",
    "print \n",
    "vis_layer(liberties,1)\n",
    "print \n",
    "vis_layer(liberties,2)"
   ]
  },
  {
   "cell_type": "code",
   "execution_count": 58,
   "metadata": {
    "collapsed": false
   },
   "outputs": [
    {
     "data": {
      "text/plain": [
       "(12L, 19L, 19L)"
      ]
     },
     "execution_count": 58,
     "metadata": {},
     "output_type": "execute_result"
    }
   ],
   "source": [
    "# ajout de liberties au 1er tenseur\n",
    "tenseur_coup60=np.concatenate([tenseur_coup60,liberties], axis=0)\n",
    "tenseur_coup60.shape"
   ]
  },
  {
   "cell_type": "code",
   "execution_count": 59,
   "metadata": {
    "collapsed": true
   },
   "outputs": [],
   "source": [
    "#/!\\ fonction qui ne donne pas exactement l'historique de la partie masi le dernier changement de couleur d'une case /!\\\n",
    "def get_history(state):\n",
    "    taille=state._width\n",
    "    planes = np.zeros((8, taille,taille))\n",
    "    for x,y in state._legal:\n",
    "        i=1\n",
    "        case=repr(state[x,y])                           # jmet un +1 psk tu as mis un +1\n",
    "        while i <8 : \n",
    "            hist = state._history[-i][0]\n",
    "            case_hist = repr(hist[x][y])\n",
    "            if (not(case==hist)and not(case==\"Empty\")): # on teste si la case a changé et i sert à savoir quand\n",
    "                planes[i-1,x,y]=1\n",
    "                i=9                                     # on retient que le dernier changement de couleur d'une case donc on passse à la suivante\n",
    "            i=i+1\n",
    "        if (not(case==\"Empty\") and (i==8)):             # toutes les cases non vides qu'on a pas prises sont >8\n",
    "            planes[7,x,y]=1\n",
    "    return planes"
   ]
  },
  {
   "cell_type": "code",
   "execution_count": 61,
   "metadata": {
    "collapsed": false,
    "scrolled": true
   },
   "outputs": [
    {
     "name": "stdout",
     "output_type": "stream",
     "text": [
      "X . . . . . . . . . . . . . . . . . .\n",
      ". . . . . . . . * * * . . * . . . . .\n",
      ". . . o . . . * . * o * * o o . o . .\n",
      ". . o o * . . . * o o o . . . * o . .\n",
      ". . * . o . . . o . . . . . o o * * .\n",
      ". * . * o . . . . . . . . . . * o * .\n",
      ". . o * o . . . . . . . . . . . . . .\n",
      ". * * o . . . . . . . . . . . . * . .\n",
      ". * o o . . . . . . . . . . . . . . .\n",
      ". . * * . . . . . + . . . . . + o . .\n",
      ". o . . . . . . . . . . . . . . . . .\n",
      ". . . . . . . . . . . . . . . . . . .\n",
      ". . . . . . . . . . . . . . . . o . .\n",
      ". . o . . . . . . . . . . . . . . . .\n",
      ". . . . . . . . . . . . . . . . . . .\n",
      ". . o o . . . . . + . . . . . + * . .\n",
      ". . * . . . . . . . . . . * . . . . .\n",
      ". * . * . o . . . . . . . . . . . . .\n",
      ". . . . . . . . . . . . . . . . . . .\n",
      "\n",
      " . . . . . . . . . . . . . . . . . . .\n",
      " . . . . . . . . . . . . . . . . . . .\n",
      " . . . . . . . . . 1 1 1 . . 1 . . . .\n",
      " . . . . 1 . . . 1 . 1 1 1 1 1 1 . 1 .\n",
      " . . . 1 1 1 . . . 1 1 1 1 . . . 1 1 .\n",
      " . . . 1 . 1 . . . 1 . . . . . 1 1 1 1\n",
      " . . 1 . 1 1 . . . . . . . . . . 1 1 1\n",
      " . . . 1 1 1 . . . . . . . . . . . . .\n",
      " . . 1 1 1 . . . . . . . . . . . . 1 .\n",
      " . . 1 1 1 . . . . . . . . . . . . . .\n",
      " . . . 1 1 . . . . . . . . . . . . 1 .\n",
      " . . 1 . . . . . . . . . . . . . . . .\n",
      " . . . . . . . . . . . . . . . . . . .\n",
      " . . . . . . . . . . . . . . . . . 1 .\n",
      " . . . 1 . . . . . . . . . . . . . . .\n",
      " . . . . . . . . . . . . . . . . . . .\n",
      " . . . 1 1 . . . . . . . . . . . . 1 .\n",
      " . . . 1 . . . . . . . . . . 1 . . . .\n",
      " . . 1 . 1 . 1 . . . . . . . . . . . .\n",
      "\n",
      " . . . . . . . . . . . . . . . . . . .\n",
      " . . . . . . . . . . . . . . . . . . .\n",
      " . . . . . . . . . . . . . . . . . . .\n",
      " . . . . . . . . . . . . . . . . . . .\n",
      " . . . . . . . . . . . . . . . . . . .\n",
      " . . . . . . . . . . . . . . . . . . .\n",
      " . . . . . . . . . . . . . . . . . . .\n",
      " . . . . . . . . . . . . . . . . . . .\n",
      " . . . . . . . . . . . . . . . . . . .\n",
      " . . . . . . . . . . . . . . . . . . .\n",
      " . . . . . . . . . . . . . . . . . . .\n",
      " . . . . . . . . . . . . . . . . . . .\n",
      " . . . . . . . . . . . . . . . . . . .\n",
      " . . . . . . . . . . . . . . . . . . .\n",
      " . . . . . . . . . . . . . . . . . . .\n",
      " . . . . . . . . . . . . . . . . . . .\n",
      " . . . . . . . . . . . . . . . . . . .\n",
      " . . . . . . . . . . . . . . . . . . .\n",
      " . . . . . . . . . . . . . . . . . . .\n",
      "\n",
      " . . . . . . . . . . . . . . . . . . .\n",
      " . . . . . . . . . . . . . . . . . . .\n",
      " . . . . . . . . . . . . . . . . . . .\n",
      " . . . . . . . . . . . . . . . . . . .\n",
      " . . . . . . . . . . . . . . . . . . .\n",
      " . . . . . . . . . . . . . . . . . . .\n",
      " . . . . . . . . . . . . . . . . . . .\n",
      " . . . . . . . . . . . . . . . . . . .\n",
      " . . . . . . . . . . . . . . . . . . .\n",
      " . . . . . . . . . . . . . . . . . . .\n",
      " . . . . . . . . . . . . . . . . . . .\n",
      " . . . . . . . . . . . . . . . . . . .\n",
      " . . . . . . . . . . . . . . . . . . .\n",
      " . . . . . . . . . . . . . . . . . . .\n",
      " . . . . . . . . . . . . . . . . . . .\n",
      " . . . . . . . . . . . . . . . . . . .\n",
      " . . . . . . . . . . . . . . . . . . .\n",
      " . . . . . . . . . . . . . . . . . . .\n",
      " . . . . . . . . . . . . . . . . . . .\n"
     ]
    }
   ],
   "source": [
    "history=get_history(liste[60])\n",
    "print View(liste[60])\n",
    "print \n",
    "vis_layer(history,0)\n",
    "print \n",
    "vis_layer(history,1)\n",
    "print \n",
    "vis_layer(history,2)"
   ]
  },
  {
   "cell_type": "code",
   "execution_count": 62,
   "metadata": {
    "collapsed": false
   },
   "outputs": [
    {
     "data": {
      "text/plain": [
       "(20L, 19L, 19L)"
      ]
     },
     "execution_count": 62,
     "metadata": {},
     "output_type": "execute_result"
    }
   ],
   "source": [
    "# ajout de history au 1er tenseur\n",
    "tenseur_coup60=np.concatenate([tenseur_coup60,history], axis=0)\n",
    "tenseur_coup60.shape"
   ]
  },
  {
   "cell_type": "code",
   "execution_count": 63,
   "metadata": {
    "collapsed": true
   },
   "outputs": [],
   "source": [
    "def get_captured(state):\n",
    "    taille=state._width\n",
    "    planes = np.zeros((8, taille,taille))\n",
    "    for x,y in state._legal:\n",
    "            state_copy = state\n",
    "            n_captured = state_copy._take_pieces(x, y)\n",
    "            if n_captured>8 :\n",
    "                n_captured = 8\n",
    "            if not(n_captured==0):\n",
    "                planes[n_captured-1,x,y]=1\n",
    "\n",
    "    return planes"
   ]
  },
  {
   "cell_type": "code",
   "execution_count": 65,
   "metadata": {
    "collapsed": false,
    "scrolled": true
   },
   "outputs": [
    {
     "name": "stdout",
     "output_type": "stream",
     "text": [
      "X . . . . . . . . . . . . . . . . . .\n",
      ". . . . . . . . * * * . . * . . . . .\n",
      ". . . o . . . * . * o * * o o . o . .\n",
      ". . o o * . . . * o o o . . . * o . .\n",
      ". . * . o . . . o . . . . . o o * * .\n",
      ". * . * o . . . . . . . . . . * o * .\n",
      ". . o * o . . . . . . . . . . . . . .\n",
      ". * * o . . . . . . . . . . . . * . .\n",
      ". * o o . . . . . . . . . . . . . . .\n",
      ". . * * . . . . . + . . . . . + o . .\n",
      ". o . . . . . . . . . . . . . . . . .\n",
      ". . . . . . . . . . . . . . . . . . .\n",
      ". . . . . . . . . . . . . . . . o . .\n",
      ". . o . . . . . . . . . . . . . . . .\n",
      ". . . . . . . . . . . . . . . . . . .\n",
      ". . o o . . . . . + . . . . . + * . .\n",
      ". . * . . . . . . . . . . * . . . . .\n",
      ". * . * . o . . . . . . . . . . . . .\n",
      ". . . . . . . . . . . . . . . . . . .\n",
      "\n",
      " . . . . . . . . . . . . . . . . . . .\n",
      " . . . . . . . . . . . . . . . . . . .\n",
      " . . . . . . . . . . . . . . . . . . .\n",
      " . . . . . . . . . . . . . . . . . . .\n",
      " . . . . . . . . . . . . . . . . . . .\n",
      " . . . . . . . . . . . . . . . . . . .\n",
      " . . . . . . . . . . . . . . . . . . .\n",
      " . . . . . . . . . . . . . . . . . . .\n",
      " . . . . . . . . . . . . . . . . . . .\n",
      " . . . . . . . . . . . . . . . . . . .\n",
      " . . . . . . . . . . . . . . . . . . .\n",
      " . . . . . . . . . . . . . . . . . . .\n",
      " . . . . . . . . . . . . . . . . . . .\n",
      " . . . . . . . . . . . . . . . . . . .\n",
      " . . . . . . . . . . . . . . . . . . .\n",
      " . . . . . . . . . . . . . . . . . . .\n",
      " . . . . . . . . . . . . . . . . . . .\n",
      " . . . . . . . . . . . . . . . . . . .\n",
      " . . . . . . . . . . . . . . . . . . .\n",
      "\n",
      " . . . . . . . . . . . . . . . . . . .\n",
      " . . . . . . . . . . . . . . . . . . .\n",
      " . . . . . . . . . . . . . . . . . . .\n",
      " . . . . . . . . . . . . . . . . . . .\n",
      " . . . . . . . . . . . . . . . . . . .\n",
      " . . . . . . . . . . . . . . . . . . .\n",
      " . . . . . . . . . . . . . . . . . . .\n",
      " . . . . . . . . . . . . . . . . . . .\n",
      " . . . . . . . . . . . . . . . . . . .\n",
      " . . . . . . . . . . . . . . . . . . .\n",
      " . . . . . . . . . . . . . . . . . . .\n",
      " . . . . . . . . . . . . . . . . . . .\n",
      " . . . . . . . . . . . . . . . . . . .\n",
      " . . . . . . . . . . . . . . . . . . .\n",
      " . . . . . . . . . . . . . . . . . . .\n",
      " . . . . . . . . . . . . . . . . . . .\n",
      " . . . . . . . . . . . . . . . . . . .\n",
      " . . . . . . . . . . . . . . . . . . .\n",
      " . . . . . . . . . . . . . . . . . . .\n",
      "\n",
      " . . . . . . . . . . . . . . . . . . .\n",
      " . . . . . . . . . . . . . . . . . . .\n",
      " . . . . . . . . . . . . . . . . . . .\n",
      " . . . . . . . . . . . . . . . . . . .\n",
      " . . . . . . . . . . . . . . . . . . .\n",
      " . . . . . . . . . . . . . . . . . . .\n",
      " . . . . . . . . . . . . . . . . . . .\n",
      " . . . . . . . . . . . . . . . . . . .\n",
      " . . . . . . . . . . . . . . . . . . .\n",
      " . . . . . . . . . . . . . . . . . . .\n",
      " . . . . . . . . . . . . . . . . . . .\n",
      " . . . . . . . . . . . . . . . . . . .\n",
      " . . . . . . . . . . . . . . . . . . .\n",
      " . . . . . . . . . . . . . . . . . . .\n",
      " . . . . . . . . . . . . . . . . . . .\n",
      " . . . . . . . . . . . . . . . . . . .\n",
      " . . . . . . . . . . . . . . . . . . .\n",
      " . . . . . . . . . . . . . . . . . . .\n",
      " . . . . . . . . . . . . . . . . . . .\n"
     ]
    }
   ],
   "source": [
    "captured=get_captured(liste[60])\n",
    "print View(liste[60])\n",
    "print \n",
    "vis_layer(captured,0)\n",
    "print \n",
    "vis_layer(captured,1)\n",
    "print \n",
    "vis_layer(captured,2)"
   ]
  },
  {
   "cell_type": "code",
   "execution_count": 66,
   "metadata": {
    "collapsed": false
   },
   "outputs": [
    {
     "data": {
      "text/plain": [
       "(28L, 19L, 19L)"
      ]
     },
     "execution_count": 66,
     "metadata": {},
     "output_type": "execute_result"
    }
   ],
   "source": [
    "# ajout de captured au 1er tenseur\n",
    "tenseur_coup60=np.concatenate([tenseur_coup60,captured], axis=0)\n",
    "tenseur_coup60.shape"
   ]
  },
  {
   "cell_type": "code",
   "execution_count": 71,
   "metadata": {
    "collapsed": false
   },
   "outputs": [],
   "source": [
    "def self_atari(state):\n",
    "    taille=state._width\n",
    "    planes = np.zeros((8, taille,taille))\n",
    "    \n",
    "    \n",
    "    \n",
    "    return planes\n"
   ]
  },
  {
   "cell_type": "code",
   "execution_count": null,
   "metadata": {
    "collapsed": true
   },
   "outputs": [],
   "source": []
  },
  {
   "cell_type": "code",
   "execution_count": 87,
   "metadata": {
    "collapsed": true
   },
   "outputs": [],
   "source": [
    "def get_liberties_after(state_after):\n",
    "    planes = get_liberties(state_after)\n",
    "    return planes\n"
   ]
  },
  {
   "cell_type": "code",
   "execution_count": 88,
   "metadata": {
    "collapsed": false
   },
   "outputs": [
    {
     "name": "stdout",
     "output_type": "stream",
     "text": [
      "X . . . . . . . . . . . . . . . . . .\n",
      ". . . . . . . . * * * . . * . . . . .\n",
      ". . . o . . . * . * o * * o o . o . .\n",
      ". . o o * . . . * o o o . . . * o . .\n",
      ". . * . o . . . o . . . . . o o * * .\n",
      ". * . * o . . . . . . . . . . * o * .\n",
      ". . o * o . . . . . . . . . . . . . .\n",
      ". * * o . . . . . . . . . . . . * . .\n",
      ". * o o . . . . . . . . . . . . . . .\n",
      ". . * * . . . . . + . . . . . + o . .\n",
      ". o . . . . . . . . . . . . . . . . .\n",
      ". . . . . . . . . . . . . . . . . . .\n",
      ". . . . . . . . . . . . . . . . o . .\n",
      ". . o . . . . . . . . . . . . . . . .\n",
      ". . . . . . . . . . . . . . . . . . .\n",
      ". . o o . . . . . + . . . . . + * . .\n",
      ". . * . . . . . . . . . . * . . . . .\n",
      ". * . * . o . . . . . . . . . . . . .\n",
      ". . . . . . . . . . . . . . . . . . .\n",
      "\n",
      " . . . . . . . . . . . . . . . . . . .\n",
      " . . . . . . . . . . . . . . . . . . .\n",
      " . . . . . . . . 1 . . . . . . . . . .\n",
      " . . . . . . . . . . . . . . . . . . .\n",
      " . . . . . . . . . . . . . . . . . . .\n",
      " . . . . . . . . . . . . . . . . 1 . .\n",
      " . . . . . . . . . . . . . . . . . . .\n",
      " . . . . . . . . . . . . . . . . . . .\n",
      " . . . . . . . . . . . . . . . . . . .\n",
      " . . . . . . . . . . . . . . . . . . .\n",
      " . . . . . . . . . . . . . . . . . . .\n",
      " . . . . . . . . . . . . . . . . . . .\n",
      " . . . . . . . . . . . . . . . . . . .\n",
      " . . . . . . . . . . . . . . . . . . .\n",
      " . . . . . . . . . . . . . . . . . . .\n",
      " . . . . . . . . . . . . . . . . . . .\n",
      " . . . . . . . . . . . . . . . . . . .\n",
      " . . . . . . . . . . . . . . . . . . .\n",
      " . . . . . . . . . . . . . . . . . . .\n",
      "\n",
      " . . . . . . . . . . . . . . . . . . .\n",
      " . . . . . . . . . . . . . . . . . . .\n",
      " . . . . . . . . . . . . . . . . . . .\n",
      " . . . . 1 . . . 1 . . . . . . 1 . . .\n",
      " . . . . . . . . . . . . . . . . . . .\n",
      " . . . 1 . . . . . . . . . . . 1 . . .\n",
      " . . 1 1 . . . . . . . . . . . . . . .\n",
      " . . . 1 . . . . . . . . . . . . . . .\n",
      " . . 1 1 . . . . . . . . . . . . . . .\n",
      " . . . . . . . . . . . . . . . . . . .\n",
      " . . . . . . . . . . . . . . . . . . .\n",
      " . . . . . . . . . . . . . . . . . . .\n",
      " . . . . . . . . . . . . . . . . . . .\n",
      " . . . . . . . . . . . . . . . . . . .\n",
      " . . . . . . . . . . . . . . . . . . .\n",
      " . . . . . . . . . . . . . . . . . . .\n",
      " . . . . . . . . . . . . . . . . . . .\n",
      " . . . . . . . . . . . . . . . . . . .\n",
      " . . . . . . . . . . . . . . . . . . .\n",
      "\n",
      " . . . . . . . . . . . . . . . . . . .\n",
      " . . . . . . . . . . . . . 1 . . . . .\n",
      " . . . . . . . . . . . 1 1 . . . . . .\n",
      " . . . . . . . . . . . . . . . . . . .\n",
      " . . 1 . . . . . 1 . . . . . 1 1 . . .\n",
      " . . . . . . . . . . . . . . . . . . .\n",
      " . . . . . . . . . . . . . . . . . . .\n",
      " . . . . . . . . . . . . . . . . . . .\n",
      " . . . . . . . . . . . . . . . . . . .\n",
      " . . . . . . . . . . . . . . . . . . .\n",
      " . . . . . . . . . . . . . . . . . . .\n",
      " . . . . . . . . . . . . . . . . . . .\n",
      " . . . . . . . . . . . . . . . . . . .\n",
      " . . . . . . . . . . . . . . . . . . .\n",
      " . . . . . . . . . . . . . . . . . . .\n",
      " . . . . . . . . . . . . . . . . . . .\n",
      " . . 1 . . . . . . . . . . . . . . . .\n",
      " . . . . . . . . . . . . . . . . . . .\n",
      " . . . . . . . . . . . . . . . . . . .\n"
     ]
    }
   ],
   "source": [
    "lib_after=get_liberties_after(liste[61])\n",
    "print View(liste[60])\n",
    "print \n",
    "vis_layer(lib_after,0)\n",
    "print \n",
    "vis_layer(lib_after,1)\n",
    "print \n",
    "vis_layer(lib_after,2)"
   ]
  },
  {
   "cell_type": "code",
   "execution_count": null,
   "metadata": {
    "collapsed": true
   },
   "outputs": [],
   "source": [
    "def ladder_capture(state):\n",
    "    taille=state._width\n",
    "    planes = np.zeros((1, taille,taille))\n",
    "    \n",
    "    \n",
    "    return planes\n"
   ]
  },
  {
   "cell_type": "code",
   "execution_count": null,
   "metadata": {
    "collapsed": true
   },
   "outputs": [],
   "source": [
    "def ladder_escape(state):\n",
    "    taille=state._width\n",
    "    planes = np.zeros((1, taille,taille))\n",
    "    \n",
    "    \n",
    "    return planes\n"
   ]
  },
  {
   "cell_type": "code",
   "execution_count": 83,
   "metadata": {
    "collapsed": false
   },
   "outputs": [],
   "source": [
    "def get_sensibleness(state):\n",
    "    taille=state._width\n",
    "    planes = np.ones((1, taille,taille))\n",
    "    for x,y in state._legal:\n",
    "        planes[0,x-1,y-1]=0\n",
    "    return planes\n"
   ]
  },
  {
   "cell_type": "code",
   "execution_count": 84,
   "metadata": {
    "collapsed": false
   },
   "outputs": [
    {
     "name": "stdout",
     "output_type": "stream",
     "text": [
      "X . . . . . . . . . . . . . . . . . .\n",
      ". . . . . . . . * * * . . * . . . . .\n",
      ". . . o . . . * . * o * * o o . o . .\n",
      ". . o o * . . . * o o o . . . * o . .\n",
      ". . * . o . . . o . . . . . o o * * .\n",
      ". * . * o . . . . . . . . . . * o * .\n",
      ". . o * o . . . . . . . . . . . . . .\n",
      ". * * o . . . . . . . . . . . . * . .\n",
      ". * o o . . . . . . . . . . . . . . .\n",
      ". . * * . . . . . + . . . . . + o . .\n",
      ". o . . . . . . . . . . . . . . . . .\n",
      ". . . . . . . . . . . . . . . . . . .\n",
      ". . . . . . . . . . . . . . . . o . .\n",
      ". . o . . . . . . . . . . . . . . . .\n",
      ". . . . . . . . . . . . . . . . . . .\n",
      ". . o o . . . . . + . . . . . + * . .\n",
      ". . * . . . . . . . . . . * . . . . .\n",
      ". * . * . o . . . . . . . . . . . . .\n",
      ". . . . . . . . . . . . . . . . . . .\n",
      "\n",
      " 1 1 1 1 1 1 1 1 1 1 1 1 1 1 1 1 1 1 1\n",
      " 1 1 1 1 1 1 1 1 . . . 1 1 . 1 1 1 1 1\n",
      " 1 1 1 . 1 1 1 . . . . . . . . 1 . 1 1\n",
      " 1 1 . . . 1 1 1 . . . . 1 1 1 . . 1 1\n",
      " 1 1 . 1 . 1 1 1 . 1 1 1 1 1 . . . . 1\n",
      " 1 . 1 . . 1 1 1 1 1 1 1 1 1 1 . . . 1\n",
      " 1 1 . . . 1 1 1 1 1 1 1 1 1 1 1 1 1 1\n",
      " 1 . . . 1 1 1 1 1 1 1 1 1 1 1 1 . 1 1\n",
      " 1 . . . 1 1 1 1 1 1 1 1 1 1 1 1 1 1 1\n",
      " 1 1 . . 1 1 1 1 1 1 1 1 1 1 1 1 . 1 1\n",
      " 1 . 1 1 1 1 1 1 1 1 1 1 1 1 1 1 1 1 1\n",
      " 1 1 1 1 1 1 1 1 1 1 1 1 1 1 1 1 1 1 1\n",
      " 1 1 1 1 1 1 1 1 1 1 1 1 1 1 1 1 . 1 1\n",
      " 1 1 . 1 1 1 1 1 1 1 1 1 1 1 1 1 1 1 1\n",
      " 1 1 1 1 1 1 1 1 1 1 1 1 1 1 1 1 1 1 1\n",
      " 1 1 . . 1 1 1 1 1 1 1 1 1 1 1 1 . 1 1\n",
      " 1 1 . 1 1 1 1 1 1 1 1 1 1 . 1 1 1 1 1\n",
      " 1 . 1 . 1 . 1 1 1 1 1 1 1 1 1 1 1 1 1\n",
      " 1 1 1 1 1 1 1 1 1 1 1 1 1 1 1 1 1 1 1\n"
     ]
    }
   ],
   "source": [
    "sensibleness=get_sensibleness(liste[60])\n",
    "print View(liste[60])\n",
    "print \n",
    "vis_layer(sensibleness,0)"
   ]
  },
  {
   "cell_type": "code",
   "execution_count": 68,
   "metadata": {
    "collapsed": false
   },
   "outputs": [
    {
     "data": {
      "text/plain": [
       "(28L, 19L, 19L)"
      ]
     },
     "execution_count": 68,
     "metadata": {},
     "output_type": "execute_result"
    }
   ],
   "source": [
    "#zero\n",
    "zero=np.zeros((1, taille,taille))\n",
    "# ajout de zero au premier tenseur\n",
    "#tenseur_coup60=np.concatenate([tenseur_coup60,zero], axis=0) # a decommenter en dernier\n",
    "tenseur_coup60.shape"
   ]
  },
  {
   "cell_type": "code",
   "execution_count": null,
   "metadata": {
    "collapsed": true
   },
   "outputs": [],
   "source": []
  }
 ],
 "metadata": {
  "anaconda-cloud": {},
  "kernelspec": {
   "display_name": "Python [conda root]",
   "language": "python",
   "name": "conda-root-py"
  },
  "language_info": {
   "codemirror_mode": {
    "name": "ipython",
    "version": 2
   },
   "file_extension": ".py",
   "mimetype": "text/x-python",
   "name": "python",
   "nbconvert_exporter": "python",
   "pygments_lexer": "ipython2",
   "version": "2.7.12"
  }
 },
 "nbformat": 4,
 "nbformat_minor": 1
}
