{
 "cells": [
  {
   "cell_type": "code",
   "execution_count": 12,
   "metadata": {
    "collapsed": true,
    "scrolled": false
   },
   "outputs": [],
   "source": [
    "#import du fichier sgf\n",
    "from sgf_to_states import sgf_to_states\n",
    "nom_fichier=\"Mi_Yuting-Park_Junghwan.sgf\"\n",
    "taille_plateau=19\n",
    "\n",
    "liste = sgf_to_states(nom_fichier,taille_plateau)"
   ]
  },
  {
   "cell_type": "code",
   "execution_count": 13,
   "metadata": {
    "scrolled": true
   },
   "outputs": [
    {
     "name": "stdout",
     "output_type": "stream",
     "text": [
      "X . . . . . . . . . . . . . . . . . .\n",
      ". . . . . . . . * * * . . * . . . . .\n",
      ". . . o . . . * . * o * * o o . o . .\n",
      ". . o o * . . . * o o o . . . * o . .\n",
      ". . * . o . . . o . . . . . o o * * .\n",
      ". * . * o . . . . . . . . . . * o * .\n",
      ". . o * o . . . . . . . . . . . . . .\n",
      ". * * o . . . . . . . . . . . . * . .\n",
      ". * o o . . . . . . . . . . . . . . .\n",
      ". . * * . . . . . + . . . . . + o . .\n",
      ". . . . . . . . . . . . . . . . . . .\n",
      ". . . . . . . . . . . . . . . . . . .\n",
      ". . . . . . . . . . . . . . . . o . .\n",
      ". . o . . . . . . . . . . . . . . . .\n",
      ". . . . . . . . . . . . . . . . . . .\n",
      ". . o o . . . . . + . . . . . + * . .\n",
      ". . * . . . . . . . . . . * . . . . .\n",
      ". * . * . o . . . . . . . . . . . . .\n",
      ". . . . . . . . . . . . . . . . . . .\n",
      "X . . . . . . . . . . . . . . . . . .\n",
      ". . . . . . . . * * * . . * . . . . .\n",
      ". . . o . . . * . * o * * o o . o . .\n",
      ". . o o * . . . * o o o . . . * o . .\n",
      ". . * . o . . . o . . . . . o o * * .\n",
      ". * . * o . . . . . . . . . . * o * .\n",
      ". . o * o . . . . . . . . . . . . . .\n",
      ". * * o . . . . . . . . . . . . * . .\n",
      ". * o o . . . . . . . . . . . . . . .\n",
      ". . * * . . . . . + . . . . . + o . .\n",
      ". o . . . . . . . . . . . . . . . . .\n",
      ". . . . . . . . . . . . . . . . . . .\n",
      ". . . . . . . . . . . . . . . . o . .\n",
      ". . o . . . . . . . . . . . . . . . .\n",
      ". . . . . . . . . . . . . . . . . . .\n",
      ". . o o . . . . . + . . . . . + * . .\n",
      ". . * . . . . . . . . . . * . . . . .\n",
      ". * . * . o . . . . . . . . . . . . .\n",
      ". . . . . . . . . . . . . . . . . . .\n"
     ]
    }
   ],
   "source": [
    "#visualisation\n",
    "from go import View\n",
    "i=59\n",
    "while i<61:\n",
    "    view = View(liste[i])\n",
    "    print (view)\n",
    "    print\n",
    "    i+=1"
   ]
  },
  {
   "cell_type": "markdown",
   "metadata": {},
   "source": [
    "![title](img/Capture.JPG)"
   ]
  },
  {
   "cell_type": "code",
   "execution_count": 14,
   "metadata": {
    "collapsed": true
   },
   "outputs": [],
   "source": [
    "import numpy as np\n",
    "taille=19"
   ]
  },
  {
   "cell_type": "code",
   "execution_count": 20,
   "metadata": {
    "collapsed": true
   },
   "outputs": [],
   "source": [
    "#/!\\ fonction ne prenant pas en compte le ko /!\\\n",
    "def get_legal_moves (state,taille):\n",
    "    liste = []\n",
    "    x=1\n",
    "    while x<taille :\n",
    "        y=1\n",
    "        while y<taille:\n",
    "            if state[x, y] is not state.EMPTY:\n",
    "                if state._check_for_suicide(x, y):\n",
    "                    liste.append([x,y])\n",
    "            y=y+1\n",
    "        x=x+1\n",
    "    return liste\n",
    "                "
   ]
  },
  {
   "cell_type": "code",
   "execution_count": 31,
   "metadata": {},
   "outputs": [
    {
     "name": "stdout",
     "output_type": "stream",
     "text": [
      "[[2, 6], [2, 8], [2, 9], [2, 11], [2, 18], [3, 4], [3, 5], [3, 7], [3, 8], [3, 9], [3, 10], [3, 14], [3, 16], [3, 17], [4, 3], [4, 4], [4, 6], [4, 7], [4, 8], [4, 9], [4, 10], [4, 16], [4, 18], [5, 4], [5, 5], [5, 6], [5, 7], [6, 18], [8, 3], [9, 2], [9, 4], [9, 5], [10, 2], [10, 3], [10, 4], [11, 2], [11, 3], [11, 4], [12, 3], [12, 4], [13, 3], [14, 2], [14, 3], [14, 17], [15, 3], [15, 5], [16, 4], [16, 5], [16, 6], [17, 3], [17, 4], [17, 5], [17, 6], [17, 8], [17, 10], [17, 13], [17, 16], [18, 5], [18, 6]]\n"
     ]
    }
   ],
   "source": [
    "# fonction legal mo\n",
    "legaly = get_legal_moves (liste[60],taille)\n",
    "print (legaly)"
   ]
  },
  {
   "cell_type": "code",
   "execution_count": 32,
   "metadata": {
    "collapsed": true
   },
   "outputs": [],
   "source": [
    "def get_stonecolour(state,taille,legal):\n",
    "    planes = np.zeros((3, taille,taille))\n",
    "    for x,y in legal:\n",
    "        case=repr(state[x,y]) # conversion en string sinon le test == ne marche pas\n",
    "        if case=='Black': # pion noir\n",
    "            planes[0, x, y] = 1 \n",
    "        if case=='White': #pion blanc\n",
    "            planes[1, x, y] = 1 \n",
    "        if case=='Empty': #vide\n",
    "            planes[2, x, y] = 1 \n",
    "    \n",
    "    return planes\n"
   ]
  },
  {
   "cell_type": "code",
   "execution_count": 33,
   "metadata": {},
   "outputs": [
    {
     "data": {
      "text/plain": [
       "(3, 19, 19)"
      ]
     },
     "execution_count": 33,
     "metadata": {},
     "output_type": "execute_result"
    }
   ],
   "source": [
    "#stone colour\n",
    "tenseur_coup60=get_stonecolour(liste[60],taille,legaly)\n",
    "tenseur_coup60.shape"
   ]
  },
  {
   "cell_type": "code",
   "execution_count": 34,
   "metadata": {},
   "outputs": [
    {
     "data": {
      "text/plain": [
       "(4, 19, 19)"
      ]
     },
     "execution_count": 34,
     "metadata": {},
     "output_type": "execute_result"
    }
   ],
   "source": [
    "#ones\n",
    "ones=np.ones((1, taille,taille))\n",
    "# ajout de ones au premier tenseur\n",
    "tenseur_coup60=np.concatenate([tenseur_coup60,ones], axis=0)\n",
    "tenseur_coup60.shape"
   ]
  },
  {
   "cell_type": "code",
   "execution_count": 35,
   "metadata": {},
   "outputs": [
    {
     "data": {
      "text/plain": [
       "5"
      ]
     },
     "execution_count": 35,
     "metadata": {},
     "output_type": "execute_result"
    }
   ],
   "source": [
    "from go import Board\n",
    "liste[60].count_liberties(5,7)"
   ]
  },
  {
   "cell_type": "code",
   "execution_count": 36,
   "metadata": {
    "collapsed": true
   },
   "outputs": [],
   "source": [
    "#problème au bord on ne peut pas appeler count_liberties sur les bords du plateau...\n",
    "def get_liberties(state,taille,legal):\n",
    "    planes = np.zeros((8, taille,taille))\n",
    "    for x,y in legal:\n",
    "        n_liberties=state.count_liberties(x,y)\n",
    "        if n_liberties>8 :\n",
    "            n_liberties = 8\n",
    "        if not(n_liberties==0):\n",
    "            planes[n_liberties-1,x,y]=1\n",
    "    return planes"
   ]
  },
  {
   "cell_type": "code",
   "execution_count": 37,
   "metadata": {
    "scrolled": true
   },
   "outputs": [
    {
     "name": "stdout",
     "output_type": "stream",
     "text": [
      "[[ 0.  0.  0.  0.  0.  0.  0.  0.  0.  0.  0.  0.  0.  0.  0.  0.  0.  0.\n",
      "   0.]\n",
      " [ 0.  0.  0.  0.  0.  0.  0.  0.  0.  0.  0.  0.  0.  0.  0.  0.  0.  0.\n",
      "   0.]\n",
      " [ 0.  0.  0.  0.  0.  0.  1.  0.  1.  1.  0.  1.  0.  0.  0.  0.  0.  0.\n",
      "   1.]\n",
      " [ 0.  0.  0.  0.  0.  0.  0.  0.  1.  0.  1.  0.  0.  0.  1.  0.  0.  0.\n",
      "   0.]\n",
      " [ 0.  0.  0.  0.  0.  0.  0.  0.  0.  0.  1.  0.  0.  0.  0.  0.  0.  0.\n",
      "   1.]\n",
      " [ 0.  0.  0.  0.  0.  0.  0.  0.  0.  0.  0.  0.  0.  0.  0.  0.  0.  0.\n",
      "   0.]\n",
      " [ 0.  0.  0.  0.  0.  0.  0.  0.  0.  0.  0.  0.  0.  0.  0.  0.  0.  0.\n",
      "   1.]\n",
      " [ 0.  0.  0.  0.  0.  0.  0.  0.  0.  0.  0.  0.  0.  0.  0.  0.  0.  0.\n",
      "   0.]\n",
      " [ 0.  0.  0.  1.  0.  0.  0.  0.  0.  0.  0.  0.  0.  0.  0.  0.  0.  0.\n",
      "   0.]\n",
      " [ 0.  0.  0.  0.  0.  0.  0.  0.  0.  0.  0.  0.  0.  0.  0.  0.  0.  0.\n",
      "   0.]\n",
      " [ 0.  0.  0.  0.  1.  0.  0.  0.  0.  0.  0.  0.  0.  0.  0.  0.  0.  0.\n",
      "   0.]\n",
      " [ 0.  0.  0.  1.  1.  0.  0.  0.  0.  0.  0.  0.  0.  0.  0.  0.  0.  0.\n",
      "   0.]\n",
      " [ 0.  0.  0.  0.  1.  0.  0.  0.  0.  0.  0.  0.  0.  0.  0.  0.  0.  0.\n",
      "   0.]\n",
      " [ 0.  0.  0.  0.  0.  0.  0.  0.  0.  0.  0.  0.  0.  0.  0.  0.  0.  0.\n",
      "   0.]\n",
      " [ 0.  0.  0.  1.  0.  0.  0.  0.  0.  0.  0.  0.  0.  0.  0.  0.  0.  1.\n",
      "   0.]\n",
      " [ 0.  0.  0.  1.  0.  0.  0.  0.  0.  0.  0.  0.  0.  0.  0.  0.  0.  0.\n",
      "   0.]\n",
      " [ 0.  0.  0.  0.  0.  0.  0.  0.  0.  0.  0.  0.  0.  0.  0.  0.  0.  0.\n",
      "   0.]\n",
      " [ 0.  0.  0.  1.  1.  1.  0.  0.  1.  0.  1.  0.  0.  1.  0.  0.  1.  0.\n",
      "   0.]\n",
      " [ 0.  0.  0.  0.  0.  1.  1.  0.  0.  0.  0.  0.  0.  0.  0.  0.  0.  0.\n",
      "   0.]]\n",
      "X . . . . . . . . . . . . . . . . . .\n",
      ". . . . . . . . * * * . . * . . . . .\n",
      ". . . o . . . * . * o * * o o . o . .\n",
      ". . o o * . . . * o o o . . . * o . .\n",
      ". . * . o . . . o . . . . . o o * * .\n",
      ". * . * o . . . . . . . . . . * o * .\n",
      ". . o * o . . . . . . . . . . . . . .\n",
      ". * * o . . . . . . . . . . . . * . .\n",
      ". * o o . . . . . . . . . . . . . . .\n",
      ". . * * . . . . . + . . . . . + o . .\n",
      ". o . . . . . . . . . . . . . . . . .\n",
      ". . . . . . . . . . . . . . . . . . .\n",
      ". . . . . . . . . . . . . . . . o . .\n",
      ". . o . . . . . . . . . . . . . . . .\n",
      ". . . . . . . . . . . . . . . . . . .\n",
      ". . o o . . . . . + . . . . . + * . .\n",
      ". . * . . . . . . . . . . * . . . . .\n",
      ". * . * . o . . . . . . . . . . . . .\n",
      ". . . . . . . . . . . . . . . . . . .\n"
     ]
    }
   ],
   "source": [
    "liberties=get_liberties(liste[60],19,legaly)\n",
    "print (liberties[3,:,:])\n",
    "print (View(liste[60]))"
   ]
  },
  {
   "cell_type": "code",
   "execution_count": 38,
   "metadata": {},
   "outputs": [
    {
     "data": {
      "text/plain": [
       "(12, 19, 19)"
      ]
     },
     "execution_count": 38,
     "metadata": {},
     "output_type": "execute_result"
    }
   ],
   "source": [
    "# ajout de liberties au 1er tenseur\n",
    "tenseur_coup60=np.concatenate([tenseur_coup60,liberties], axis=0)\n",
    "tenseur_coup60.shape"
   ]
  },
  {
   "cell_type": "code",
   "execution_count": 39,
   "metadata": {
    "collapsed": true
   },
   "outputs": [],
   "source": [
    "#/!\\ fonction qui ne donne pas exactement l'historique de la partie masi le dernier changement de couleur d'une case /!\\\n",
    "def get_history(state,taille,legal):\n",
    "    planes = np.zeros((8, taille,taille))\n",
    "    for x,y in legal:\n",
    "        i=1\n",
    "        case=repr(state[x,y])                           # jmet un +1 psk tu as mis un +1\n",
    "        while i <8 : \n",
    "            hist = state._history[-i][0]\n",
    "            case_hist = repr(hist[x][y])\n",
    "            if (not(case==hist)and not(case==\"Empty\")): # on teste si la case a changé et i sert à savoir quand\n",
    "                planes[i-1,x,y]=1\n",
    "                i=9                                     # on retient que le dernier changement de couleur d'une case donc on passse à la suivante\n",
    "            i=i+1\n",
    "        if (not(case==\"Empty\") and (i==8)):             # toutes les cases non vides qu'on a pas prises sont >8\n",
    "            planes[7,x,y]=1\n",
    "    return planes"
   ]
  },
  {
   "cell_type": "code",
   "execution_count": 40,
   "metadata": {
    "scrolled": true
   },
   "outputs": [
    {
     "name": "stdout",
     "output_type": "stream",
     "text": [
      "[[ 0.  0.  0.  0.  0.  0.  0.  0.  0.  0.  0.  0.  0.  0.  0.  0.  0.  0.\n",
      "   0.]\n",
      " [ 0.  0.  0.  0.  0.  0.  0.  0.  0.  0.  0.  0.  0.  0.  0.  0.  0.  0.\n",
      "   0.]\n",
      " [ 0.  0.  0.  0.  0.  0.  1.  0.  1.  1.  0.  1.  0.  0.  0.  0.  0.  0.\n",
      "   1.]\n",
      " [ 0.  0.  0.  0.  1.  1.  0.  1.  1.  1.  1.  0.  0.  0.  1.  0.  1.  1.\n",
      "   0.]\n",
      " [ 0.  0.  0.  1.  1.  0.  1.  1.  1.  1.  1.  0.  0.  0.  0.  0.  1.  0.\n",
      "   1.]\n",
      " [ 0.  0.  0.  0.  1.  1.  1.  1.  0.  0.  0.  0.  0.  0.  0.  0.  0.  0.\n",
      "   0.]\n",
      " [ 0.  0.  0.  0.  0.  0.  0.  0.  0.  0.  0.  0.  0.  0.  0.  0.  0.  0.\n",
      "   1.]\n",
      " [ 0.  0.  0.  0.  0.  0.  0.  0.  0.  0.  0.  0.  0.  0.  0.  0.  0.  0.\n",
      "   0.]\n",
      " [ 0.  0.  0.  1.  0.  0.  0.  0.  0.  0.  0.  0.  0.  0.  0.  0.  0.  0.\n",
      "   0.]\n",
      " [ 0.  0.  1.  0.  1.  1.  0.  0.  0.  0.  0.  0.  0.  0.  0.  0.  0.  0.\n",
      "   0.]\n",
      " [ 0.  0.  1.  1.  1.  0.  0.  0.  0.  0.  0.  0.  0.  0.  0.  0.  0.  0.\n",
      "   0.]\n",
      " [ 0.  0.  1.  1.  1.  0.  0.  0.  0.  0.  0.  0.  0.  0.  0.  0.  0.  0.\n",
      "   0.]\n",
      " [ 0.  0.  0.  1.  1.  0.  0.  0.  0.  0.  0.  0.  0.  0.  0.  0.  0.  0.\n",
      "   0.]\n",
      " [ 0.  0.  0.  1.  0.  0.  0.  0.  0.  0.  0.  0.  0.  0.  0.  0.  0.  0.\n",
      "   0.]\n",
      " [ 0.  0.  1.  1.  0.  0.  0.  0.  0.  0.  0.  0.  0.  0.  0.  0.  0.  1.\n",
      "   0.]\n",
      " [ 0.  0.  0.  1.  0.  1.  0.  0.  0.  0.  0.  0.  0.  0.  0.  0.  0.  0.\n",
      "   0.]\n",
      " [ 0.  0.  0.  0.  1.  1.  1.  0.  0.  0.  0.  0.  0.  0.  0.  0.  0.  0.\n",
      "   0.]\n",
      " [ 0.  0.  0.  1.  1.  1.  1.  0.  1.  0.  1.  0.  0.  1.  0.  0.  1.  0.\n",
      "   0.]\n",
      " [ 0.  0.  0.  0.  0.  1.  1.  0.  0.  0.  0.  0.  0.  0.  0.  0.  0.  0.\n",
      "   0.]]\n",
      "X . . . . . . . . . . . . . . . . . .\n",
      ". . . . . . . . * * * . . * . . . . .\n",
      ". . . o . . . * . * o * * o o . o . .\n",
      ". . o o * . . . * o o o . . . * o . .\n",
      ". . * . o . . . o . . . . . o o * * .\n",
      ". * . * o . . . . . . . . . . * o * .\n",
      ". . o * o . . . . . . . . . . . . . .\n",
      ". * * o . . . . . . . . . . . . * . .\n",
      ". * o o . . . . . . . . . . . . . . .\n",
      ". . * * . . . . . + . . . . . + o . .\n",
      ". o . . . . . . . . . . . . . . . . .\n",
      ". . . . . . . . . . . . . . . . . . .\n",
      ". . . . . . . . . . . . . . . . o . .\n",
      ". . o . . . . . . . . . . . . . . . .\n",
      ". . . . . . . . . . . . . . . . . . .\n",
      ". . o o . . . . . + . . . . . + * . .\n",
      ". . * . . . . . . . . . . * . . . . .\n",
      ". * . * . o . . . . . . . . . . . . .\n",
      ". . . . . . . . . . . . . . . . . . .\n",
      "X . . . . . . . . . . . . . . . . . .\n",
      ". . . . . . . . * * * . . * . . . . .\n",
      ". . . o . . . * . * o * * o o . o . .\n",
      ". . o o * . . . * o o o . . . * o . .\n",
      ". . * . o . . . o . . . . . o o * * .\n",
      ". * . * o . . . . . . . . . . * o * .\n",
      ". . o * o . . . . . . . . . . . . . .\n",
      ". * * o . . . . . . . . . . . . * . .\n",
      ". * o o . . . . . . . . . . . . . . .\n",
      ". . * * . . . . . + . . . . . + o . .\n",
      ". . . . . . . . . . . . . . . . . . .\n",
      ". . . . . . . . . . . . . . . . . . .\n",
      ". . . . . . . . . . . . . . . . o . .\n",
      ". . o . . . . . . . . . . . . . . . .\n",
      ". . . . . . . . . . . . . . . . . . .\n",
      ". . o o . . . . . + . . . . . + * . .\n",
      ". . * . . . . . . . . . . * . . . . .\n",
      ". * . * . o . . . . . . . . . . . . .\n",
      ". . . . . . . . . . . . . . . . . . .\n"
     ]
    },
    {
     "ename": "AttributeError",
     "evalue": "'State' object has no attribute '_width'",
     "output_type": "error",
     "traceback": [
      "\u001b[1;31m---------------------------------------------------------------------------\u001b[0m",
      "\u001b[1;31mAttributeError\u001b[0m                            Traceback (most recent call last)",
      "\u001b[1;32m<ipython-input-40-8778b8e0a771>\u001b[0m in \u001b[0;36m<module>\u001b[1;34m()\u001b[0m\n\u001b[0;32m      3\u001b[0m \u001b[0mprint\u001b[0m \u001b[1;33m(\u001b[0m\u001b[0mView\u001b[0m\u001b[1;33m(\u001b[0m\u001b[0mliste\u001b[0m\u001b[1;33m[\u001b[0m\u001b[1;36m60\u001b[0m\u001b[1;33m]\u001b[0m\u001b[1;33m)\u001b[0m\u001b[1;33m)\u001b[0m\u001b[1;33m\u001b[0m\u001b[0m\n\u001b[0;32m      4\u001b[0m \u001b[0mprint\u001b[0m \u001b[1;33m(\u001b[0m\u001b[0mView\u001b[0m\u001b[1;33m(\u001b[0m\u001b[0mliste\u001b[0m\u001b[1;33m[\u001b[0m\u001b[1;36m59\u001b[0m\u001b[1;33m]\u001b[0m\u001b[1;33m)\u001b[0m\u001b[1;33m)\u001b[0m\u001b[1;33m\u001b[0m\u001b[0m\n\u001b[1;32m----> 5\u001b[1;33m \u001b[0mprint\u001b[0m \u001b[1;33m(\u001b[0m\u001b[0mView\u001b[0m\u001b[1;33m(\u001b[0m\u001b[0mliste\u001b[0m\u001b[1;33m[\u001b[0m\u001b[1;36m60\u001b[0m\u001b[1;33m]\u001b[0m\u001b[1;33m.\u001b[0m\u001b[0m_history\u001b[0m\u001b[1;33m[\u001b[0m\u001b[1;33m-\u001b[0m\u001b[1;36m1\u001b[0m\u001b[1;33m]\u001b[0m\u001b[1;33m)\u001b[0m\u001b[1;33m)\u001b[0m\u001b[1;33m\u001b[0m\u001b[0m\n\u001b[0m",
      "\u001b[1;32m~\\Anaconda3\\projet go\\Draft-master\\go\\view.py\u001b[0m in \u001b[0;36m__init__\u001b[1;34m(self, board)\u001b[0m\n\u001b[0;32m     18\u001b[0m         \u001b[0mself\u001b[0m\u001b[1;33m.\u001b[0m\u001b[0m_cursor\u001b[0m \u001b[1;33m=\u001b[0m \u001b[1;33m(\u001b[0m\u001b[1;36m1\u001b[0m\u001b[1;33m,\u001b[0m \u001b[1;36m1\u001b[0m\u001b[1;33m)\u001b[0m\u001b[1;33m\u001b[0m\u001b[0m\n\u001b[0;32m     19\u001b[0m \u001b[1;33m\u001b[0m\u001b[0m\n\u001b[1;32m---> 20\u001b[1;33m         \u001b[0mself\u001b[0m\u001b[1;33m.\u001b[0m\u001b[0m_hoshis\u001b[0m \u001b[1;33m=\u001b[0m \u001b[0mself\u001b[0m\u001b[1;33m.\u001b[0m\u001b[0m_get_hoshis\u001b[0m\u001b[1;33m(\u001b[0m\u001b[0mboard\u001b[0m\u001b[1;33m.\u001b[0m\u001b[0m_width\u001b[0m\u001b[1;33m)\u001b[0m\u001b[1;33m\u001b[0m\u001b[0m\n\u001b[0m\u001b[0;32m     21\u001b[0m \u001b[1;33m\u001b[0m\u001b[0m\n\u001b[0;32m     22\u001b[0m         super(View, self).__init__(\n",
      "\u001b[1;31mAttributeError\u001b[0m: 'State' object has no attribute '_width'"
     ]
    }
   ],
   "source": [
    "history=get_history(liste[60],19,legaly)\n",
    "print (history[0,:,:])\n",
    "print (View(liste[60]))\n",
    "print (View(liste[59]))\n",
    "print (View(liste[60]._history[-1]))"
   ]
  },
  {
   "cell_type": "code",
   "execution_count": null,
   "metadata": {
    "collapsed": true
   },
   "outputs": [],
   "source": [
    "def get_captured(state,taille,legal):\n",
    "    planes = np.zeros((8, taille,taille))\n",
    "    for x,y in legal:\n",
    "        while y<taille:\n",
    "            state_copy = state\n",
    "            n_captured = state_copy._take_pieces(x, y)\n",
    "            if n_captured>8 :\n",
    "                n_captured = 8\n",
    "            if not(n_captured==0):\n",
    "                planes[n_captured-1,x,y]=1\n",
    "\n",
    "    return planes"
   ]
  },
  {
   "cell_type": "code",
   "execution_count": null,
   "metadata": {
    "collapsed": true,
    "scrolled": true
   },
   "outputs": [],
   "source": [
    "captured=get_captured(liste[60],19,legaly)\n",
    "print (liberties[3,:,:])\n",
    "print (View(liste[60]))"
   ]
  }
 ],
 "metadata": {
  "anaconda-cloud": {},
  "kernelspec": {
   "display_name": "Python 3",
   "language": "python",
   "name": "python3"
  },
  "language_info": {
   "codemirror_mode": {
    "name": "ipython",
    "version": 3
   },
   "file_extension": ".py",
   "mimetype": "text/x-python",
   "name": "python",
   "nbconvert_exporter": "python",
   "pygments_lexer": "ipython3",
   "version": "3.6.3"
  }
 },
 "nbformat": 4,
 "nbformat_minor": 1
}
