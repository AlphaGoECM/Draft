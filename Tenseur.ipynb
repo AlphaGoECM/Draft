{
 "cells": [
  {
   "cell_type": "code",
   "execution_count": 4,
   "metadata": {
    "collapsed": true
   },
   "outputs": [],
   "source": [
    "#import du fichier sgf\n",
    "from sgf_to_states import sgf_to_states\n",
    "nom_fichier=\"Mi_Yuting-Park_Junghwan.sgf\"\n",
    "taille_plateau=19\n",
    "\n",
    "liste = sgf_to_states(nom_fichier,taille_plateau)"
   ]
  },
  {
   "cell_type": "code",
   "execution_count": 6,
   "metadata": {
    "collapsed": false
   },
   "outputs": [
    {
     "name": "stdout",
     "output_type": "stream",
     "text": [
      "X . . . . . . . . . . . . . . . . . .\n",
      ". . . . . . . . \u001b[1m*\u001b[0m \u001b[1m*\u001b[0m \u001b[1m*\u001b[0m . . \u001b[1m*\u001b[0m . . . . .\n",
      ". . . \u001b[1mo\u001b[0m . . . \u001b[1m*\u001b[0m . \u001b[1m*\u001b[0m \u001b[1mo\u001b[0m \u001b[1m*\u001b[0m \u001b[1m*\u001b[0m \u001b[1mo\u001b[0m \u001b[1mo\u001b[0m . \u001b[1mo\u001b[0m . .\n",
      ". . \u001b[1mo\u001b[0m \u001b[1mo\u001b[0m \u001b[1m*\u001b[0m . . . \u001b[1m*\u001b[0m \u001b[1mo\u001b[0m \u001b[1mo\u001b[0m \u001b[1mo\u001b[0m . . . \u001b[1m*\u001b[0m \u001b[1mo\u001b[0m . .\n",
      ". . \u001b[1m*\u001b[0m . \u001b[1mo\u001b[0m . . . \u001b[1mo\u001b[0m . . . . . \u001b[1mo\u001b[0m \u001b[1mo\u001b[0m \u001b[1m*\u001b[0m \u001b[1m*\u001b[0m .\n",
      ". \u001b[1m*\u001b[0m . \u001b[1m*\u001b[0m \u001b[1mo\u001b[0m . . . . . . . . . . \u001b[1m*\u001b[0m \u001b[1mo\u001b[0m \u001b[1m*\u001b[0m .\n",
      ". . \u001b[1mo\u001b[0m \u001b[1m*\u001b[0m \u001b[1mo\u001b[0m . . . . . . . . . . . . . .\n",
      ". \u001b[1m*\u001b[0m \u001b[1m*\u001b[0m \u001b[1mo\u001b[0m . . . . . . . . . . . . \u001b[1m*\u001b[0m . .\n",
      ". \u001b[1m*\u001b[0m \u001b[1mo\u001b[0m \u001b[1mo\u001b[0m . . . . . . . . . . . . . . .\n",
      ". . \u001b[1m*\u001b[0m \u001b[1m*\u001b[0m . . . . . + . . . . . + \u001b[1mo\u001b[0m . .\n",
      ". . . . . . . . . . . . . . . . . . .\n",
      ". . . . . . . . . . . . . . . . . . .\n",
      ". . . . . . . . . . . . . . . . \u001b[1mo\u001b[0m . .\n",
      ". . \u001b[1mo\u001b[0m . . . . . . . . . . . . . . . .\n",
      ". . . . . . . . . . . . . . . . . . .\n",
      ". . \u001b[1mo\u001b[0m \u001b[1mo\u001b[0m . . . . . + . . . . . + \u001b[1m*\u001b[0m . .\n",
      ". . \u001b[1m*\u001b[0m . . . . . . . . . . \u001b[1m*\u001b[0m . . . . .\n",
      ". \u001b[1m*\u001b[0m . \u001b[1m*\u001b[0m . \u001b[1mo\u001b[0m . . . . . . . . . . . . .\n",
      ". . . . . . . . . . . . . . . . . . .\n",
      "\n",
      "X . . . . . . . . . . . . . . . . . .\n",
      ". . . . . . . . \u001b[1m*\u001b[0m \u001b[1m*\u001b[0m \u001b[1m*\u001b[0m . . \u001b[1m*\u001b[0m . . . . .\n",
      ". . . \u001b[1mo\u001b[0m . . . \u001b[1m*\u001b[0m . \u001b[1m*\u001b[0m \u001b[1mo\u001b[0m \u001b[1m*\u001b[0m \u001b[1m*\u001b[0m \u001b[1mo\u001b[0m \u001b[1mo\u001b[0m . \u001b[1mo\u001b[0m . .\n",
      ". . \u001b[1mo\u001b[0m \u001b[1mo\u001b[0m \u001b[1m*\u001b[0m . . . \u001b[1m*\u001b[0m \u001b[1mo\u001b[0m \u001b[1mo\u001b[0m \u001b[1mo\u001b[0m . . . \u001b[1m*\u001b[0m \u001b[1mo\u001b[0m . .\n",
      ". . \u001b[1m*\u001b[0m . \u001b[1mo\u001b[0m . . . \u001b[1mo\u001b[0m . . . . . \u001b[1mo\u001b[0m \u001b[1mo\u001b[0m \u001b[1m*\u001b[0m \u001b[1m*\u001b[0m .\n",
      ". \u001b[1m*\u001b[0m . \u001b[1m*\u001b[0m \u001b[1mo\u001b[0m . . . . . . . . . . \u001b[1m*\u001b[0m \u001b[1mo\u001b[0m \u001b[1m*\u001b[0m .\n",
      ". . \u001b[1mo\u001b[0m \u001b[1m*\u001b[0m \u001b[1mo\u001b[0m . . . . . . . . . . . . . .\n",
      ". \u001b[1m*\u001b[0m \u001b[1m*\u001b[0m \u001b[1mo\u001b[0m . . . . . . . . . . . . \u001b[1m*\u001b[0m . .\n",
      ". \u001b[1m*\u001b[0m \u001b[1mo\u001b[0m \u001b[1mo\u001b[0m . . . . . . . . . . . . . . .\n",
      ". . \u001b[1m*\u001b[0m \u001b[1m*\u001b[0m . . . . . + . . . . . + \u001b[1mo\u001b[0m . .\n",
      ". \u001b[1mo\u001b[0m . . . . . . . . . . . . . . . . .\n",
      ". . . . . . . . . . . . . . . . . . .\n",
      ". . . . . . . . . . . . . . . . \u001b[1mo\u001b[0m . .\n",
      ". . \u001b[1mo\u001b[0m . . . . . . . . . . . . . . . .\n",
      ". . . . . . . . . . . . . . . . . . .\n",
      ". . \u001b[1mo\u001b[0m \u001b[1mo\u001b[0m . . . . . + . . . . . + \u001b[1m*\u001b[0m . .\n",
      ". . \u001b[1m*\u001b[0m . . . . . . . . . . \u001b[1m*\u001b[0m . . . . .\n",
      ". \u001b[1m*\u001b[0m . \u001b[1m*\u001b[0m . \u001b[1mo\u001b[0m . . . . . . . . . . . . .\n",
      ". . . . . . . . . . . . . . . . . . .\n",
      "\n"
     ]
    }
   ],
   "source": [
    "#visualisation\n",
    "from go import View\n",
    "i=59\n",
    "while i<61:\n",
    "    view = View(liste[i])\n",
    "    print view\n",
    "    print\n",
    "    i+=1"
   ]
  },
  {
   "cell_type": "markdown",
   "metadata": {},
   "source": [
    "![title](img/Capture.JPG)"
   ]
  },
  {
   "cell_type": "code",
   "execution_count": 20,
   "metadata": {
    "collapsed": true
   },
   "outputs": [],
   "source": [
    "import numpy as np\n",
    "taille=19"
   ]
  },
  {
   "cell_type": "code",
   "execution_count": 21,
   "metadata": {
    "collapsed": true
   },
   "outputs": [],
   "source": [
    "def get_stonecolour(state,taille):\n",
    "    planes = np.zeros((3, taille,taille))\n",
    "    x=0\n",
    "    while x<taille:\n",
    "        y=0\n",
    "        while y<taille:\n",
    "            case=repr(state[x+1,y+1]) # conversion en string sinon le test == ne marche pas\n",
    "            if case=='Black': # pion noir\n",
    "                planes[0, x, y] = 1 \n",
    "            if case=='White': #pion blanc\n",
    "                planes[1, x, y] = 1 \n",
    "            if case=='Empty': #vide\n",
    "                planes[2, x, y] = 1 \n",
    "            y+=1\n",
    "        x+=1\n",
    "    \n",
    "    return planes\n"
   ]
  },
  {
   "cell_type": "code",
   "execution_count": 22,
   "metadata": {
    "collapsed": false
   },
   "outputs": [
    {
     "data": {
      "text/plain": [
       "(3L, 19L, 19L)"
      ]
     },
     "execution_count": 22,
     "metadata": {},
     "output_type": "execute_result"
    }
   ],
   "source": [
    "#stone colour\n",
    "tenseur_coup60=get_stonecolour(liste[60],taille)\n",
    "tenseur_coup60.shape"
   ]
  },
  {
   "cell_type": "code",
   "execution_count": 28,
   "metadata": {
    "collapsed": false
   },
   "outputs": [
    {
     "data": {
      "text/plain": [
       "(4L, 19L, 19L)"
      ]
     },
     "execution_count": 28,
     "metadata": {},
     "output_type": "execute_result"
    }
   ],
   "source": [
    "#ones\n",
    "ones=np.ones((1, taille,taille))\n",
    "# ajout de ones au premier tenseur\n",
    "tenseur_coup60=np.concatenate([tenseur_coup60,ones], axis=0)\n",
    "tenseur_coup60.shape"
   ]
  },
  {
   "cell_type": "code",
   "execution_count": 84,
   "metadata": {
    "collapsed": false
   },
   "outputs": [
    {
     "data": {
      "text/plain": [
       "5"
      ]
     },
     "execution_count": 84,
     "metadata": {},
     "output_type": "execute_result"
    }
   ],
   "source": [
    "from go import Board\n",
    "liste[60].count_liberties(5,7)"
   ]
  },
  {
   "cell_type": "code",
   "execution_count": 64,
   "metadata": {
    "collapsed": false
   },
   "outputs": [],
   "source": [
    "#problème au bord on ne peut pas appeler count_liberties sur les bords du plateau...\n",
    "def get_liberties(state,taille):\n",
    "    planes = np.zeros((8, taille,taille))\n",
    "    x=1\n",
    "    while x<taille-1:\n",
    "        y=1\n",
    "        \n",
    "        while y<taille-1:\n",
    "            n_liberties=state.count_liberties(x,y)\n",
    "            planes[n_liberties,x,y]=1\n",
    "            y+=1\n",
    "        x+=1\n",
    "    \n",
    "    return planes"
   ]
  },
  {
   "cell_type": "code",
   "execution_count": 81,
   "metadata": {
    "collapsed": false
   },
   "outputs": [
    {
     "name": "stdout",
     "output_type": "stream",
     "text": [
      "[[ 0.  0.  0.  0.  0.  0.  0.  0.  0.  0.  0.  0.  0.  0.  0.  0.  0.  0.\n",
      "   0.]\n",
      " [ 0.  0.  0.  0.  0.  0.  0.  0.  0.  0.  0.  0.  0.  0.  0.  0.  0.  0.\n",
      "   0.]\n",
      " [ 0.  0.  0.  0.  0.  0.  0.  0.  0.  0.  0.  0.  0.  0.  0.  0.  0.  0.\n",
      "   0.]\n",
      " [ 0.  0.  0.  0.  0.  1.  0.  0.  0.  0.  0.  0.  0.  0.  0.  0.  0.  1.\n",
      "   0.]\n",
      " [ 0.  0.  0.  0.  0.  0.  0.  0.  0.  0.  0.  0.  0.  0.  0.  0.  0.  0.\n",
      "   0.]\n",
      " [ 0.  0.  0.  0.  0.  0.  0.  0.  0.  0.  0.  0.  0.  0.  0.  0.  0.  0.\n",
      "   0.]\n",
      " [ 0.  0.  0.  0.  0.  0.  0.  0.  0.  0.  0.  0.  0.  0.  0.  0.  0.  0.\n",
      "   0.]\n",
      " [ 0.  0.  0.  0.  0.  0.  0.  0.  0.  0.  0.  0.  0.  0.  0.  0.  0.  0.\n",
      "   0.]\n",
      " [ 0.  0.  0.  0.  0.  0.  0.  0.  0.  0.  0.  0.  0.  0.  0.  0.  0.  0.\n",
      "   0.]\n",
      " [ 0.  0.  0.  0.  0.  1.  0.  0.  0.  0.  0.  0.  0.  0.  0.  0.  0.  0.\n",
      "   0.]\n",
      " [ 0.  0.  0.  0.  0.  0.  0.  0.  0.  0.  0.  0.  0.  0.  0.  0.  0.  0.\n",
      "   0.]\n",
      " [ 0.  0.  0.  0.  0.  0.  0.  0.  0.  0.  0.  0.  0.  0.  0.  0.  0.  0.\n",
      "   0.]\n",
      " [ 0.  0.  0.  1.  0.  0.  0.  0.  0.  0.  0.  0.  0.  0.  0.  0.  0.  0.\n",
      "   0.]\n",
      " [ 0.  0.  0.  1.  0.  0.  0.  0.  0.  0.  0.  0.  0.  0.  0.  0.  0.  0.\n",
      "   0.]\n",
      " [ 0.  0.  1.  0.  0.  0.  0.  0.  0.  0.  0.  0.  0.  0.  0.  0.  0.  0.\n",
      "   0.]\n",
      " [ 0.  0.  0.  0.  0.  1.  0.  0.  0.  0.  0.  0.  0.  0.  0.  0.  0.  0.\n",
      "   0.]\n",
      " [ 0.  0.  0.  0.  0.  1.  0.  0.  0.  0.  0.  0.  0.  0.  0.  0.  0.  0.\n",
      "   0.]\n",
      " [ 0.  0.  0.  0.  0.  0.  0.  0.  0.  0.  0.  0.  0.  0.  0.  0.  0.  0.\n",
      "   0.]\n",
      " [ 0.  0.  0.  0.  0.  0.  0.  0.  0.  0.  0.  0.  0.  0.  0.  0.  0.  0.\n",
      "   0.]]\n",
      "X . . . . . . . . . . . . . . . . . .\n",
      ". . . . . . . . \u001b[1m*\u001b[0m \u001b[1m*\u001b[0m \u001b[1m*\u001b[0m . . \u001b[1m*\u001b[0m . . . . .\n",
      ". . . \u001b[1mo\u001b[0m . . . \u001b[1m*\u001b[0m . \u001b[1m*\u001b[0m \u001b[1mo\u001b[0m \u001b[1m*\u001b[0m \u001b[1m*\u001b[0m \u001b[1mo\u001b[0m \u001b[1mo\u001b[0m . \u001b[1mo\u001b[0m . .\n",
      ". . \u001b[1mo\u001b[0m \u001b[1mo\u001b[0m \u001b[1m*\u001b[0m . . . \u001b[1m*\u001b[0m \u001b[1mo\u001b[0m \u001b[1mo\u001b[0m \u001b[1mo\u001b[0m . . . \u001b[1m*\u001b[0m \u001b[1mo\u001b[0m . .\n",
      ". . \u001b[1m*\u001b[0m . \u001b[1mo\u001b[0m . . . \u001b[1mo\u001b[0m . . . . . \u001b[1mo\u001b[0m \u001b[1mo\u001b[0m \u001b[1m*\u001b[0m \u001b[1m*\u001b[0m .\n",
      ". \u001b[1m*\u001b[0m . \u001b[1m*\u001b[0m \u001b[1mo\u001b[0m . . . . . . . . . . \u001b[1m*\u001b[0m \u001b[1mo\u001b[0m \u001b[1m*\u001b[0m .\n",
      ". . \u001b[1mo\u001b[0m \u001b[1m*\u001b[0m \u001b[1mo\u001b[0m . . . . . . . . . . . . . .\n",
      ". \u001b[1m*\u001b[0m \u001b[1m*\u001b[0m \u001b[1mo\u001b[0m . . . . . . . . . . . . \u001b[1m*\u001b[0m . .\n",
      ". \u001b[1m*\u001b[0m \u001b[1mo\u001b[0m \u001b[1mo\u001b[0m . . . . . . . . . . . . . . .\n",
      ". . \u001b[1m*\u001b[0m \u001b[1m*\u001b[0m . . . . . + . . . . . + \u001b[1mo\u001b[0m . .\n",
      ". \u001b[1mo\u001b[0m . . . . . . . . . . . . . . . . .\n",
      ". . . . . . . . . . . . . . . . . . .\n",
      ". . . . . . . . . . . . . . . . \u001b[1mo\u001b[0m . .\n",
      ". . \u001b[1mo\u001b[0m . . . . . . . . . . . . . . . .\n",
      ". . . . . . . . . . . . . . . . . . .\n",
      ". . \u001b[1mo\u001b[0m \u001b[1mo\u001b[0m . . . . . + . . . . . + \u001b[1m*\u001b[0m . .\n",
      ". . \u001b[1m*\u001b[0m . . . . . . . . . . \u001b[1m*\u001b[0m . . . . .\n",
      ". \u001b[1m*\u001b[0m . \u001b[1m*\u001b[0m . \u001b[1mo\u001b[0m . . . . . . . . . . . . .\n",
      ". . . . . . . . . . . . . . . . . . .\n"
     ]
    }
   ],
   "source": [
    "# a vérifier !!!\n",
    "liberties=get_liberties(liste[60],19)\n",
    "print liberties[3,:,:]\n",
    "print View(liste[60])"
   ]
  },
  {
   "cell_type": "code",
   "execution_count": 79,
   "metadata": {
    "collapsed": false
   },
   "outputs": [
    {
     "data": {
      "text/plain": [
       "(12L, 19L, 19L)"
      ]
     },
     "execution_count": 79,
     "metadata": {},
     "output_type": "execute_result"
    }
   ],
   "source": [
    "# ajout de liberties au 1er tenseur\n",
    "tenseur_coup60=np.concatenate([tenseur_coup60,liberties], axis=0)\n",
    "tenseur_coup60.shape"
   ]
  },
  {
   "cell_type": "code",
   "execution_count": null,
   "metadata": {
    "collapsed": true
   },
   "outputs": [],
   "source": []
  }
 ],
 "metadata": {
  "anaconda-cloud": {},
  "kernelspec": {
   "display_name": "Python [conda root]",
   "language": "python",
   "name": "conda-root-py"
  },
  "language_info": {
   "codemirror_mode": {
    "name": "ipython",
    "version": 2
   },
   "file_extension": ".py",
   "mimetype": "text/x-python",
   "name": "python",
   "nbconvert_exporter": "python",
   "pygments_lexer": "ipython2",
   "version": "2.7.12"
  }
 },
 "nbformat": 4,
 "nbformat_minor": 1
}
