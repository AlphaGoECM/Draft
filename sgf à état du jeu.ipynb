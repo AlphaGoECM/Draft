{
 "cells": [
  {
   "cell_type": "markdown",
   "metadata": {},
   "source": [
    "Adapted from https://github.com/davidzheng814/GoBot/blob/master/create_training_data.py\n",
    "and https://github.com/davesque/go.py/blob/master/go/board.py"
   ]
  },
  {
   "cell_type": "markdown",
   "metadata": {},
   "source": [
    "# Chargement du ficher sfg et création des états de jeu"
   ]
  },
  {
   "cell_type": "code",
   "execution_count": 67,
   "metadata": {
    "collapsed": false
   },
   "outputs": [],
   "source": [
    "import os\n",
    "import numpy as np\n",
    "from multiprocessing import Process\n",
    "import sys"
   ]
  },
  {
   "cell_type": "code",
   "execution_count": 62,
   "metadata": {
    "collapsed": true
   },
   "outputs": [],
   "source": [
    "# créer la liste contenant la liste des coups joués dans le sgf\n",
    "def sgf_to_moves_list(filename):\n",
    "    f = open(filename, 'r')\n",
    "    content = f.read()\n",
    "    f.close()\n",
    "\n",
    "    if 'AB[' in content or 'AW[' in content:\n",
    "        return False\n",
    "\n",
    "    moves = []\n",
    "    ind = 0\n",
    "\n",
    "    while True:\n",
    "        if len(moves) % 2 == 0:\n",
    "            index = content.find(';B[', ind)\n",
    "            if index == -1:\n",
    "                break\n",
    "        else:\n",
    "            index = content.find(';W[', ind)\n",
    "            if index == -1:\n",
    "                break\n",
    "\n",
    "        if content[index + 3] == ']':\n",
    "            moves.append('pass')\n",
    "            ind = index + 4\n",
    "            continue\n",
    "\n",
    "        x, y = [ord(letter) - ord('a') for letter in content[index+3:index+5]]\n",
    "\n",
    "        moves.append((x, y))\n",
    "        ind = index + 6\n",
    "\n",
    "    return moves"
   ]
  },
  {
   "cell_type": "code",
   "execution_count": 74,
   "metadata": {
    "collapsed": false
   },
   "outputs": [
    {
     "data": {
      "text/plain": [
       "[(15, 3),\n",
       " (3, 15),\n",
       " (16, 15),\n",
       " (3, 2),\n",
       " (13, 16),\n",
       " (16, 9),\n",
       " (2, 4),\n",
       " (3, 7),\n",
       " (16, 7),\n",
       " (2, 3),\n",
       " (4, 3),\n",
       " (3, 3),\n",
       " (2, 7),\n",
       " (2, 6),\n",
       " (3, 6),\n",
       " (2, 8),\n",
       " (1, 7),\n",
       " (4, 6),\n",
       " (3, 5),\n",
       " (4, 5),\n",
       " (1, 8),\n",
       " (3, 8),\n",
       " (2, 9),\n",
       " (9, 3),\n",
       " (3, 9),\n",
       " (4, 4),\n",
       " (11, 2),\n",
       " (13, 2),\n",
       " (9, 2),\n",
       " (8, 2),\n",
       " (8, 3),\n",
       " (10, 2),\n",
       " (9, 1),\n",
       " (10, 3),\n",
       " (10, 1),\n",
       " (11, 3),\n",
       " (7, 2),\n",
       " (8, 4),\n",
       " (8, 1),\n",
       " (16, 5),\n",
       " (15, 5),\n",
       " (15, 4),\n",
       " (16, 4),\n",
       " (14, 4),\n",
       " (17, 5),\n",
       " (16, 3),\n",
       " (17, 4),\n",
       " (16, 2),\n",
       " (12, 2),\n",
       " (2, 13),\n",
       " (1, 5),\n",
       " (16, 12),\n",
       " (13, 1),\n",
       " (14, 2),\n",
       " (3, 17),\n",
       " (5, 17),\n",
       " (2, 16),\n",
       " (2, 15),\n",
       " (1, 17),\n",
       " (1, 10),\n",
       " (4, 16),\n",
       " (1, 9),\n",
       " (2, 11),\n",
       " (1, 11),\n",
       " (5, 9),\n",
       " (5, 8),\n",
       " (1, 3),\n",
       " (6, 9),\n",
       " (5, 10),\n",
       " (6, 8),\n",
       " (5, 14),\n",
       " (4, 13),\n",
       " (6, 12),\n",
       " (8, 15),\n",
       " (6, 16),\n",
       " (5, 12),\n",
       " (2, 12),\n",
       " (2, 10),\n",
       " (5, 13),\n",
       " (6, 11),\n",
       " (1, 12),\n",
       " (1, 13),\n",
       " (8, 14),\n",
       " (7, 12),\n",
       " (0, 13),\n",
       " (0, 14),\n",
       " (0, 12),\n",
       " (3, 11),\n",
       " (3, 12),\n",
       " (4, 12),\n",
       " (3, 10),\n",
       " (4, 11),\n",
       " (1, 14),\n",
       " (4, 9),\n",
       " (9, 15),\n",
       " (7, 15),\n",
       " (4, 10),\n",
       " (6, 10),\n",
       " (7, 14),\n",
       " (6, 15),\n",
       " (4, 14),\n",
       " (3, 13),\n",
       " (5, 16),\n",
       " (12, 16),\n",
       " (13, 15),\n",
       " (15, 16),\n",
       " (12, 17),\n",
       " (15, 15),\n",
       " (16, 16),\n",
       " (9, 14),\n",
       " (10, 15),\n",
       " (16, 17),\n",
       " (17, 17),\n",
       " (9, 13),\n",
       " (8, 12),\n",
       " (9, 12),\n",
       " (8, 11),\n",
       " (14, 17),\n",
       " (16, 18),\n",
       " (11, 16),\n",
       " (11, 17),\n",
       " (10, 16),\n",
       " (9, 16),\n",
       " (10, 17),\n",
       " (13, 17),\n",
       " (12, 14),\n",
       " (15, 13),\n",
       " (15, 14),\n",
       " (16, 14),\n",
       " (16, 13),\n",
       " (15, 12),\n",
       " (15, 18),\n",
       " (15, 17),\n",
       " (15, 11),\n",
       " (14, 11),\n",
       " (15, 10),\n",
       " (14, 14),\n",
       " (10, 14),\n",
       " (9, 17),\n",
       " (16, 17),\n",
       " (17, 18),\n",
       " (17, 14),\n",
       " (18, 15),\n",
       " (8, 13),\n",
       " (7, 13),\n",
       " (6, 13),\n",
       " (6, 14),\n",
       " (15, 6),\n",
       " (16, 6),\n",
       " (14, 6),\n",
       " (13, 12),\n",
       " (12, 11),\n",
       " (14, 10),\n",
       " (14, 9),\n",
       " (13, 9),\n",
       " (13, 10),\n",
       " (14, 8),\n",
       " (15, 9),\n",
       " (12, 12),\n",
       " (11, 11),\n",
       " (14, 7),\n",
       " (12, 9),\n",
       " (11, 12),\n",
       " (10, 11),\n",
       " (12, 3),\n",
       " (13, 6),\n",
       " (13, 4),\n",
       " (14, 3),\n",
       " (17, 3),\n",
       " (17, 2),\n",
       " (16, 8),\n",
       " (13, 8),\n",
       " (13, 5),\n",
       " (1, 2),\n",
       " (4, 8),\n",
       " (4, 7),\n",
       " (0, 15),\n",
       " (1, 6),\n",
       " (0, 6),\n",
       " (0, 8),\n",
       " (2, 5),\n",
       " (0, 3),\n",
       " (0, 4),\n",
       " (1, 4),\n",
       " (0, 14),\n",
       " (14, 5),\n",
       " (1, 3),\n",
       " (18, 3),\n",
       " (17, 11),\n",
       " (17, 10)]"
      ]
     },
     "execution_count": 74,
     "metadata": {},
     "output_type": "execute_result"
    }
   ],
   "source": [
    "moves=sgf_to_moves_list(\"Mi_Yuting-Park_Junghwan.sgf\")\n",
    "moves"
   ]
  },
  {
   "cell_type": "code",
   "execution_count": 17,
   "metadata": {
    "collapsed": true
   },
   "outputs": [],
   "source": [
    "# paramètre initiaux\n",
    "taille = 19\n",
    "in_bounds = lambda x, y: 0 <= x < taille and 0 <= y < taille\n"
   ]
  },
  {
   "cell_type": "code",
   "execution_count": 20,
   "metadata": {
    "collapsed": false
   },
   "outputs": [],
   "source": [
    "#init\n",
    "board = [[-1 for _ in range(19)] for __ in range(19)]\n",
    "group_map = [[-1 for _ in range(19)] for __ in range(19)]\n",
    "groups = []\n",
    "illegal = [[False for _ in range(19)] for __ in range(19)]\n",
    "empty_groups = []\n",
    "\n",
    "num_nonpass_moves = len(moves) - moves.count('pass')\n",
    "inputs = [[None for _ in range(8)] for __ in range(num_nonpass_moves)]\n",
    "targets = [None for _ in range(num_nonpass_moves)]\n",
    "ind = 0"
   ]
  },
  {
   "cell_type": "code",
   "execution_count": 21,
   "metadata": {
    "collapsed": false
   },
   "outputs": [
    {
     "data": {
      "text/plain": [
       "[[-1, -1, -1, -1, -1, -1, -1, -1, -1, -1, -1, -1, -1, -1, -1, -1, -1, -1, -1],\n",
       " [-1, -1, -1, -1, -1, -1, -1, -1, -1, -1, -1, -1, -1, -1, -1, -1, -1, -1, -1],\n",
       " [-1, -1, -1, -1, -1, -1, -1, -1, -1, -1, -1, -1, -1, -1, -1, -1, -1, -1, -1],\n",
       " [-1, -1, -1, -1, -1, -1, -1, -1, -1, -1, -1, -1, -1, -1, -1, -1, -1, -1, -1],\n",
       " [-1, -1, -1, -1, -1, -1, -1, -1, -1, -1, -1, -1, -1, -1, -1, -1, -1, -1, -1],\n",
       " [-1, -1, -1, -1, -1, -1, -1, -1, -1, -1, -1, -1, -1, -1, -1, -1, -1, -1, -1],\n",
       " [-1, -1, -1, -1, -1, -1, -1, -1, -1, -1, -1, -1, -1, -1, -1, -1, -1, -1, -1],\n",
       " [-1, -1, -1, -1, -1, -1, -1, -1, -1, -1, -1, -1, -1, -1, -1, -1, -1, -1, -1],\n",
       " [-1, -1, -1, -1, -1, -1, -1, -1, -1, -1, -1, -1, -1, -1, -1, -1, -1, -1, -1],\n",
       " [-1, -1, -1, -1, -1, -1, -1, -1, -1, -1, -1, -1, -1, -1, -1, -1, -1, -1, -1],\n",
       " [-1, -1, -1, -1, -1, -1, -1, -1, -1, -1, -1, -1, -1, -1, -1, -1, -1, -1, -1],\n",
       " [-1, -1, -1, -1, -1, -1, -1, -1, -1, -1, -1, -1, -1, -1, -1, -1, -1, -1, -1],\n",
       " [-1, -1, -1, -1, -1, -1, -1, -1, -1, -1, -1, -1, -1, -1, -1, -1, -1, -1, -1],\n",
       " [-1, -1, -1, -1, -1, -1, -1, -1, -1, -1, -1, -1, -1, -1, -1, -1, -1, -1, -1],\n",
       " [-1, -1, -1, -1, -1, -1, -1, -1, -1, -1, -1, -1, -1, -1, -1, -1, -1, -1, -1],\n",
       " [-1, -1, -1, -1, -1, -1, -1, -1, -1, -1, -1, -1, -1, -1, -1, -1, -1, -1, -1],\n",
       " [-1, -1, -1, -1, -1, -1, -1, -1, -1, -1, -1, -1, -1, -1, -1, -1, -1, -1, -1],\n",
       " [-1, -1, -1, -1, -1, -1, -1, -1, -1, -1, -1, -1, -1, -1, -1, -1, -1, -1, -1],\n",
       " [-1, -1, -1, -1, -1, -1, -1, -1, -1, -1, -1, -1, -1, -1, -1, -1, -1, -1, -1]]"
      ]
     },
     "execution_count": 21,
     "metadata": {},
     "output_type": "execute_result"
    }
   ],
   "source": [
    "board"
   ]
  },
  {
   "cell_type": "code",
   "execution_count": 13,
   "metadata": {
    "collapsed": true
   },
   "outputs": [],
   "source": [
    "def update_board(board, group_map, groups, empty_groups, illegal, move, player):\n",
    "    '''\n",
    "        board: board[y][x] == 0 if (x, y) is black, 1 if (x, y) is white, -1 if empty\n",
    "        group_map: group_map[y][x] == group_index of (x, y), -1 if (x, y) is empty\n",
    "        groups: list of groups indexed by group_index\n",
    "                Each group contains (liberties, pieces)\n",
    "                liberites is a set of all (x, y) liberties of the group\n",
    "                pieces is a set of all stones in the group\n",
    "                elements can be None if group has been removed\n",
    "        empty_groups: list of indices of all empty groups\n",
    "        illegal: illegal[y][x] == 1 if move is illegal, 0 otherwise\n",
    "        move: (x, y) of move\n",
    "        player: 0 if black is moving, 1 if white is moving\n",
    "    '''\n",
    "\n",
    "    x, y = move\n",
    "    opponent = 1 - player\n",
    "    board[y][x] = player\n",
    "\n",
    "    liberties = set()\n",
    "    allies = set()\n",
    "    enemies = set()\n",
    "    for x2, y2 in [(x-1, y), (x+1, y), (x, y-1), (x, y+1)]:\n",
    "        if in_bounds(x2, y2):\n",
    "            if board[y2][x2] == -1:\n",
    "                liberties.add((x2, y2))\n",
    "            elif board[y2][x2] == player:\n",
    "                allies.add(group_map[y2][x2])\n",
    "            else:\n",
    "                enemies.add(group_map[y2][x2])\n",
    "\n",
    "    if len(allies) == 0:\n",
    "        new_group = (liberties, set([move]))\n",
    "        if empty_groups:\n",
    "            group_ind = empty_groups.pop()\n",
    "            groups[group_ind] = new_group\n",
    "        else:\n",
    "            groups.append(new_group)\n",
    "            group_ind = len(groups) - 1\n",
    "\n",
    "        group_map[y][x] = group_ind\n",
    "\n",
    "    else:\n",
    "        group_ind = min(allies)\n",
    "        group_map[y][x] = group_ind\n",
    "\n",
    "        new_liberties, new_pieces = groups[group_ind]\n",
    "        for other_index in allies:\n",
    "            if other_index == group_ind:\n",
    "                continue\n",
    "            other_liberties, other_pieces = groups[other_index]\n",
    "            new_liberties.update(other_liberties)\n",
    "            new_pieces.update(other_pieces)\n",
    "            temp = groups[other_index]\n",
    "            for x2, y2 in other_pieces:\n",
    "                group_map[y2][x2] = group_ind\n",
    "\n",
    "            groups[other_index] = None\n",
    "            empty_groups.append(other_index)\n",
    "\n",
    "        new_liberties.remove((x, y))\n",
    "\n",
    "        new_pieces.add((x, y))\n",
    "        new_liberties.update(liberties)\n",
    "\n",
    "    captured = []\n",
    "    for enemy in enemies:\n",
    "        groups[enemy][0].remove((x, y))\n",
    "        if len(groups[enemy][0]) == 0:\n",
    "            pieces = groups[enemy][1]\n",
    "\n",
    "            captured.extend(pieces)\n",
    "            for x2, y2 in pieces:\n",
    "                board[y2][x2] = -1\n",
    "                group_map[y2][x2] = -1\n",
    "\n",
    "                for x3, y3 in [(x2-1, y2), (x2+1, y2), (x2, y2-1), (x2, y2+1)]:\n",
    "                    if in_bounds(x3, y3) and board[y3][x3] == player:\n",
    "                        groups[group_map[y3][x3]][0].add((x2, y2))\n",
    "\n",
    "            groups[enemy] = None\n",
    "            empty_groups.append(enemy)\n"
   ]
  },
  {
   "cell_type": "code",
   "execution_count": 28,
   "metadata": {
    "collapsed": false
   },
   "outputs": [],
   "source": [
    "    for i, move in enumerate(moves):\n",
    "        player = i % 2\n",
    "\n",
    "        if move == 'pass':\n",
    "            illegal = [[False for _ in range(19)] for __ in range(19)]\n",
    "            fill_illegal(board, group_map, groups, illegal, player)\n",
    "            continue\n",
    "\n",
    "#        add_board_to_array(board, group_map, groups, illegal, player, inputs, ind)\n",
    "\n",
    "#        add_move_to_array(move, targets, ind)\n",
    "        illegal = [[False for _ in range(19)] for __ in range(19)]\n",
    "        update_board(board, group_map, groups, empty_groups, illegal, move, player)\n",
    "        \n",
    "        ind += 1\n"
   ]
  },
  {
   "cell_type": "code",
   "execution_count": 29,
   "metadata": {
    "collapsed": false
   },
   "outputs": [
    {
     "data": {
      "text/plain": [
       "[[-1, -1, -1, -1, -1, -1, -1, -1, -1, -1, -1, -1, -1, -1, -1, -1, -1, -1, -1],\n",
       " [-1, -1, -1, -1, -1, -1, -1, -1, 0, 0, 0, -1, -1, 0, -1, -1, -1, -1, -1],\n",
       " [-1, 1, -1, 1, -1, -1, -1, 0, -1, 0, 1, 0, 0, 1, 1, -1, 1, 1, -1],\n",
       " [1, 0, 1, 1, 0, -1, -1, -1, 0, 1, 1, 1, 0, -1, 1, 0, 1, 0, 1],\n",
       " [0, -1, 0, -1, 1, -1, -1, -1, 1, -1, -1, -1, -1, 0, 1, 1, 0, 0, -1],\n",
       " [-1, 0, 0, 0, 1, -1, -1, -1, -1, -1, -1, -1, -1, 0, 1, 0, -1, 0, -1],\n",
       " [0, -1, -1, 0, 1, -1, -1, -1, -1, -1, -1, -1, -1, 1, 1, 1, 0, -1, -1],\n",
       " [-1, 0, 0, 1, 1, -1, -1, -1, -1, -1, -1, -1, -1, -1, 0, -1, 0, -1, -1],\n",
       " [1, 0, 1, 1, 0, 1, 1, -1, -1, -1, -1, -1, -1, 1, 0, -1, 0, -1, -1],\n",
       " [-1, 1, 0, 0, -1, 0, 1, -1, -1, -1, -1, -1, 1, -1, 1, 1, 1, -1, -1],\n",
       " [-1, 1, 1, 0, 0, 0, 1, -1, -1, -1, -1, -1, -1, 1, 0, 1, -1, 1, -1],\n",
       " [-1, 1, 0, 1, 1, -1, 1, -1, 0, -1, 1, 1, 1, -1, 0, 1, -1, 0, -1],\n",
       " [0, 0, 0, 0, 1, 1, -1, 1, 0, 1, -1, 0, 0, 0, -1, 0, 1, -1, -1],\n",
       " [0, 1, 1, 1, 1, 0, 1, 0, 1, 1, -1, -1, -1, -1, -1, 0, 1, -1, -1],\n",
       " [0, 0, -1, -1, 0, 0, 0, 0, 0, 1, 1, -1, 1, -1, 0, 1, 0, 1, -1],\n",
       " [0, -1, 1, 1, -1, -1, 1, 1, 1, 0, 0, -1, -1, 0, -1, 1, 0, -1, 0],\n",
       " [-1, -1, 0, -1, 0, 0, 0, -1, -1, 0, 1, 1, 1, 0, -1, 1, 0, -1, -1],\n",
       " [-1, 0, -1, 0, -1, 1, -1, -1, -1, 0, 1, 0, 0, 0, 1, -1, 1, 0, -1],\n",
       " [-1, -1, -1, -1, -1, -1, -1, -1, -1, -1, -1, -1, -1, -1, -1, 1, 0, 0, -1]]"
      ]
     },
     "execution_count": 29,
     "metadata": {},
     "output_type": "execute_result"
    }
   ],
   "source": [
    "board"
   ]
  },
  {
   "cell_type": "code",
   "execution_count": 31,
   "metadata": {
    "collapsed": false
   },
   "outputs": [],
   "source": [
    "def print_small_board(board, illegal):\n",
    "    for i in range(taille):\n",
    "        text = \"\"\n",
    "        for j in range(taille):\n",
    "            text += ('o' if illegal[i][j] else '-') if not (0 <= board[i][j] <= 1) else ('B' if board[i][j] == 0 else 'W')\n",
    "        print text\n"
   ]
  },
  {
   "cell_type": "code",
   "execution_count": 32,
   "metadata": {
    "collapsed": false
   },
   "outputs": [
    {
     "name": "stdout",
     "output_type": "stream",
     "text": [
      "-------------------\n",
      "--------BBB--B-----\n",
      "-W-W---B-BWBBWW-WW-\n",
      "WBWWB---BWWWB-WBWBW\n",
      "B-B-W---W----BWWBB-\n",
      "-BBBW--------BWB-B-\n",
      "B--BW--------WWWB--\n",
      "-BBWW---------B-B--\n",
      "WBWWBWW------WB-B--\n",
      "-WBB-BW-----W-WWW--\n",
      "-WWBBBW------WBW-W-\n",
      "-WBWW-W-B-WWW-BW-B-\n",
      "BBBBWW-WBW-BBB-BW--\n",
      "BWWWWBWBWW-----BW--\n",
      "BB--BBBBBWW-W-BWBW-\n",
      "B-WW--WWWBB--B-WB-B\n",
      "--B-BBB--BWWWB-WB--\n",
      "-B-B-W---BWBBBW-WB-\n",
      "---------------WBB-\n"
     ]
    }
   ],
   "source": [
    "print_small_board(board, illegal)"
   ]
  },
  {
   "cell_type": "code",
   "execution_count": 48,
   "metadata": {
    "collapsed": true
   },
   "outputs": [],
   "source": [
    "def sgf_to_matrice(filename,numero_de_coup):\n",
    "    moves = sgf_to_moves_list(filename)\n",
    "    if not moves:\n",
    "        return False\n",
    "    #initialise le plateau\n",
    "    board = [[-1 for _ in range(19)] for __ in range(19)]\n",
    "    group_map = [[-1 for _ in range(19)] for __ in range(19)]\n",
    "    groups = []\n",
    "    illegal = [[False for _ in range(19)] for __ in range(19)]\n",
    "    empty_groups = []\n",
    "\n",
    "    num_nonpass_moves = len(moves) - moves.count('pass')\n",
    "    inputs = [[None for _ in range(8)] for __ in range(num_nonpass_moves)]\n",
    "    targets = [None for _ in range(num_nonpass_moves)]\n",
    "    ind = 0\n",
    "    \n",
    "    #joue jusqu'au coup voulu\n",
    "    for i, move in enumerate(moves):\n",
    "        if i<=numero_de_coup:\n",
    "            player = i % 2\n",
    "\n",
    "            if move == 'pass':\n",
    "                illegal = [[False for _ in range(19)] for __ in range(19)]\n",
    "                fill_illegal(board, group_map, groups, illegal, player)\n",
    "                continue\n",
    "\n",
    "#        add_board_to_array(board, group_map, groups, illegal, player, inputs, ind)\n",
    "\n",
    "#        add_move_to_array(move, targets, ind)\n",
    "            illegal = [[False for _ in range(19)] for __ in range(19)]\n",
    "            update_board(board, group_map, groups, empty_groups, illegal, move, player)\n",
    "        \n",
    "            ind += 1\n",
    "\n",
    "    return (board,illegal)\n",
    "\n"
   ]
  },
  {
   "cell_type": "code",
   "execution_count": 69,
   "metadata": {
    "collapsed": false,
    "scrolled": true
   },
   "outputs": [
    {
     "name": "stdout",
     "output_type": "stream",
     "text": [
      "-------------------\n",
      "-------------------\n",
      "-------------------\n",
      "---------------B---\n",
      "-------------------\n",
      "-------------------\n",
      "-------------------\n",
      "-------------------\n",
      "-------------------\n",
      "-------------------\n",
      "-------------------\n",
      "-------------------\n",
      "-------------------\n",
      "-------------------\n",
      "-------------------\n",
      "-------------------\n",
      "-------------------\n",
      "-------------------\n",
      "-------------------\n",
      "coup 0\n",
      "-------------------\n",
      "-------------------\n",
      "-------------------\n",
      "---------------B---\n",
      "-------------------\n",
      "-------------------\n",
      "-------------------\n",
      "-------------------\n",
      "-------------------\n",
      "-------------------\n",
      "-------------------\n",
      "-------------------\n",
      "-------------------\n",
      "-------------------\n",
      "-------------------\n",
      "---W---------------\n",
      "-------------------\n",
      "-------------------\n",
      "-------------------\n",
      "coup 1\n"
     ]
    }
   ],
   "source": [
    "i=0\n",
    "while i<2:\n",
    "    (board,illegal) = sgf_to_matrice(\"Mi_Yuting-Park_Junghwan.sgf\",i)\n",
    "    print_small_board(board, illegal) \n",
    "    print \"coup %s\" %i\n",
    "    i=i+1"
   ]
  },
  {
   "cell_type": "markdown",
   "metadata": {},
   "source": [
    "# Enregistrer les états du jeu sous le format de \"davesque\""
   ]
  },
  {
   "cell_type": "code",
   "execution_count": 103,
   "metadata": {
    "collapsed": true
   },
   "outputs": [],
   "source": [
    "from go import Board, BoardError, View, clear, getch"
   ]
  },
  {
   "cell_type": "code",
   "execution_count": 111,
   "metadata": {
    "collapsed": false
   },
   "outputs": [],
   "source": [
    "board2=Board(19)\n",
    "view = View(board2)"
   ]
  },
  {
   "cell_type": "code",
   "execution_count": 110,
   "metadata": {
    "collapsed": false
   },
   "outputs": [
    {
     "name": "stdout",
     "output_type": "stream",
     "text": [
      "X . . . . . . .\n",
      ". . . . . . . .\n",
      ". . + . . + . .\n",
      ". . . . . . . .\n",
      ". . . . . . . .\n",
      ". . + . . + . .\n",
      ". . . . . . . .\n",
      ". . . . . . . .\n"
     ]
    }
   ],
   "source": [
    "print view"
   ]
  },
  {
   "cell_type": "code",
   "execution_count": 186,
   "metadata": {
    "collapsed": false
   },
   "outputs": [],
   "source": [
    "def move2(taille,moves):\n",
    "    self=Board(taille)\n",
    "    liste_des_etats_de_jeu=[]\n",
    "    i=0\n",
    "    while i< len (moves):\n",
    "        liste_des_etats_de_jeu.append(self)\n",
    "        i+=1\n",
    "\n",
    "    for i, move in enumerate(moves):\n",
    "\n",
    "        \"\"\"\n",
    "        Makes a move at the given location for the current turn's color.\n",
    "        \"\"\"\n",
    "        x=move[0]+1\n",
    "        y=move[1]+1\n",
    "        # Check if coordinates are occupied\n",
    "        if self[x, y] is not self.EMPTY:\n",
    "            raise BoardError('Cannot move on top of another piece!')\n",
    "\n",
    "        # Store history and make move\n",
    "        self._push_history()\n",
    "        self[x, y] = self._turn\n",
    "\n",
    "        # Check if any pieces have been taken\n",
    "        taken = self._take_pieces(x, y)\n",
    "\n",
    "        # Check if move is suicidal.  A suicidal move is a move that takes no\n",
    "        # pieces and is played on a coordinate which has no liberties.\n",
    "        if taken == 0:\n",
    "            self._check_for_suicide(x, y)\n",
    "\n",
    "        # Check if move is redundant.  A redundant move is one that would\n",
    "        # return the board to the state at the time of a player's last move.\n",
    "        self._check_for_ko()\n",
    "\n",
    "        self._flip_turn()\n",
    "        self._redo = []\n",
    "        \n",
    "        liste_des_etats_de_jeu[i]=self\n",
    "    return liste_des_etats_de_jeu"
   ]
  },
  {
   "cell_type": "code",
   "execution_count": 187,
   "metadata": {
    "collapsed": false
   },
   "outputs": [
    {
     "name": "stdout",
     "output_type": "stream",
     "text": [
      "X . . . . . . . . . . . . . . . . . .\n",
      ". . . . . . . . \u001b[1m*\u001b[0m \u001b[1m*\u001b[0m \u001b[1m*\u001b[0m . . \u001b[1m*\u001b[0m . . . . .\n",
      ". \u001b[1mo\u001b[0m . \u001b[1mo\u001b[0m . . . \u001b[1m*\u001b[0m . \u001b[1m*\u001b[0m \u001b[1mo\u001b[0m \u001b[1m*\u001b[0m \u001b[1m*\u001b[0m \u001b[1mo\u001b[0m \u001b[1mo\u001b[0m . \u001b[1mo\u001b[0m \u001b[1mo\u001b[0m .\n",
      "\u001b[1mo\u001b[0m \u001b[1m*\u001b[0m \u001b[1mo\u001b[0m \u001b[1mo\u001b[0m \u001b[1m*\u001b[0m . . . \u001b[1m*\u001b[0m \u001b[1mo\u001b[0m \u001b[1mo\u001b[0m \u001b[1mo\u001b[0m \u001b[1m*\u001b[0m . \u001b[1mo\u001b[0m \u001b[1m*\u001b[0m \u001b[1mo\u001b[0m \u001b[1m*\u001b[0m \u001b[1mo\u001b[0m\n",
      "\u001b[1m*\u001b[0m . \u001b[1m*\u001b[0m . \u001b[1mo\u001b[0m . . . \u001b[1mo\u001b[0m . . . . \u001b[1m*\u001b[0m \u001b[1mo\u001b[0m \u001b[1mo\u001b[0m \u001b[1m*\u001b[0m \u001b[1m*\u001b[0m .\n",
      ". \u001b[1m*\u001b[0m \u001b[1m*\u001b[0m \u001b[1m*\u001b[0m \u001b[1mo\u001b[0m . . . . . . . . \u001b[1m*\u001b[0m \u001b[1mo\u001b[0m \u001b[1m*\u001b[0m . \u001b[1m*\u001b[0m .\n",
      "\u001b[1m*\u001b[0m . . \u001b[1m*\u001b[0m \u001b[1mo\u001b[0m . . . . . . . . \u001b[1mo\u001b[0m \u001b[1mo\u001b[0m \u001b[1mo\u001b[0m \u001b[1m*\u001b[0m . .\n",
      ". \u001b[1m*\u001b[0m \u001b[1m*\u001b[0m \u001b[1mo\u001b[0m \u001b[1mo\u001b[0m . . . . . . . . . \u001b[1m*\u001b[0m . \u001b[1m*\u001b[0m . .\n",
      "\u001b[1mo\u001b[0m \u001b[1m*\u001b[0m \u001b[1mo\u001b[0m \u001b[1mo\u001b[0m \u001b[1m*\u001b[0m \u001b[1mo\u001b[0m \u001b[1mo\u001b[0m . . . . . . \u001b[1mo\u001b[0m \u001b[1m*\u001b[0m . \u001b[1m*\u001b[0m . .\n",
      ". \u001b[1mo\u001b[0m \u001b[1m*\u001b[0m \u001b[1m*\u001b[0m . \u001b[1m*\u001b[0m \u001b[1mo\u001b[0m . . + . . \u001b[1mo\u001b[0m . \u001b[1mo\u001b[0m \u001b[1mo\u001b[0m \u001b[1mo\u001b[0m . .\n",
      ". \u001b[1mo\u001b[0m \u001b[1mo\u001b[0m \u001b[1m*\u001b[0m \u001b[1m*\u001b[0m \u001b[1m*\u001b[0m \u001b[1mo\u001b[0m . . . . . . \u001b[1mo\u001b[0m \u001b[1m*\u001b[0m \u001b[1mo\u001b[0m . \u001b[1mo\u001b[0m .\n",
      ". \u001b[1mo\u001b[0m \u001b[1m*\u001b[0m \u001b[1mo\u001b[0m \u001b[1mo\u001b[0m . \u001b[1mo\u001b[0m . \u001b[1m*\u001b[0m . \u001b[1mo\u001b[0m \u001b[1mo\u001b[0m \u001b[1mo\u001b[0m . \u001b[1m*\u001b[0m \u001b[1mo\u001b[0m . \u001b[1m*\u001b[0m .\n",
      "\u001b[1m*\u001b[0m \u001b[1m*\u001b[0m \u001b[1m*\u001b[0m \u001b[1m*\u001b[0m \u001b[1mo\u001b[0m \u001b[1mo\u001b[0m . \u001b[1mo\u001b[0m \u001b[1m*\u001b[0m \u001b[1mo\u001b[0m . \u001b[1m*\u001b[0m \u001b[1m*\u001b[0m \u001b[1m*\u001b[0m . \u001b[1m*\u001b[0m \u001b[1mo\u001b[0m . .\n",
      "\u001b[1m*\u001b[0m \u001b[1mo\u001b[0m \u001b[1mo\u001b[0m \u001b[1mo\u001b[0m \u001b[1mo\u001b[0m \u001b[1m*\u001b[0m \u001b[1mo\u001b[0m \u001b[1m*\u001b[0m \u001b[1mo\u001b[0m \u001b[1mo\u001b[0m . . . . . \u001b[1m*\u001b[0m \u001b[1mo\u001b[0m . .\n",
      "\u001b[1m*\u001b[0m \u001b[1m*\u001b[0m . . \u001b[1m*\u001b[0m \u001b[1m*\u001b[0m \u001b[1m*\u001b[0m \u001b[1m*\u001b[0m \u001b[1m*\u001b[0m \u001b[1mo\u001b[0m \u001b[1mo\u001b[0m . \u001b[1mo\u001b[0m . \u001b[1m*\u001b[0m \u001b[1mo\u001b[0m \u001b[1m*\u001b[0m \u001b[1mo\u001b[0m .\n",
      "\u001b[1m*\u001b[0m . \u001b[1mo\u001b[0m \u001b[1mo\u001b[0m . . \u001b[1mo\u001b[0m \u001b[1mo\u001b[0m \u001b[1mo\u001b[0m \u001b[1m*\u001b[0m \u001b[1m*\u001b[0m . . \u001b[1m*\u001b[0m . \u001b[1mo\u001b[0m \u001b[1m*\u001b[0m . \u001b[1m*\u001b[0m\n",
      ". . \u001b[1m*\u001b[0m . \u001b[1m*\u001b[0m \u001b[1m*\u001b[0m \u001b[1m*\u001b[0m . . \u001b[1m*\u001b[0m \u001b[1mo\u001b[0m \u001b[1mo\u001b[0m \u001b[1mo\u001b[0m \u001b[1m*\u001b[0m . \u001b[1mo\u001b[0m \u001b[1m*\u001b[0m . .\n",
      ". \u001b[1m*\u001b[0m . \u001b[1m*\u001b[0m . \u001b[1mo\u001b[0m . . . \u001b[1m*\u001b[0m \u001b[1mo\u001b[0m \u001b[1m*\u001b[0m \u001b[1m*\u001b[0m \u001b[1m*\u001b[0m \u001b[1mo\u001b[0m . \u001b[1mo\u001b[0m \u001b[1m*\u001b[0m .\n",
      ". . . . . . . . . . . . . . . \u001b[1mo\u001b[0m \u001b[1m*\u001b[0m \u001b[1m*\u001b[0m .\n",
      "X . . . . . . . . . . . . . . . . . .\n",
      ". . . . . . . . \u001b[1m*\u001b[0m \u001b[1m*\u001b[0m \u001b[1m*\u001b[0m . . \u001b[1m*\u001b[0m . . . . .\n",
      ". \u001b[1mo\u001b[0m . \u001b[1mo\u001b[0m . . . \u001b[1m*\u001b[0m . \u001b[1m*\u001b[0m \u001b[1mo\u001b[0m \u001b[1m*\u001b[0m \u001b[1m*\u001b[0m \u001b[1mo\u001b[0m \u001b[1mo\u001b[0m . \u001b[1mo\u001b[0m \u001b[1mo\u001b[0m .\n",
      "\u001b[1mo\u001b[0m \u001b[1m*\u001b[0m \u001b[1mo\u001b[0m \u001b[1mo\u001b[0m \u001b[1m*\u001b[0m . . . \u001b[1m*\u001b[0m \u001b[1mo\u001b[0m \u001b[1mo\u001b[0m \u001b[1mo\u001b[0m \u001b[1m*\u001b[0m . \u001b[1mo\u001b[0m \u001b[1m*\u001b[0m \u001b[1mo\u001b[0m \u001b[1m*\u001b[0m \u001b[1mo\u001b[0m\n",
      "\u001b[1m*\u001b[0m . \u001b[1m*\u001b[0m . \u001b[1mo\u001b[0m . . . \u001b[1mo\u001b[0m . . . . \u001b[1m*\u001b[0m \u001b[1mo\u001b[0m \u001b[1mo\u001b[0m \u001b[1m*\u001b[0m \u001b[1m*\u001b[0m .\n",
      ". \u001b[1m*\u001b[0m \u001b[1m*\u001b[0m \u001b[1m*\u001b[0m \u001b[1mo\u001b[0m . . . . . . . . \u001b[1m*\u001b[0m \u001b[1mo\u001b[0m \u001b[1m*\u001b[0m . \u001b[1m*\u001b[0m .\n",
      "\u001b[1m*\u001b[0m . . \u001b[1m*\u001b[0m \u001b[1mo\u001b[0m . . . . . . . . \u001b[1mo\u001b[0m \u001b[1mo\u001b[0m \u001b[1mo\u001b[0m \u001b[1m*\u001b[0m . .\n",
      ". \u001b[1m*\u001b[0m \u001b[1m*\u001b[0m \u001b[1mo\u001b[0m \u001b[1mo\u001b[0m . . . . . . . . . \u001b[1m*\u001b[0m . \u001b[1m*\u001b[0m . .\n",
      "\u001b[1mo\u001b[0m \u001b[1m*\u001b[0m \u001b[1mo\u001b[0m \u001b[1mo\u001b[0m \u001b[1m*\u001b[0m \u001b[1mo\u001b[0m \u001b[1mo\u001b[0m . . . . . . \u001b[1mo\u001b[0m \u001b[1m*\u001b[0m . \u001b[1m*\u001b[0m . .\n",
      ". \u001b[1mo\u001b[0m \u001b[1m*\u001b[0m \u001b[1m*\u001b[0m . \u001b[1m*\u001b[0m \u001b[1mo\u001b[0m . . + . . \u001b[1mo\u001b[0m . \u001b[1mo\u001b[0m \u001b[1mo\u001b[0m \u001b[1mo\u001b[0m . .\n",
      ". \u001b[1mo\u001b[0m \u001b[1mo\u001b[0m \u001b[1m*\u001b[0m \u001b[1m*\u001b[0m \u001b[1m*\u001b[0m \u001b[1mo\u001b[0m . . . . . . \u001b[1mo\u001b[0m \u001b[1m*\u001b[0m \u001b[1mo\u001b[0m . \u001b[1mo\u001b[0m .\n",
      ". \u001b[1mo\u001b[0m \u001b[1m*\u001b[0m \u001b[1mo\u001b[0m \u001b[1mo\u001b[0m . \u001b[1mo\u001b[0m . \u001b[1m*\u001b[0m . \u001b[1mo\u001b[0m \u001b[1mo\u001b[0m \u001b[1mo\u001b[0m . \u001b[1m*\u001b[0m \u001b[1mo\u001b[0m . \u001b[1m*\u001b[0m .\n",
      "\u001b[1m*\u001b[0m \u001b[1m*\u001b[0m \u001b[1m*\u001b[0m \u001b[1m*\u001b[0m \u001b[1mo\u001b[0m \u001b[1mo\u001b[0m . \u001b[1mo\u001b[0m \u001b[1m*\u001b[0m \u001b[1mo\u001b[0m . \u001b[1m*\u001b[0m \u001b[1m*\u001b[0m \u001b[1m*\u001b[0m . \u001b[1m*\u001b[0m \u001b[1mo\u001b[0m . .\n",
      "\u001b[1m*\u001b[0m \u001b[1mo\u001b[0m \u001b[1mo\u001b[0m \u001b[1mo\u001b[0m \u001b[1mo\u001b[0m \u001b[1m*\u001b[0m \u001b[1mo\u001b[0m \u001b[1m*\u001b[0m \u001b[1mo\u001b[0m \u001b[1mo\u001b[0m . . . . . \u001b[1m*\u001b[0m \u001b[1mo\u001b[0m . .\n",
      "\u001b[1m*\u001b[0m \u001b[1m*\u001b[0m . . \u001b[1m*\u001b[0m \u001b[1m*\u001b[0m \u001b[1m*\u001b[0m \u001b[1m*\u001b[0m \u001b[1m*\u001b[0m \u001b[1mo\u001b[0m \u001b[1mo\u001b[0m . \u001b[1mo\u001b[0m . \u001b[1m*\u001b[0m \u001b[1mo\u001b[0m \u001b[1m*\u001b[0m \u001b[1mo\u001b[0m .\n",
      "\u001b[1m*\u001b[0m . \u001b[1mo\u001b[0m \u001b[1mo\u001b[0m . . \u001b[1mo\u001b[0m \u001b[1mo\u001b[0m \u001b[1mo\u001b[0m \u001b[1m*\u001b[0m \u001b[1m*\u001b[0m . . \u001b[1m*\u001b[0m . \u001b[1mo\u001b[0m \u001b[1m*\u001b[0m . \u001b[1m*\u001b[0m\n",
      ". . \u001b[1m*\u001b[0m . \u001b[1m*\u001b[0m \u001b[1m*\u001b[0m \u001b[1m*\u001b[0m . . \u001b[1m*\u001b[0m \u001b[1mo\u001b[0m \u001b[1mo\u001b[0m \u001b[1mo\u001b[0m \u001b[1m*\u001b[0m . \u001b[1mo\u001b[0m \u001b[1m*\u001b[0m . .\n",
      ". \u001b[1m*\u001b[0m . \u001b[1m*\u001b[0m . \u001b[1mo\u001b[0m . . . \u001b[1m*\u001b[0m \u001b[1mo\u001b[0m \u001b[1m*\u001b[0m \u001b[1m*\u001b[0m \u001b[1m*\u001b[0m \u001b[1mo\u001b[0m . \u001b[1mo\u001b[0m \u001b[1m*\u001b[0m .\n",
      ". . . . . . . . . . . . . . . \u001b[1mo\u001b[0m \u001b[1m*\u001b[0m \u001b[1m*\u001b[0m .\n",
      "X . . . . . . . . . . . . . . . . . .\n",
      ". . . . . . . . \u001b[1m*\u001b[0m \u001b[1m*\u001b[0m \u001b[1m*\u001b[0m . . \u001b[1m*\u001b[0m . . . . .\n",
      ". \u001b[1mo\u001b[0m . \u001b[1mo\u001b[0m . . . \u001b[1m*\u001b[0m . \u001b[1m*\u001b[0m \u001b[1mo\u001b[0m \u001b[1m*\u001b[0m \u001b[1m*\u001b[0m \u001b[1mo\u001b[0m \u001b[1mo\u001b[0m . \u001b[1mo\u001b[0m \u001b[1mo\u001b[0m .\n",
      "\u001b[1mo\u001b[0m \u001b[1m*\u001b[0m \u001b[1mo\u001b[0m \u001b[1mo\u001b[0m \u001b[1m*\u001b[0m . . . \u001b[1m*\u001b[0m \u001b[1mo\u001b[0m \u001b[1mo\u001b[0m \u001b[1mo\u001b[0m \u001b[1m*\u001b[0m . \u001b[1mo\u001b[0m \u001b[1m*\u001b[0m \u001b[1mo\u001b[0m \u001b[1m*\u001b[0m \u001b[1mo\u001b[0m\n",
      "\u001b[1m*\u001b[0m . \u001b[1m*\u001b[0m . \u001b[1mo\u001b[0m . . . \u001b[1mo\u001b[0m . . . . \u001b[1m*\u001b[0m \u001b[1mo\u001b[0m \u001b[1mo\u001b[0m \u001b[1m*\u001b[0m \u001b[1m*\u001b[0m .\n",
      ". \u001b[1m*\u001b[0m \u001b[1m*\u001b[0m \u001b[1m*\u001b[0m \u001b[1mo\u001b[0m . . . . . . . . \u001b[1m*\u001b[0m \u001b[1mo\u001b[0m \u001b[1m*\u001b[0m . \u001b[1m*\u001b[0m .\n",
      "\u001b[1m*\u001b[0m . . \u001b[1m*\u001b[0m \u001b[1mo\u001b[0m . . . . . . . . \u001b[1mo\u001b[0m \u001b[1mo\u001b[0m \u001b[1mo\u001b[0m \u001b[1m*\u001b[0m . .\n",
      ". \u001b[1m*\u001b[0m \u001b[1m*\u001b[0m \u001b[1mo\u001b[0m \u001b[1mo\u001b[0m . . . . . . . . . \u001b[1m*\u001b[0m . \u001b[1m*\u001b[0m . .\n",
      "\u001b[1mo\u001b[0m \u001b[1m*\u001b[0m \u001b[1mo\u001b[0m \u001b[1mo\u001b[0m \u001b[1m*\u001b[0m \u001b[1mo\u001b[0m \u001b[1mo\u001b[0m . . . . . . \u001b[1mo\u001b[0m \u001b[1m*\u001b[0m . \u001b[1m*\u001b[0m . .\n",
      ". \u001b[1mo\u001b[0m \u001b[1m*\u001b[0m \u001b[1m*\u001b[0m . \u001b[1m*\u001b[0m \u001b[1mo\u001b[0m . . + . . \u001b[1mo\u001b[0m . \u001b[1mo\u001b[0m \u001b[1mo\u001b[0m \u001b[1mo\u001b[0m . .\n",
      ". \u001b[1mo\u001b[0m \u001b[1mo\u001b[0m \u001b[1m*\u001b[0m \u001b[1m*\u001b[0m \u001b[1m*\u001b[0m \u001b[1mo\u001b[0m . . . . . . \u001b[1mo\u001b[0m \u001b[1m*\u001b[0m \u001b[1mo\u001b[0m . \u001b[1mo\u001b[0m .\n",
      ". \u001b[1mo\u001b[0m \u001b[1m*\u001b[0m \u001b[1mo\u001b[0m \u001b[1mo\u001b[0m . \u001b[1mo\u001b[0m . \u001b[1m*\u001b[0m . \u001b[1mo\u001b[0m \u001b[1mo\u001b[0m \u001b[1mo\u001b[0m . \u001b[1m*\u001b[0m \u001b[1mo\u001b[0m . \u001b[1m*\u001b[0m .\n",
      "\u001b[1m*\u001b[0m \u001b[1m*\u001b[0m \u001b[1m*\u001b[0m \u001b[1m*\u001b[0m \u001b[1mo\u001b[0m \u001b[1mo\u001b[0m . \u001b[1mo\u001b[0m \u001b[1m*\u001b[0m \u001b[1mo\u001b[0m . \u001b[1m*\u001b[0m \u001b[1m*\u001b[0m \u001b[1m*\u001b[0m . \u001b[1m*\u001b[0m \u001b[1mo\u001b[0m . .\n",
      "\u001b[1m*\u001b[0m \u001b[1mo\u001b[0m \u001b[1mo\u001b[0m \u001b[1mo\u001b[0m \u001b[1mo\u001b[0m \u001b[1m*\u001b[0m \u001b[1mo\u001b[0m \u001b[1m*\u001b[0m \u001b[1mo\u001b[0m \u001b[1mo\u001b[0m . . . . . \u001b[1m*\u001b[0m \u001b[1mo\u001b[0m . .\n",
      "\u001b[1m*\u001b[0m \u001b[1m*\u001b[0m . . \u001b[1m*\u001b[0m \u001b[1m*\u001b[0m \u001b[1m*\u001b[0m \u001b[1m*\u001b[0m \u001b[1m*\u001b[0m \u001b[1mo\u001b[0m \u001b[1mo\u001b[0m . \u001b[1mo\u001b[0m . \u001b[1m*\u001b[0m \u001b[1mo\u001b[0m \u001b[1m*\u001b[0m \u001b[1mo\u001b[0m .\n",
      "\u001b[1m*\u001b[0m . \u001b[1mo\u001b[0m \u001b[1mo\u001b[0m . . \u001b[1mo\u001b[0m \u001b[1mo\u001b[0m \u001b[1mo\u001b[0m \u001b[1m*\u001b[0m \u001b[1m*\u001b[0m . . \u001b[1m*\u001b[0m . \u001b[1mo\u001b[0m \u001b[1m*\u001b[0m . \u001b[1m*\u001b[0m\n",
      ". . \u001b[1m*\u001b[0m . \u001b[1m*\u001b[0m \u001b[1m*\u001b[0m \u001b[1m*\u001b[0m . . \u001b[1m*\u001b[0m \u001b[1mo\u001b[0m \u001b[1mo\u001b[0m \u001b[1mo\u001b[0m \u001b[1m*\u001b[0m . \u001b[1mo\u001b[0m \u001b[1m*\u001b[0m . .\n",
      ". \u001b[1m*\u001b[0m . \u001b[1m*\u001b[0m . \u001b[1mo\u001b[0m . . . \u001b[1m*\u001b[0m \u001b[1mo\u001b[0m \u001b[1m*\u001b[0m \u001b[1m*\u001b[0m \u001b[1m*\u001b[0m \u001b[1mo\u001b[0m . \u001b[1mo\u001b[0m \u001b[1m*\u001b[0m .\n",
      ". . . . . . . . . . . . . . . \u001b[1mo\u001b[0m \u001b[1m*\u001b[0m \u001b[1m*\u001b[0m .\n",
      "X . . . . . . . . . . . . . . . . . .\n",
      ". . . . . . . . \u001b[1m*\u001b[0m \u001b[1m*\u001b[0m \u001b[1m*\u001b[0m . . \u001b[1m*\u001b[0m . . . . .\n",
      ". \u001b[1mo\u001b[0m . \u001b[1mo\u001b[0m . . . \u001b[1m*\u001b[0m . \u001b[1m*\u001b[0m \u001b[1mo\u001b[0m \u001b[1m*\u001b[0m \u001b[1m*\u001b[0m \u001b[1mo\u001b[0m \u001b[1mo\u001b[0m . \u001b[1mo\u001b[0m \u001b[1mo\u001b[0m .\n",
      "\u001b[1mo\u001b[0m \u001b[1m*\u001b[0m \u001b[1mo\u001b[0m \u001b[1mo\u001b[0m \u001b[1m*\u001b[0m . . . \u001b[1m*\u001b[0m \u001b[1mo\u001b[0m \u001b[1mo\u001b[0m \u001b[1mo\u001b[0m \u001b[1m*\u001b[0m . \u001b[1mo\u001b[0m \u001b[1m*\u001b[0m \u001b[1mo\u001b[0m \u001b[1m*\u001b[0m \u001b[1mo\u001b[0m\n",
      "\u001b[1m*\u001b[0m . \u001b[1m*\u001b[0m . \u001b[1mo\u001b[0m . . . \u001b[1mo\u001b[0m . . . . \u001b[1m*\u001b[0m \u001b[1mo\u001b[0m \u001b[1mo\u001b[0m \u001b[1m*\u001b[0m \u001b[1m*\u001b[0m .\n",
      ". \u001b[1m*\u001b[0m \u001b[1m*\u001b[0m \u001b[1m*\u001b[0m \u001b[1mo\u001b[0m . . . . . . . . \u001b[1m*\u001b[0m \u001b[1mo\u001b[0m \u001b[1m*\u001b[0m . \u001b[1m*\u001b[0m .\n",
      "\u001b[1m*\u001b[0m . . \u001b[1m*\u001b[0m \u001b[1mo\u001b[0m . . . . . . . . \u001b[1mo\u001b[0m \u001b[1mo\u001b[0m \u001b[1mo\u001b[0m \u001b[1m*\u001b[0m . .\n",
      ". \u001b[1m*\u001b[0m \u001b[1m*\u001b[0m \u001b[1mo\u001b[0m \u001b[1mo\u001b[0m . . . . . . . . . \u001b[1m*\u001b[0m . \u001b[1m*\u001b[0m . .\n",
      "\u001b[1mo\u001b[0m \u001b[1m*\u001b[0m \u001b[1mo\u001b[0m \u001b[1mo\u001b[0m \u001b[1m*\u001b[0m \u001b[1mo\u001b[0m \u001b[1mo\u001b[0m . . . . . . \u001b[1mo\u001b[0m \u001b[1m*\u001b[0m . \u001b[1m*\u001b[0m . .\n",
      ". \u001b[1mo\u001b[0m \u001b[1m*\u001b[0m \u001b[1m*\u001b[0m . \u001b[1m*\u001b[0m \u001b[1mo\u001b[0m . . + . . \u001b[1mo\u001b[0m . \u001b[1mo\u001b[0m \u001b[1mo\u001b[0m \u001b[1mo\u001b[0m . .\n",
      ". \u001b[1mo\u001b[0m \u001b[1mo\u001b[0m \u001b[1m*\u001b[0m \u001b[1m*\u001b[0m \u001b[1m*\u001b[0m \u001b[1mo\u001b[0m . . . . . . \u001b[1mo\u001b[0m \u001b[1m*\u001b[0m \u001b[1mo\u001b[0m . \u001b[1mo\u001b[0m .\n",
      ". \u001b[1mo\u001b[0m \u001b[1m*\u001b[0m \u001b[1mo\u001b[0m \u001b[1mo\u001b[0m . \u001b[1mo\u001b[0m . \u001b[1m*\u001b[0m . \u001b[1mo\u001b[0m \u001b[1mo\u001b[0m \u001b[1mo\u001b[0m . \u001b[1m*\u001b[0m \u001b[1mo\u001b[0m . \u001b[1m*\u001b[0m .\n",
      "\u001b[1m*\u001b[0m \u001b[1m*\u001b[0m \u001b[1m*\u001b[0m \u001b[1m*\u001b[0m \u001b[1mo\u001b[0m \u001b[1mo\u001b[0m . \u001b[1mo\u001b[0m \u001b[1m*\u001b[0m \u001b[1mo\u001b[0m . \u001b[1m*\u001b[0m \u001b[1m*\u001b[0m \u001b[1m*\u001b[0m . \u001b[1m*\u001b[0m \u001b[1mo\u001b[0m . .\n",
      "\u001b[1m*\u001b[0m \u001b[1mo\u001b[0m \u001b[1mo\u001b[0m \u001b[1mo\u001b[0m \u001b[1mo\u001b[0m \u001b[1m*\u001b[0m \u001b[1mo\u001b[0m \u001b[1m*\u001b[0m \u001b[1mo\u001b[0m \u001b[1mo\u001b[0m . . . . . \u001b[1m*\u001b[0m \u001b[1mo\u001b[0m . .\n",
      "\u001b[1m*\u001b[0m \u001b[1m*\u001b[0m . . \u001b[1m*\u001b[0m \u001b[1m*\u001b[0m \u001b[1m*\u001b[0m \u001b[1m*\u001b[0m \u001b[1m*\u001b[0m \u001b[1mo\u001b[0m \u001b[1mo\u001b[0m . \u001b[1mo\u001b[0m . \u001b[1m*\u001b[0m \u001b[1mo\u001b[0m \u001b[1m*\u001b[0m \u001b[1mo\u001b[0m .\n",
      "\u001b[1m*\u001b[0m . \u001b[1mo\u001b[0m \u001b[1mo\u001b[0m . . \u001b[1mo\u001b[0m \u001b[1mo\u001b[0m \u001b[1mo\u001b[0m \u001b[1m*\u001b[0m \u001b[1m*\u001b[0m . . \u001b[1m*\u001b[0m . \u001b[1mo\u001b[0m \u001b[1m*\u001b[0m . \u001b[1m*\u001b[0m\n",
      ". . \u001b[1m*\u001b[0m . \u001b[1m*\u001b[0m \u001b[1m*\u001b[0m \u001b[1m*\u001b[0m . . \u001b[1m*\u001b[0m \u001b[1mo\u001b[0m \u001b[1mo\u001b[0m \u001b[1mo\u001b[0m \u001b[1m*\u001b[0m . \u001b[1mo\u001b[0m \u001b[1m*\u001b[0m . .\n",
      ". \u001b[1m*\u001b[0m . \u001b[1m*\u001b[0m . \u001b[1mo\u001b[0m . . . \u001b[1m*\u001b[0m \u001b[1mo\u001b[0m \u001b[1m*\u001b[0m \u001b[1m*\u001b[0m \u001b[1m*\u001b[0m \u001b[1mo\u001b[0m . \u001b[1mo\u001b[0m \u001b[1m*\u001b[0m .\n",
      ". . . . . . . . . . . . . . . \u001b[1mo\u001b[0m \u001b[1m*\u001b[0m \u001b[1m*\u001b[0m .\n",
      "X . . . . . . . . . . . . . . . . . .\n",
      ". . . . . . . . \u001b[1m*\u001b[0m \u001b[1m*\u001b[0m \u001b[1m*\u001b[0m . . \u001b[1m*\u001b[0m . . . . .\n",
      ". \u001b[1mo\u001b[0m . \u001b[1mo\u001b[0m . . . \u001b[1m*\u001b[0m . \u001b[1m*\u001b[0m \u001b[1mo\u001b[0m \u001b[1m*\u001b[0m \u001b[1m*\u001b[0m \u001b[1mo\u001b[0m \u001b[1mo\u001b[0m . \u001b[1mo\u001b[0m \u001b[1mo\u001b[0m .\n",
      "\u001b[1mo\u001b[0m \u001b[1m*\u001b[0m \u001b[1mo\u001b[0m \u001b[1mo\u001b[0m \u001b[1m*\u001b[0m . . . \u001b[1m*\u001b[0m \u001b[1mo\u001b[0m \u001b[1mo\u001b[0m \u001b[1mo\u001b[0m \u001b[1m*\u001b[0m . \u001b[1mo\u001b[0m \u001b[1m*\u001b[0m \u001b[1mo\u001b[0m \u001b[1m*\u001b[0m \u001b[1mo\u001b[0m\n",
      "\u001b[1m*\u001b[0m . \u001b[1m*\u001b[0m . \u001b[1mo\u001b[0m . . . \u001b[1mo\u001b[0m . . . . \u001b[1m*\u001b[0m \u001b[1mo\u001b[0m \u001b[1mo\u001b[0m \u001b[1m*\u001b[0m \u001b[1m*\u001b[0m .\n",
      ". \u001b[1m*\u001b[0m \u001b[1m*\u001b[0m \u001b[1m*\u001b[0m \u001b[1mo\u001b[0m . . . . . . . . \u001b[1m*\u001b[0m \u001b[1mo\u001b[0m \u001b[1m*\u001b[0m . \u001b[1m*\u001b[0m .\n",
      "\u001b[1m*\u001b[0m . . \u001b[1m*\u001b[0m \u001b[1mo\u001b[0m . . . . . . . . \u001b[1mo\u001b[0m \u001b[1mo\u001b[0m \u001b[1mo\u001b[0m \u001b[1m*\u001b[0m . .\n",
      ". \u001b[1m*\u001b[0m \u001b[1m*\u001b[0m \u001b[1mo\u001b[0m \u001b[1mo\u001b[0m . . . . . . . . . \u001b[1m*\u001b[0m . \u001b[1m*\u001b[0m . .\n",
      "\u001b[1mo\u001b[0m \u001b[1m*\u001b[0m \u001b[1mo\u001b[0m \u001b[1mo\u001b[0m \u001b[1m*\u001b[0m \u001b[1mo\u001b[0m \u001b[1mo\u001b[0m . . . . . . \u001b[1mo\u001b[0m \u001b[1m*\u001b[0m . \u001b[1m*\u001b[0m . .\n",
      ". \u001b[1mo\u001b[0m \u001b[1m*\u001b[0m \u001b[1m*\u001b[0m . \u001b[1m*\u001b[0m \u001b[1mo\u001b[0m . . + . . \u001b[1mo\u001b[0m . \u001b[1mo\u001b[0m \u001b[1mo\u001b[0m \u001b[1mo\u001b[0m . .\n",
      ". \u001b[1mo\u001b[0m \u001b[1mo\u001b[0m \u001b[1m*\u001b[0m \u001b[1m*\u001b[0m \u001b[1m*\u001b[0m \u001b[1mo\u001b[0m . . . . . . \u001b[1mo\u001b[0m \u001b[1m*\u001b[0m \u001b[1mo\u001b[0m . \u001b[1mo\u001b[0m .\n",
      ". \u001b[1mo\u001b[0m \u001b[1m*\u001b[0m \u001b[1mo\u001b[0m \u001b[1mo\u001b[0m . \u001b[1mo\u001b[0m . \u001b[1m*\u001b[0m . \u001b[1mo\u001b[0m \u001b[1mo\u001b[0m \u001b[1mo\u001b[0m . \u001b[1m*\u001b[0m \u001b[1mo\u001b[0m . \u001b[1m*\u001b[0m .\n",
      "\u001b[1m*\u001b[0m \u001b[1m*\u001b[0m \u001b[1m*\u001b[0m \u001b[1m*\u001b[0m \u001b[1mo\u001b[0m \u001b[1mo\u001b[0m . \u001b[1mo\u001b[0m \u001b[1m*\u001b[0m \u001b[1mo\u001b[0m . \u001b[1m*\u001b[0m \u001b[1m*\u001b[0m \u001b[1m*\u001b[0m . \u001b[1m*\u001b[0m \u001b[1mo\u001b[0m . .\n",
      "\u001b[1m*\u001b[0m \u001b[1mo\u001b[0m \u001b[1mo\u001b[0m \u001b[1mo\u001b[0m \u001b[1mo\u001b[0m \u001b[1m*\u001b[0m \u001b[1mo\u001b[0m \u001b[1m*\u001b[0m \u001b[1mo\u001b[0m \u001b[1mo\u001b[0m . . . . . \u001b[1m*\u001b[0m \u001b[1mo\u001b[0m . .\n",
      "\u001b[1m*\u001b[0m \u001b[1m*\u001b[0m . . \u001b[1m*\u001b[0m \u001b[1m*\u001b[0m \u001b[1m*\u001b[0m \u001b[1m*\u001b[0m \u001b[1m*\u001b[0m \u001b[1mo\u001b[0m \u001b[1mo\u001b[0m . \u001b[1mo\u001b[0m . \u001b[1m*\u001b[0m \u001b[1mo\u001b[0m \u001b[1m*\u001b[0m \u001b[1mo\u001b[0m .\n",
      "\u001b[1m*\u001b[0m . \u001b[1mo\u001b[0m \u001b[1mo\u001b[0m . . \u001b[1mo\u001b[0m \u001b[1mo\u001b[0m \u001b[1mo\u001b[0m \u001b[1m*\u001b[0m \u001b[1m*\u001b[0m . . \u001b[1m*\u001b[0m . \u001b[1mo\u001b[0m \u001b[1m*\u001b[0m . \u001b[1m*\u001b[0m\n",
      ". . \u001b[1m*\u001b[0m . \u001b[1m*\u001b[0m \u001b[1m*\u001b[0m \u001b[1m*\u001b[0m . . \u001b[1m*\u001b[0m \u001b[1mo\u001b[0m \u001b[1mo\u001b[0m \u001b[1mo\u001b[0m \u001b[1m*\u001b[0m . \u001b[1mo\u001b[0m \u001b[1m*\u001b[0m . .\n",
      ". \u001b[1m*\u001b[0m . \u001b[1m*\u001b[0m . \u001b[1mo\u001b[0m . . . \u001b[1m*\u001b[0m \u001b[1mo\u001b[0m \u001b[1m*\u001b[0m \u001b[1m*\u001b[0m \u001b[1m*\u001b[0m \u001b[1mo\u001b[0m . \u001b[1mo\u001b[0m \u001b[1m*\u001b[0m .\n",
      ". . . . . . . . . . . . . . . \u001b[1mo\u001b[0m \u001b[1m*\u001b[0m \u001b[1m*\u001b[0m .\n",
      "X . . . . . . . . . . . . . . . . . .\n",
      ". . . . . . . . \u001b[1m*\u001b[0m \u001b[1m*\u001b[0m \u001b[1m*\u001b[0m . . \u001b[1m*\u001b[0m . . . . .\n",
      ". \u001b[1mo\u001b[0m . \u001b[1mo\u001b[0m . . . \u001b[1m*\u001b[0m . \u001b[1m*\u001b[0m \u001b[1mo\u001b[0m \u001b[1m*\u001b[0m \u001b[1m*\u001b[0m \u001b[1mo\u001b[0m \u001b[1mo\u001b[0m . \u001b[1mo\u001b[0m \u001b[1mo\u001b[0m .\n",
      "\u001b[1mo\u001b[0m \u001b[1m*\u001b[0m \u001b[1mo\u001b[0m \u001b[1mo\u001b[0m \u001b[1m*\u001b[0m . . . \u001b[1m*\u001b[0m \u001b[1mo\u001b[0m \u001b[1mo\u001b[0m \u001b[1mo\u001b[0m \u001b[1m*\u001b[0m . \u001b[1mo\u001b[0m \u001b[1m*\u001b[0m \u001b[1mo\u001b[0m \u001b[1m*\u001b[0m \u001b[1mo\u001b[0m\n",
      "\u001b[1m*\u001b[0m . \u001b[1m*\u001b[0m . \u001b[1mo\u001b[0m . . . \u001b[1mo\u001b[0m . . . . \u001b[1m*\u001b[0m \u001b[1mo\u001b[0m \u001b[1mo\u001b[0m \u001b[1m*\u001b[0m \u001b[1m*\u001b[0m .\n",
      ". \u001b[1m*\u001b[0m \u001b[1m*\u001b[0m \u001b[1m*\u001b[0m \u001b[1mo\u001b[0m . . . . . . . . \u001b[1m*\u001b[0m \u001b[1mo\u001b[0m \u001b[1m*\u001b[0m . \u001b[1m*\u001b[0m .\n",
      "\u001b[1m*\u001b[0m . . \u001b[1m*\u001b[0m \u001b[1mo\u001b[0m . . . . . . . . \u001b[1mo\u001b[0m \u001b[1mo\u001b[0m \u001b[1mo\u001b[0m \u001b[1m*\u001b[0m . .\n",
      ". \u001b[1m*\u001b[0m \u001b[1m*\u001b[0m \u001b[1mo\u001b[0m \u001b[1mo\u001b[0m . . . . . . . . . \u001b[1m*\u001b[0m . \u001b[1m*\u001b[0m . .\n",
      "\u001b[1mo\u001b[0m \u001b[1m*\u001b[0m \u001b[1mo\u001b[0m \u001b[1mo\u001b[0m \u001b[1m*\u001b[0m \u001b[1mo\u001b[0m \u001b[1mo\u001b[0m . . . . . . \u001b[1mo\u001b[0m \u001b[1m*\u001b[0m . \u001b[1m*\u001b[0m . .\n",
      ". \u001b[1mo\u001b[0m \u001b[1m*\u001b[0m \u001b[1m*\u001b[0m . \u001b[1m*\u001b[0m \u001b[1mo\u001b[0m . . + . . \u001b[1mo\u001b[0m . \u001b[1mo\u001b[0m \u001b[1mo\u001b[0m \u001b[1mo\u001b[0m . .\n",
      ". \u001b[1mo\u001b[0m \u001b[1mo\u001b[0m \u001b[1m*\u001b[0m \u001b[1m*\u001b[0m \u001b[1m*\u001b[0m \u001b[1mo\u001b[0m . . . . . . \u001b[1mo\u001b[0m \u001b[1m*\u001b[0m \u001b[1mo\u001b[0m . \u001b[1mo\u001b[0m .\n",
      ". \u001b[1mo\u001b[0m \u001b[1m*\u001b[0m \u001b[1mo\u001b[0m \u001b[1mo\u001b[0m . \u001b[1mo\u001b[0m . \u001b[1m*\u001b[0m . \u001b[1mo\u001b[0m \u001b[1mo\u001b[0m \u001b[1mo\u001b[0m . \u001b[1m*\u001b[0m \u001b[1mo\u001b[0m . \u001b[1m*\u001b[0m .\n",
      "\u001b[1m*\u001b[0m \u001b[1m*\u001b[0m \u001b[1m*\u001b[0m \u001b[1m*\u001b[0m \u001b[1mo\u001b[0m \u001b[1mo\u001b[0m . \u001b[1mo\u001b[0m \u001b[1m*\u001b[0m \u001b[1mo\u001b[0m . \u001b[1m*\u001b[0m \u001b[1m*\u001b[0m \u001b[1m*\u001b[0m . \u001b[1m*\u001b[0m \u001b[1mo\u001b[0m . .\n",
      "\u001b[1m*\u001b[0m \u001b[1mo\u001b[0m \u001b[1mo\u001b[0m \u001b[1mo\u001b[0m \u001b[1mo\u001b[0m \u001b[1m*\u001b[0m \u001b[1mo\u001b[0m \u001b[1m*\u001b[0m \u001b[1mo\u001b[0m \u001b[1mo\u001b[0m . . . . . \u001b[1m*\u001b[0m \u001b[1mo\u001b[0m . .\n",
      "\u001b[1m*\u001b[0m \u001b[1m*\u001b[0m . . \u001b[1m*\u001b[0m \u001b[1m*\u001b[0m \u001b[1m*\u001b[0m \u001b[1m*\u001b[0m \u001b[1m*\u001b[0m \u001b[1mo\u001b[0m \u001b[1mo\u001b[0m . \u001b[1mo\u001b[0m . \u001b[1m*\u001b[0m \u001b[1mo\u001b[0m \u001b[1m*\u001b[0m \u001b[1mo\u001b[0m .\n",
      "\u001b[1m*\u001b[0m . \u001b[1mo\u001b[0m \u001b[1mo\u001b[0m . . \u001b[1mo\u001b[0m \u001b[1mo\u001b[0m \u001b[1mo\u001b[0m \u001b[1m*\u001b[0m \u001b[1m*\u001b[0m . . \u001b[1m*\u001b[0m . \u001b[1mo\u001b[0m \u001b[1m*\u001b[0m . \u001b[1m*\u001b[0m\n",
      ". . \u001b[1m*\u001b[0m . \u001b[1m*\u001b[0m \u001b[1m*\u001b[0m \u001b[1m*\u001b[0m . . \u001b[1m*\u001b[0m \u001b[1mo\u001b[0m \u001b[1mo\u001b[0m \u001b[1mo\u001b[0m \u001b[1m*\u001b[0m . \u001b[1mo\u001b[0m \u001b[1m*\u001b[0m . .\n",
      ". \u001b[1m*\u001b[0m . \u001b[1m*\u001b[0m . \u001b[1mo\u001b[0m . . . \u001b[1m*\u001b[0m \u001b[1mo\u001b[0m \u001b[1m*\u001b[0m \u001b[1m*\u001b[0m \u001b[1m*\u001b[0m \u001b[1mo\u001b[0m . \u001b[1mo\u001b[0m \u001b[1m*\u001b[0m .\n",
      ". . . . . . . . . . . . . . . \u001b[1mo\u001b[0m \u001b[1m*\u001b[0m \u001b[1m*\u001b[0m .\n",
      "X . . . . . . . . . . . . . . . . . .\n",
      ". . . . . . . . \u001b[1m*\u001b[0m \u001b[1m*\u001b[0m \u001b[1m*\u001b[0m . . \u001b[1m*\u001b[0m . . . . .\n",
      ". \u001b[1mo\u001b[0m . \u001b[1mo\u001b[0m . . . \u001b[1m*\u001b[0m . \u001b[1m*\u001b[0m \u001b[1mo\u001b[0m \u001b[1m*\u001b[0m \u001b[1m*\u001b[0m \u001b[1mo\u001b[0m \u001b[1mo\u001b[0m . \u001b[1mo\u001b[0m \u001b[1mo\u001b[0m .\n",
      "\u001b[1mo\u001b[0m \u001b[1m*\u001b[0m \u001b[1mo\u001b[0m \u001b[1mo\u001b[0m \u001b[1m*\u001b[0m . . . \u001b[1m*\u001b[0m \u001b[1mo\u001b[0m \u001b[1mo\u001b[0m \u001b[1mo\u001b[0m \u001b[1m*\u001b[0m . \u001b[1mo\u001b[0m \u001b[1m*\u001b[0m \u001b[1mo\u001b[0m \u001b[1m*\u001b[0m \u001b[1mo\u001b[0m\n",
      "\u001b[1m*\u001b[0m . \u001b[1m*\u001b[0m . \u001b[1mo\u001b[0m . . . \u001b[1mo\u001b[0m . . . . \u001b[1m*\u001b[0m \u001b[1mo\u001b[0m \u001b[1mo\u001b[0m \u001b[1m*\u001b[0m \u001b[1m*\u001b[0m .\n",
      ". \u001b[1m*\u001b[0m \u001b[1m*\u001b[0m \u001b[1m*\u001b[0m \u001b[1mo\u001b[0m . . . . . . . . \u001b[1m*\u001b[0m \u001b[1mo\u001b[0m \u001b[1m*\u001b[0m . \u001b[1m*\u001b[0m .\n",
      "\u001b[1m*\u001b[0m . . \u001b[1m*\u001b[0m \u001b[1mo\u001b[0m . . . . . . . . \u001b[1mo\u001b[0m \u001b[1mo\u001b[0m \u001b[1mo\u001b[0m \u001b[1m*\u001b[0m . .\n",
      ". \u001b[1m*\u001b[0m \u001b[1m*\u001b[0m \u001b[1mo\u001b[0m \u001b[1mo\u001b[0m . . . . . . . . . \u001b[1m*\u001b[0m . \u001b[1m*\u001b[0m . .\n",
      "\u001b[1mo\u001b[0m \u001b[1m*\u001b[0m \u001b[1mo\u001b[0m \u001b[1mo\u001b[0m \u001b[1m*\u001b[0m \u001b[1mo\u001b[0m \u001b[1mo\u001b[0m . . . . . . \u001b[1mo\u001b[0m \u001b[1m*\u001b[0m . \u001b[1m*\u001b[0m . .\n",
      ". \u001b[1mo\u001b[0m \u001b[1m*\u001b[0m \u001b[1m*\u001b[0m . \u001b[1m*\u001b[0m \u001b[1mo\u001b[0m . . + . . \u001b[1mo\u001b[0m . \u001b[1mo\u001b[0m \u001b[1mo\u001b[0m \u001b[1mo\u001b[0m . .\n",
      ". \u001b[1mo\u001b[0m \u001b[1mo\u001b[0m \u001b[1m*\u001b[0m \u001b[1m*\u001b[0m \u001b[1m*\u001b[0m \u001b[1mo\u001b[0m . . . . . . \u001b[1mo\u001b[0m \u001b[1m*\u001b[0m \u001b[1mo\u001b[0m . \u001b[1mo\u001b[0m .\n",
      ". \u001b[1mo\u001b[0m \u001b[1m*\u001b[0m \u001b[1mo\u001b[0m \u001b[1mo\u001b[0m . \u001b[1mo\u001b[0m . \u001b[1m*\u001b[0m . \u001b[1mo\u001b[0m \u001b[1mo\u001b[0m \u001b[1mo\u001b[0m . \u001b[1m*\u001b[0m \u001b[1mo\u001b[0m . \u001b[1m*\u001b[0m .\n",
      "\u001b[1m*\u001b[0m \u001b[1m*\u001b[0m \u001b[1m*\u001b[0m \u001b[1m*\u001b[0m \u001b[1mo\u001b[0m \u001b[1mo\u001b[0m . \u001b[1mo\u001b[0m \u001b[1m*\u001b[0m \u001b[1mo\u001b[0m . \u001b[1m*\u001b[0m \u001b[1m*\u001b[0m \u001b[1m*\u001b[0m . \u001b[1m*\u001b[0m \u001b[1mo\u001b[0m . .\n",
      "\u001b[1m*\u001b[0m \u001b[1mo\u001b[0m \u001b[1mo\u001b[0m \u001b[1mo\u001b[0m \u001b[1mo\u001b[0m \u001b[1m*\u001b[0m \u001b[1mo\u001b[0m \u001b[1m*\u001b[0m \u001b[1mo\u001b[0m \u001b[1mo\u001b[0m . . . . . \u001b[1m*\u001b[0m \u001b[1mo\u001b[0m . .\n",
      "\u001b[1m*\u001b[0m \u001b[1m*\u001b[0m . . \u001b[1m*\u001b[0m \u001b[1m*\u001b[0m \u001b[1m*\u001b[0m \u001b[1m*\u001b[0m \u001b[1m*\u001b[0m \u001b[1mo\u001b[0m \u001b[1mo\u001b[0m . \u001b[1mo\u001b[0m . \u001b[1m*\u001b[0m \u001b[1mo\u001b[0m \u001b[1m*\u001b[0m \u001b[1mo\u001b[0m .\n",
      "\u001b[1m*\u001b[0m . \u001b[1mo\u001b[0m \u001b[1mo\u001b[0m . . \u001b[1mo\u001b[0m \u001b[1mo\u001b[0m \u001b[1mo\u001b[0m \u001b[1m*\u001b[0m \u001b[1m*\u001b[0m . . \u001b[1m*\u001b[0m . \u001b[1mo\u001b[0m \u001b[1m*\u001b[0m . \u001b[1m*\u001b[0m\n",
      ". . \u001b[1m*\u001b[0m . \u001b[1m*\u001b[0m \u001b[1m*\u001b[0m \u001b[1m*\u001b[0m . . \u001b[1m*\u001b[0m \u001b[1mo\u001b[0m \u001b[1mo\u001b[0m \u001b[1mo\u001b[0m \u001b[1m*\u001b[0m . \u001b[1mo\u001b[0m \u001b[1m*\u001b[0m . .\n",
      ". \u001b[1m*\u001b[0m . \u001b[1m*\u001b[0m . \u001b[1mo\u001b[0m . . . \u001b[1m*\u001b[0m \u001b[1mo\u001b[0m \u001b[1m*\u001b[0m \u001b[1m*\u001b[0m \u001b[1m*\u001b[0m \u001b[1mo\u001b[0m . \u001b[1mo\u001b[0m \u001b[1m*\u001b[0m .\n",
      ". . . . . . . . . . . . . . . \u001b[1mo\u001b[0m \u001b[1m*\u001b[0m \u001b[1m*\u001b[0m .\n",
      "X . . . . . . . . . . . . . . . . . .\n",
      ". . . . . . . . \u001b[1m*\u001b[0m \u001b[1m*\u001b[0m \u001b[1m*\u001b[0m . . \u001b[1m*\u001b[0m . . . . .\n",
      ". \u001b[1mo\u001b[0m . \u001b[1mo\u001b[0m . . . \u001b[1m*\u001b[0m . \u001b[1m*\u001b[0m \u001b[1mo\u001b[0m \u001b[1m*\u001b[0m \u001b[1m*\u001b[0m \u001b[1mo\u001b[0m \u001b[1mo\u001b[0m . \u001b[1mo\u001b[0m \u001b[1mo\u001b[0m .\n",
      "\u001b[1mo\u001b[0m \u001b[1m*\u001b[0m \u001b[1mo\u001b[0m \u001b[1mo\u001b[0m \u001b[1m*\u001b[0m . . . \u001b[1m*\u001b[0m \u001b[1mo\u001b[0m \u001b[1mo\u001b[0m \u001b[1mo\u001b[0m \u001b[1m*\u001b[0m . \u001b[1mo\u001b[0m \u001b[1m*\u001b[0m \u001b[1mo\u001b[0m \u001b[1m*\u001b[0m \u001b[1mo\u001b[0m\n",
      "\u001b[1m*\u001b[0m . \u001b[1m*\u001b[0m . \u001b[1mo\u001b[0m . . . \u001b[1mo\u001b[0m . . . . \u001b[1m*\u001b[0m \u001b[1mo\u001b[0m \u001b[1mo\u001b[0m \u001b[1m*\u001b[0m \u001b[1m*\u001b[0m .\n",
      ". \u001b[1m*\u001b[0m \u001b[1m*\u001b[0m \u001b[1m*\u001b[0m \u001b[1mo\u001b[0m . . . . . . . . \u001b[1m*\u001b[0m \u001b[1mo\u001b[0m \u001b[1m*\u001b[0m . \u001b[1m*\u001b[0m .\n",
      "\u001b[1m*\u001b[0m . . \u001b[1m*\u001b[0m \u001b[1mo\u001b[0m . . . . . . . . \u001b[1mo\u001b[0m \u001b[1mo\u001b[0m \u001b[1mo\u001b[0m \u001b[1m*\u001b[0m . .\n",
      ". \u001b[1m*\u001b[0m \u001b[1m*\u001b[0m \u001b[1mo\u001b[0m \u001b[1mo\u001b[0m . . . . . . . . . \u001b[1m*\u001b[0m . \u001b[1m*\u001b[0m . .\n",
      "\u001b[1mo\u001b[0m \u001b[1m*\u001b[0m \u001b[1mo\u001b[0m \u001b[1mo\u001b[0m \u001b[1m*\u001b[0m \u001b[1mo\u001b[0m \u001b[1mo\u001b[0m . . . . . . \u001b[1mo\u001b[0m \u001b[1m*\u001b[0m . \u001b[1m*\u001b[0m . .\n",
      ". \u001b[1mo\u001b[0m \u001b[1m*\u001b[0m \u001b[1m*\u001b[0m . \u001b[1m*\u001b[0m \u001b[1mo\u001b[0m . . + . . \u001b[1mo\u001b[0m . \u001b[1mo\u001b[0m \u001b[1mo\u001b[0m \u001b[1mo\u001b[0m . .\n",
      ". \u001b[1mo\u001b[0m \u001b[1mo\u001b[0m \u001b[1m*\u001b[0m \u001b[1m*\u001b[0m \u001b[1m*\u001b[0m \u001b[1mo\u001b[0m . . . . . . \u001b[1mo\u001b[0m \u001b[1m*\u001b[0m \u001b[1mo\u001b[0m . \u001b[1mo\u001b[0m .\n",
      ". \u001b[1mo\u001b[0m \u001b[1m*\u001b[0m \u001b[1mo\u001b[0m \u001b[1mo\u001b[0m . \u001b[1mo\u001b[0m . \u001b[1m*\u001b[0m . \u001b[1mo\u001b[0m \u001b[1mo\u001b[0m \u001b[1mo\u001b[0m . \u001b[1m*\u001b[0m \u001b[1mo\u001b[0m . \u001b[1m*\u001b[0m .\n",
      "\u001b[1m*\u001b[0m \u001b[1m*\u001b[0m \u001b[1m*\u001b[0m \u001b[1m*\u001b[0m \u001b[1mo\u001b[0m \u001b[1mo\u001b[0m . \u001b[1mo\u001b[0m \u001b[1m*\u001b[0m \u001b[1mo\u001b[0m . \u001b[1m*\u001b[0m \u001b[1m*\u001b[0m \u001b[1m*\u001b[0m . \u001b[1m*\u001b[0m \u001b[1mo\u001b[0m . .\n",
      "\u001b[1m*\u001b[0m \u001b[1mo\u001b[0m \u001b[1mo\u001b[0m \u001b[1mo\u001b[0m \u001b[1mo\u001b[0m \u001b[1m*\u001b[0m \u001b[1mo\u001b[0m \u001b[1m*\u001b[0m \u001b[1mo\u001b[0m \u001b[1mo\u001b[0m . . . . . \u001b[1m*\u001b[0m \u001b[1mo\u001b[0m . .\n",
      "\u001b[1m*\u001b[0m \u001b[1m*\u001b[0m . . \u001b[1m*\u001b[0m \u001b[1m*\u001b[0m \u001b[1m*\u001b[0m \u001b[1m*\u001b[0m \u001b[1m*\u001b[0m \u001b[1mo\u001b[0m \u001b[1mo\u001b[0m . \u001b[1mo\u001b[0m . \u001b[1m*\u001b[0m \u001b[1mo\u001b[0m \u001b[1m*\u001b[0m \u001b[1mo\u001b[0m .\n",
      "\u001b[1m*\u001b[0m . \u001b[1mo\u001b[0m \u001b[1mo\u001b[0m . . \u001b[1mo\u001b[0m \u001b[1mo\u001b[0m \u001b[1mo\u001b[0m \u001b[1m*\u001b[0m \u001b[1m*\u001b[0m . . \u001b[1m*\u001b[0m . \u001b[1mo\u001b[0m \u001b[1m*\u001b[0m . \u001b[1m*\u001b[0m\n",
      ". . \u001b[1m*\u001b[0m . \u001b[1m*\u001b[0m \u001b[1m*\u001b[0m \u001b[1m*\u001b[0m . . \u001b[1m*\u001b[0m \u001b[1mo\u001b[0m \u001b[1mo\u001b[0m \u001b[1mo\u001b[0m \u001b[1m*\u001b[0m . \u001b[1mo\u001b[0m \u001b[1m*\u001b[0m . .\n",
      ". \u001b[1m*\u001b[0m . \u001b[1m*\u001b[0m . \u001b[1mo\u001b[0m . . . \u001b[1m*\u001b[0m \u001b[1mo\u001b[0m \u001b[1m*\u001b[0m \u001b[1m*\u001b[0m \u001b[1m*\u001b[0m \u001b[1mo\u001b[0m . \u001b[1mo\u001b[0m \u001b[1m*\u001b[0m .\n",
      ". . . . . . . . . . . . . . . \u001b[1mo\u001b[0m \u001b[1m*\u001b[0m \u001b[1m*\u001b[0m .\n",
      "X . . . . . . . . . . . . . . . . . .\n",
      ". . . . . . . . \u001b[1m*\u001b[0m \u001b[1m*\u001b[0m \u001b[1m*\u001b[0m . . \u001b[1m*\u001b[0m . . . . .\n",
      ". \u001b[1mo\u001b[0m . \u001b[1mo\u001b[0m . . . \u001b[1m*\u001b[0m . \u001b[1m*\u001b[0m \u001b[1mo\u001b[0m \u001b[1m*\u001b[0m \u001b[1m*\u001b[0m \u001b[1mo\u001b[0m \u001b[1mo\u001b[0m . \u001b[1mo\u001b[0m \u001b[1mo\u001b[0m .\n",
      "\u001b[1mo\u001b[0m \u001b[1m*\u001b[0m \u001b[1mo\u001b[0m \u001b[1mo\u001b[0m \u001b[1m*\u001b[0m . . . \u001b[1m*\u001b[0m \u001b[1mo\u001b[0m \u001b[1mo\u001b[0m \u001b[1mo\u001b[0m \u001b[1m*\u001b[0m . \u001b[1mo\u001b[0m \u001b[1m*\u001b[0m \u001b[1mo\u001b[0m \u001b[1m*\u001b[0m \u001b[1mo\u001b[0m\n",
      "\u001b[1m*\u001b[0m . \u001b[1m*\u001b[0m . \u001b[1mo\u001b[0m . . . \u001b[1mo\u001b[0m . . . . \u001b[1m*\u001b[0m \u001b[1mo\u001b[0m \u001b[1mo\u001b[0m \u001b[1m*\u001b[0m \u001b[1m*\u001b[0m .\n",
      ". \u001b[1m*\u001b[0m \u001b[1m*\u001b[0m \u001b[1m*\u001b[0m \u001b[1mo\u001b[0m . . . . . . . . \u001b[1m*\u001b[0m \u001b[1mo\u001b[0m \u001b[1m*\u001b[0m . \u001b[1m*\u001b[0m .\n",
      "\u001b[1m*\u001b[0m . . \u001b[1m*\u001b[0m \u001b[1mo\u001b[0m . . . . . . . . \u001b[1mo\u001b[0m \u001b[1mo\u001b[0m \u001b[1mo\u001b[0m \u001b[1m*\u001b[0m . .\n",
      ". \u001b[1m*\u001b[0m \u001b[1m*\u001b[0m \u001b[1mo\u001b[0m \u001b[1mo\u001b[0m . . . . . . . . . \u001b[1m*\u001b[0m . \u001b[1m*\u001b[0m . .\n",
      "\u001b[1mo\u001b[0m \u001b[1m*\u001b[0m \u001b[1mo\u001b[0m \u001b[1mo\u001b[0m \u001b[1m*\u001b[0m \u001b[1mo\u001b[0m \u001b[1mo\u001b[0m . . . . . . \u001b[1mo\u001b[0m \u001b[1m*\u001b[0m . \u001b[1m*\u001b[0m . .\n",
      ". \u001b[1mo\u001b[0m \u001b[1m*\u001b[0m \u001b[1m*\u001b[0m . \u001b[1m*\u001b[0m \u001b[1mo\u001b[0m . . + . . \u001b[1mo\u001b[0m . \u001b[1mo\u001b[0m \u001b[1mo\u001b[0m \u001b[1mo\u001b[0m . .\n",
      ". \u001b[1mo\u001b[0m \u001b[1mo\u001b[0m \u001b[1m*\u001b[0m \u001b[1m*\u001b[0m \u001b[1m*\u001b[0m \u001b[1mo\u001b[0m . . . . . . \u001b[1mo\u001b[0m \u001b[1m*\u001b[0m \u001b[1mo\u001b[0m . \u001b[1mo\u001b[0m .\n",
      ". \u001b[1mo\u001b[0m \u001b[1m*\u001b[0m \u001b[1mo\u001b[0m \u001b[1mo\u001b[0m . \u001b[1mo\u001b[0m . \u001b[1m*\u001b[0m . \u001b[1mo\u001b[0m \u001b[1mo\u001b[0m \u001b[1mo\u001b[0m . \u001b[1m*\u001b[0m \u001b[1mo\u001b[0m . \u001b[1m*\u001b[0m .\n",
      "\u001b[1m*\u001b[0m \u001b[1m*\u001b[0m \u001b[1m*\u001b[0m \u001b[1m*\u001b[0m \u001b[1mo\u001b[0m \u001b[1mo\u001b[0m . \u001b[1mo\u001b[0m \u001b[1m*\u001b[0m \u001b[1mo\u001b[0m . \u001b[1m*\u001b[0m \u001b[1m*\u001b[0m \u001b[1m*\u001b[0m . \u001b[1m*\u001b[0m \u001b[1mo\u001b[0m . .\n",
      "\u001b[1m*\u001b[0m \u001b[1mo\u001b[0m \u001b[1mo\u001b[0m \u001b[1mo\u001b[0m \u001b[1mo\u001b[0m \u001b[1m*\u001b[0m \u001b[1mo\u001b[0m \u001b[1m*\u001b[0m \u001b[1mo\u001b[0m \u001b[1mo\u001b[0m . . . . . \u001b[1m*\u001b[0m \u001b[1mo\u001b[0m . .\n",
      "\u001b[1m*\u001b[0m \u001b[1m*\u001b[0m . . \u001b[1m*\u001b[0m \u001b[1m*\u001b[0m \u001b[1m*\u001b[0m \u001b[1m*\u001b[0m \u001b[1m*\u001b[0m \u001b[1mo\u001b[0m \u001b[1mo\u001b[0m . \u001b[1mo\u001b[0m . \u001b[1m*\u001b[0m \u001b[1mo\u001b[0m \u001b[1m*\u001b[0m \u001b[1mo\u001b[0m .\n",
      "\u001b[1m*\u001b[0m . \u001b[1mo\u001b[0m \u001b[1mo\u001b[0m . . \u001b[1mo\u001b[0m \u001b[1mo\u001b[0m \u001b[1mo\u001b[0m \u001b[1m*\u001b[0m \u001b[1m*\u001b[0m . . \u001b[1m*\u001b[0m . \u001b[1mo\u001b[0m \u001b[1m*\u001b[0m . \u001b[1m*\u001b[0m\n",
      ". . \u001b[1m*\u001b[0m . \u001b[1m*\u001b[0m \u001b[1m*\u001b[0m \u001b[1m*\u001b[0m . . \u001b[1m*\u001b[0m \u001b[1mo\u001b[0m \u001b[1mo\u001b[0m \u001b[1mo\u001b[0m \u001b[1m*\u001b[0m . \u001b[1mo\u001b[0m \u001b[1m*\u001b[0m . .\n",
      ". \u001b[1m*\u001b[0m . \u001b[1m*\u001b[0m . \u001b[1mo\u001b[0m . . . \u001b[1m*\u001b[0m \u001b[1mo\u001b[0m \u001b[1m*\u001b[0m \u001b[1m*\u001b[0m \u001b[1m*\u001b[0m \u001b[1mo\u001b[0m . \u001b[1mo\u001b[0m \u001b[1m*\u001b[0m .\n",
      ". . . . . . . . . . . . . . . \u001b[1mo\u001b[0m \u001b[1m*\u001b[0m \u001b[1m*\u001b[0m .\n",
      "X . . . . . . . . . . . . . . . . . .\n",
      ". . . . . . . . \u001b[1m*\u001b[0m \u001b[1m*\u001b[0m \u001b[1m*\u001b[0m . . \u001b[1m*\u001b[0m . . . . .\n",
      ". \u001b[1mo\u001b[0m . \u001b[1mo\u001b[0m . . . \u001b[1m*\u001b[0m . \u001b[1m*\u001b[0m \u001b[1mo\u001b[0m \u001b[1m*\u001b[0m \u001b[1m*\u001b[0m \u001b[1mo\u001b[0m \u001b[1mo\u001b[0m . \u001b[1mo\u001b[0m \u001b[1mo\u001b[0m .\n",
      "\u001b[1mo\u001b[0m \u001b[1m*\u001b[0m \u001b[1mo\u001b[0m \u001b[1mo\u001b[0m \u001b[1m*\u001b[0m . . . \u001b[1m*\u001b[0m \u001b[1mo\u001b[0m \u001b[1mo\u001b[0m \u001b[1mo\u001b[0m \u001b[1m*\u001b[0m . \u001b[1mo\u001b[0m \u001b[1m*\u001b[0m \u001b[1mo\u001b[0m \u001b[1m*\u001b[0m \u001b[1mo\u001b[0m\n",
      "\u001b[1m*\u001b[0m . \u001b[1m*\u001b[0m . \u001b[1mo\u001b[0m . . . \u001b[1mo\u001b[0m . . . . \u001b[1m*\u001b[0m \u001b[1mo\u001b[0m \u001b[1mo\u001b[0m \u001b[1m*\u001b[0m \u001b[1m*\u001b[0m .\n",
      ". \u001b[1m*\u001b[0m \u001b[1m*\u001b[0m \u001b[1m*\u001b[0m \u001b[1mo\u001b[0m . . . . . . . . \u001b[1m*\u001b[0m \u001b[1mo\u001b[0m \u001b[1m*\u001b[0m . \u001b[1m*\u001b[0m .\n",
      "\u001b[1m*\u001b[0m . . \u001b[1m*\u001b[0m \u001b[1mo\u001b[0m . . . . . . . . \u001b[1mo\u001b[0m \u001b[1mo\u001b[0m \u001b[1mo\u001b[0m \u001b[1m*\u001b[0m . .\n",
      ". \u001b[1m*\u001b[0m \u001b[1m*\u001b[0m \u001b[1mo\u001b[0m \u001b[1mo\u001b[0m . . . . . . . . . \u001b[1m*\u001b[0m . \u001b[1m*\u001b[0m . .\n",
      "\u001b[1mo\u001b[0m \u001b[1m*\u001b[0m \u001b[1mo\u001b[0m \u001b[1mo\u001b[0m \u001b[1m*\u001b[0m \u001b[1mo\u001b[0m \u001b[1mo\u001b[0m . . . . . . \u001b[1mo\u001b[0m \u001b[1m*\u001b[0m . \u001b[1m*\u001b[0m . .\n",
      ". \u001b[1mo\u001b[0m \u001b[1m*\u001b[0m \u001b[1m*\u001b[0m . \u001b[1m*\u001b[0m \u001b[1mo\u001b[0m . . + . . \u001b[1mo\u001b[0m . \u001b[1mo\u001b[0m \u001b[1mo\u001b[0m \u001b[1mo\u001b[0m . .\n",
      ". \u001b[1mo\u001b[0m \u001b[1mo\u001b[0m \u001b[1m*\u001b[0m \u001b[1m*\u001b[0m \u001b[1m*\u001b[0m \u001b[1mo\u001b[0m . . . . . . \u001b[1mo\u001b[0m \u001b[1m*\u001b[0m \u001b[1mo\u001b[0m . \u001b[1mo\u001b[0m .\n",
      ". \u001b[1mo\u001b[0m \u001b[1m*\u001b[0m \u001b[1mo\u001b[0m \u001b[1mo\u001b[0m . \u001b[1mo\u001b[0m . \u001b[1m*\u001b[0m . \u001b[1mo\u001b[0m \u001b[1mo\u001b[0m \u001b[1mo\u001b[0m . \u001b[1m*\u001b[0m \u001b[1mo\u001b[0m . \u001b[1m*\u001b[0m .\n",
      "\u001b[1m*\u001b[0m \u001b[1m*\u001b[0m \u001b[1m*\u001b[0m \u001b[1m*\u001b[0m \u001b[1mo\u001b[0m \u001b[1mo\u001b[0m . \u001b[1mo\u001b[0m \u001b[1m*\u001b[0m \u001b[1mo\u001b[0m . \u001b[1m*\u001b[0m \u001b[1m*\u001b[0m \u001b[1m*\u001b[0m . \u001b[1m*\u001b[0m \u001b[1mo\u001b[0m . .\n",
      "\u001b[1m*\u001b[0m \u001b[1mo\u001b[0m \u001b[1mo\u001b[0m \u001b[1mo\u001b[0m \u001b[1mo\u001b[0m \u001b[1m*\u001b[0m \u001b[1mo\u001b[0m \u001b[1m*\u001b[0m \u001b[1mo\u001b[0m \u001b[1mo\u001b[0m . . . . . \u001b[1m*\u001b[0m \u001b[1mo\u001b[0m . .\n",
      "\u001b[1m*\u001b[0m \u001b[1m*\u001b[0m . . \u001b[1m*\u001b[0m \u001b[1m*\u001b[0m \u001b[1m*\u001b[0m \u001b[1m*\u001b[0m \u001b[1m*\u001b[0m \u001b[1mo\u001b[0m \u001b[1mo\u001b[0m . \u001b[1mo\u001b[0m . \u001b[1m*\u001b[0m \u001b[1mo\u001b[0m \u001b[1m*\u001b[0m \u001b[1mo\u001b[0m .\n",
      "\u001b[1m*\u001b[0m . \u001b[1mo\u001b[0m \u001b[1mo\u001b[0m . . \u001b[1mo\u001b[0m \u001b[1mo\u001b[0m \u001b[1mo\u001b[0m \u001b[1m*\u001b[0m \u001b[1m*\u001b[0m . . \u001b[1m*\u001b[0m . \u001b[1mo\u001b[0m \u001b[1m*\u001b[0m . \u001b[1m*\u001b[0m\n",
      ". . \u001b[1m*\u001b[0m . \u001b[1m*\u001b[0m \u001b[1m*\u001b[0m \u001b[1m*\u001b[0m . . \u001b[1m*\u001b[0m \u001b[1mo\u001b[0m \u001b[1mo\u001b[0m \u001b[1mo\u001b[0m \u001b[1m*\u001b[0m . \u001b[1mo\u001b[0m \u001b[1m*\u001b[0m . .\n",
      ". \u001b[1m*\u001b[0m . \u001b[1m*\u001b[0m . \u001b[1mo\u001b[0m . . . \u001b[1m*\u001b[0m \u001b[1mo\u001b[0m \u001b[1m*\u001b[0m \u001b[1m*\u001b[0m \u001b[1m*\u001b[0m \u001b[1mo\u001b[0m . \u001b[1mo\u001b[0m \u001b[1m*\u001b[0m .\n",
      ". . . . . . . . . . . . . . . \u001b[1mo\u001b[0m \u001b[1m*\u001b[0m \u001b[1m*\u001b[0m .\n"
     ]
    }
   ],
   "source": [
    "liste_des_etats_de_jeu=move2(19,moves)\n",
    "i =0\n",
    "while i<10:\n",
    "    view = View(liste_des_etats_de_jeu[i])\n",
    "    print view\n",
    "    i=i+1"
   ]
  },
  {
   "cell_type": "code",
   "execution_count": 178,
   "metadata": {
    "collapsed": false
   },
   "outputs": [
    {
     "data": {
      "text/plain": [
       "<go.board.Board at 0x62602e8>"
      ]
     },
     "execution_count": 178,
     "metadata": {},
     "output_type": "execute_result"
    }
   ],
   "source": [
    "board2"
   ]
  },
  {
   "cell_type": "code",
   "execution_count": 142,
   "metadata": {
    "collapsed": false
   },
   "outputs": [
    {
     "name": "stdout",
     "output_type": "stream",
     "text": [
      "(Black, White)\n"
     ]
    }
   ],
   "source": [
    "print board2.TURNS"
   ]
  },
  {
   "cell_type": "code",
   "execution_count": 143,
   "metadata": {
    "collapsed": false
   },
   "outputs": [
    {
     "name": "stdout",
     "output_type": "stream",
     "text": [
      "Black\n"
     ]
    }
   ],
   "source": [
    "board3=Board(19)\n",
    "print board3.turn\n"
   ]
  },
  {
   "cell_type": "code",
   "execution_count": 152,
   "metadata": {
    "collapsed": false
   },
   "outputs": [
    {
     "data": {
      "text/plain": [
       "State(board=[[Empty, Empty, Empty, Empty, Empty, Empty, Empty, Empty, Empty, Empty, Empty, Empty, Empty, Empty, Empty, Empty, Empty, Empty, Empty], [Empty, Empty, Empty, Empty, Empty, Empty, Empty, Empty, Empty, Empty, Empty, Empty, Empty, Empty, Empty, Empty, Empty, Empty, Empty], [Empty, Empty, Empty, Empty, Empty, Empty, Empty, Empty, Empty, Empty, Empty, Empty, Empty, Empty, Empty, Empty, Empty, Empty, Empty], [Empty, Empty, Empty, Empty, Empty, Empty, Empty, Empty, Empty, Empty, Empty, Empty, Empty, Empty, Empty, Empty, Empty, Empty, Empty], [Empty, Empty, Empty, Empty, Empty, Empty, Empty, Empty, Empty, Empty, Empty, Empty, Empty, Empty, Empty, Empty, Empty, Empty, Empty], [Empty, Empty, Empty, Empty, Empty, Empty, Empty, Empty, Empty, Empty, Empty, Empty, Empty, Empty, Empty, Empty, Empty, Empty, Empty], [Empty, Empty, Empty, Empty, Empty, Empty, Empty, Empty, Empty, Empty, Empty, Empty, Empty, Empty, Empty, Empty, Empty, Empty, Empty], [Empty, Empty, Empty, Empty, Empty, Empty, Empty, Empty, Empty, Empty, Empty, Empty, Empty, Empty, Empty, Empty, Empty, Empty, Empty], [Empty, Empty, Empty, Empty, Empty, Empty, Empty, Empty, Empty, Empty, Empty, Empty, Empty, Empty, Empty, Empty, Empty, Empty, Empty], [Empty, Empty, Empty, Empty, Empty, Empty, Empty, Empty, Empty, Empty, Empty, Empty, Empty, Empty, Empty, Empty, Empty, Empty, Empty], [Empty, Empty, Empty, Empty, Empty, Empty, Empty, Empty, Empty, Empty, Empty, Empty, Empty, Empty, Empty, Empty, Empty, Empty, Empty], [Empty, Empty, Empty, Empty, Empty, Empty, Empty, Empty, Empty, Empty, Empty, Empty, Empty, Empty, Empty, Empty, Empty, Empty, Empty], [Empty, Empty, Empty, Empty, Empty, Empty, Empty, Empty, Empty, Empty, Empty, Empty, Empty, Empty, Empty, Empty, Empty, Empty, Empty], [Empty, Empty, Empty, Empty, Empty, Empty, Empty, Empty, Empty, Empty, Empty, Empty, Empty, Empty, Empty, Empty, Empty, Empty, Empty], [Empty, Empty, Empty, Empty, Empty, Empty, Empty, Empty, Empty, Empty, Empty, Empty, Empty, Empty, Empty, Empty, Empty, Empty, Empty], [Empty, Empty, Empty, Empty, Empty, Empty, Empty, Empty, Empty, Empty, Empty, Empty, Empty, Empty, Empty, Empty, Empty, Empty, Empty], [Empty, Empty, Empty, Empty, Empty, Empty, Empty, Empty, Empty, Empty, Empty, Empty, Empty, Empty, Empty, Empty, Empty, Empty, Empty], [Empty, Empty, Empty, Empty, Empty, Empty, Empty, Empty, Empty, Empty, Empty, Empty, Empty, Empty, Empty, Empty, Empty, Empty, Empty], [Empty, Empty, Empty, Empty, Empty, Empty, Empty, Empty, Empty, Empty, Empty, Empty, Empty, Empty, Empty, Empty, Empty, Empty, Empty]], turn=Black, score={White: 0, Black: 0})"
      ]
     },
     "execution_count": 152,
     "metadata": {},
     "output_type": "execute_result"
    }
   ],
   "source": [
    "board3._state"
   ]
  },
  {
   "cell_type": "code",
   "execution_count": 164,
   "metadata": {
    "collapsed": true
   },
   "outputs": [],
   "source": [
    "from copy import copy\n"
   ]
  },
  {
   "cell_type": "code",
   "execution_count": null,
   "metadata": {
    "collapsed": true
   },
   "outputs": [],
   "source": []
  }
 ],
 "metadata": {
  "anaconda-cloud": {},
  "kernelspec": {
   "display_name": "Python [default]",
   "language": "python",
   "name": "python2"
  },
  "language_info": {
   "codemirror_mode": {
    "name": "ipython",
    "version": 2
   },
   "file_extension": ".py",
   "mimetype": "text/x-python",
   "name": "python",
   "nbconvert_exporter": "python",
   "pygments_lexer": "ipython2",
   "version": "2.7.12"
  }
 },
 "nbformat": 4,
 "nbformat_minor": 1
}
